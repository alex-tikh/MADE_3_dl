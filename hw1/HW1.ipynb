{
 "cells": [
  {
   "cell_type": "markdown",
   "id": "actual-adoption",
   "metadata": {},
   "source": [
    "# RL and Advanced DL: Домашнее задание 1"
   ]
  },
  {
   "cell_type": "markdown",
   "id": "successful-structure",
   "metadata": {},
   "source": [
    "Первое ДЗ связано с обучением с подкреплением, и оно придумано для ситуации, когда\n",
    "нейронные сети ещё не нужны, и пространство состояний в целом достаточно маленькое,\n",
    "чтобы можно было обучить хорошую стратегию методами TD-обучения или другими\n",
    "методами обучения с подкреплением. Задание получилось, надеюсь, интересное, но в том\n",
    "числе и достаточно техническое, так что для решения придётся немножко\n",
    "попрограммировать. Поэтому в качестве решения ожидается ссылка на jupyter-ноутбук\n",
    "на вашем github (или публичный, или с доступом для snikolenko); ссылку\n",
    "обязательно нужно прислать в виде сданного домашнего задания на портале\n",
    "Академии. Любые комментарии, новые идеи и рассуждения на тему, как всегда,\n",
    "категорически приветствуются."
   ]
  },
  {
   "cell_type": "markdown",
   "id": "great-breach",
   "metadata": {},
   "source": [
    "## Часть первая, с блекджеком и стратегиями"
   ]
  },
  {
   "cell_type": "markdown",
   "id": "simplified-reach",
   "metadata": {},
   "source": [
    "Мы будем обучаться играть в очень простую, но знаменитую и популярную игру: блекджек. Правила блекджека достаточно просты; давайте начнём с самой базовой версии, которая\n",
    "реализована в OpenAI Gym:\n",
    "\n",
    "* численные значения карт равны от 2 до 10 для карт от двойки до десятки, 10 для\n",
    "валетов, дам и королей;\n",
    "* туз считается за 11 очков, если общая сумма карт на руке при этом не превосходит\n",
    "21 (по-английски в этом случае говорят, что на руке есть usable ace), и за 1 очко,\n",
    "если превосходит;\n",
    "* игроку раздаются две карты, дилеру — одна в открытую и одна в закрытую;\n",
    "* игрок может совершать одно из двух действий:\n",
    "    * hit — взять ещё одну карту;\n",
    "    * stand — не брать больше карт;\n",
    "* если сумма очков у игрока на руках больше 21, он проигрывает (bust);\n",
    "* если игрок выбирает stand с суммой не больше 21, дилер добирает карты, пока\n",
    "сумма карт в его руке меньше 17;\n",
    "*  после этого игрок выигрывает, если дилер либо превышает 21, либо получает\n",
    "сумму очков меньше, чем сумма очков у игрока; при равенстве очков объявляется\n",
    "ничья (ставка возвращается);\n",
    "*  в исходных правилах есть ещё дополнительный бонус за natural blackjack: если\n",
    "игрок набирает 21 очко с раздачи, двумя картами, он выигрывает не +1, а +1.5\n",
    "(полторы ставки).\n",
    "\n",
    "\n",
    "Именно этот простейший вариант блекджека реализован в OpenAI Gym:\n",
    "https://github.com/openai/gym/blob/master/gym/envs/toy_text/blackjack.py"
   ]
  },
  {
   "cell_type": "code",
   "execution_count": 1,
   "id": "medieval-daily",
   "metadata": {},
   "outputs": [],
   "source": [
    "import gym\n",
    "from collections import defaultdict\n",
    "import tqdm\n",
    "import numpy as np\n",
    "import itertools\n",
    "import matplotlib.pyplot as plt"
   ]
  },
  {
   "cell_type": "code",
   "execution_count": 2,
   "id": "small-repository",
   "metadata": {},
   "outputs": [],
   "source": [
    "env = gym.make('Blackjack-v0', natural=True)"
   ]
  },
  {
   "cell_type": "code",
   "execution_count": 3,
   "id": "incorporated-smart",
   "metadata": {},
   "outputs": [
    {
     "name": "stdout",
     "output_type": "stream",
     "text": [
      "observation: (16, 1, False)\n",
      "observation: (17, 1, False), reward: 0.0, done: False\n",
      "observation: (26, 1, False), reward: -1.0, done: True\n"
     ]
    }
   ],
   "source": [
    "observation = env.reset()\n",
    "print(f'observation: {observation}')\n",
    "done = False\n",
    "while not done:\n",
    "    if observation[0] < 19:\n",
    "        observation, reward, done, _ = env.step(1)\n",
    "        print(f\"observation: {observation}, reward: {reward}, done: {done}\")\n",
    "    else:\n",
    "        observation, reward, done, _ = env.step(0)\n",
    "        print(f\"observation: {observation}, reward: {reward}, done: {done}\")\n",
    "    "
   ]
  },
  {
   "cell_type": "code",
   "execution_count": 4,
   "id": "thirty-fraud",
   "metadata": {},
   "outputs": [],
   "source": [
    "def run_episode(env, pi, eps=.01):\n",
    "    observation = env.reset()\n",
    "    s_id = states_to_idx[observation]\n",
    "    # states, rewards, actions = [], [], []\n",
    "    done = False\n",
    "    \n",
    "    while not done:\n",
    "        # epsilon policy\n",
    "        action = pi[s_id] if np.random.rand() > eps else env.action_space.sample()\n",
    "        # states.append(observation)\n",
    "        # actions.append(action)\n",
    "        observation, reward, done, _ = env.step(action)\n",
    "        s_id = states_to_idx[observation]\n",
    "        # rewards.append(reward)\n",
    "\n",
    "    return reward"
   ]
  },
  {
   "cell_type": "markdown",
   "id": "simplified-collection",
   "metadata": {},
   "source": [
    "### 1.1 Рассмотрим очень простую стратегию: говорить stand, если у нас на руках комбинация в 19, 20 или 21 очко, во всех остальных случаях говорить hit. Используйте методы Монте-Карло, чтобы оценить выигрыш от этой стратегии."
   ]
  },
  {
   "cell_type": "code",
   "execution_count": 5,
   "id": "rocky-acrobat",
   "metadata": {},
   "outputs": [],
   "source": [
    "# в дискретном пространстве состояний можно записать стратегию \n",
    "# как словарь состоягие -> действие\n",
    "\n",
    "states_list = list(\n",
    "    itertools.product(\n",
    "        range(2, 33), # the players current sum, 32 для Q learning !!!!!!!!\n",
    "        range(1, 11), # the dealer's one showing card (1-10 where 1 is ace),\n",
    "        (True, False) # the player holds a usable ace\n",
    "    )\n",
    ")"
   ]
  },
  {
   "cell_type": "code",
   "execution_count": 6,
   "id": "exotic-terminology",
   "metadata": {},
   "outputs": [],
   "source": [
    "states_to_idx = {state: i for i, state in enumerate(states_list)}"
   ]
  },
  {
   "cell_type": "code",
   "execution_count": 7,
   "id": "dressed-retention",
   "metadata": {},
   "outputs": [],
   "source": [
    "# если сумма меньше 19, то hit\n",
    "pi = {\n",
    "    states_to_idx[state]: int(state[0] < 19)\n",
    "    for state in states_list\n",
    "}"
   ]
  },
  {
   "cell_type": "code",
   "execution_count": 8,
   "id": "fatty-canvas",
   "metadata": {},
   "outputs": [],
   "source": [
    "def avg_reward(env, pi, epochs=100000):\n",
    "    sum_reward = 0\n",
    "    cnt = 0\n",
    "    for _ in tqdm.tqdm(range(epochs)):\n",
    "        cnt += 1\n",
    "        reward = run_episode(env, pi, eps=0.)\n",
    "        sum_reward += reward\n",
    "    return sum_reward / cnt"
   ]
  },
  {
   "cell_type": "code",
   "execution_count": 9,
   "id": "expanded-volleyball",
   "metadata": {},
   "outputs": [
    {
     "name": "stderr",
     "output_type": "stream",
     "text": [
      "100%|██████████| 100000/100000 [00:06<00:00, 15303.35it/s]\n"
     ]
    },
    {
     "data": {
      "text/plain": [
       "-0.17979"
      ]
     },
     "execution_count": 9,
     "metadata": {},
     "output_type": "execute_result"
    }
   ],
   "source": [
    "avg_reward(env, pi)"
   ]
  },
  {
   "cell_type": "markdown",
   "id": "fuzzy-automation",
   "metadata": {},
   "source": [
    "### 1.2 Реализуйте метод обучения с подкреплением без модели (можно Q-обучение, но рекомендую попробовать и другие, например Monte Carlo control) для обучения стратегии в блекджеке, используя окружение Blackjack-v0 из OpenAI Gym."
   ]
  },
  {
   "cell_type": "code",
   "execution_count": 10,
   "id": "incorrect-teaching",
   "metadata": {},
   "outputs": [],
   "source": [
    "def get_random_Q(env):\n",
    "#     # инициализируем случайным образом\n",
    "#     Q = {\n",
    "#         state: np.zeros(env.action_space.n) #np.random.random(env.action_space.n)\n",
    "#         for state in states_list\n",
    "#     }\n",
    "#     for state in states_list:\n",
    "#         if state[0] == 21:\n",
    "#             Q[state] = np.zeros(env.action_space.n)   \n",
    "#    return defaultdict(lambda: np.zeros(env.action_space.n))\n",
    "    return np.zeros((len(states_list), env.action_space.n))\n",
    "\n",
    "def compute_policy_by_Q(env, Q, gamma=1.0):\n",
    "#     d = {key: np.argmax(value) for key, value in Q.items()}\n",
    "#     return defaultdict(int, d)\n",
    "    return np.argmax(Q, axis=1)"
   ]
  },
  {
   "cell_type": "code",
   "execution_count": 11,
   "id": "iraqi-wireless",
   "metadata": {},
   "outputs": [],
   "source": [
    "def Q_learning_episode(env, pi, Q, alpha=0.1, epsilon=0.1, gamma=0.9):\n",
    "    done = False\n",
    "    observation = env.reset()\n",
    "    while not done:\n",
    "        s_id = states_to_idx[observation]\n",
    "        a = pi[s_id] if np.random.rand() > epsilon else env.action_space.sample()\n",
    "        observation_prime, reward, done, _ = env.step(a)\n",
    "        s_id_prime = states_to_idx[observation_prime]\n",
    "        # print(observation_prime, reward, done)\n",
    "        Q[s_id][a] += alpha * (\n",
    "            reward + gamma * np.max(Q[s_id_prime]) - Q[s_id][a]\n",
    "        )\n",
    "        observation = observation_prime\n",
    "    return Q"
   ]
  },
  {
   "cell_type": "code",
   "execution_count": 12,
   "id": "municipal-hawaiian",
   "metadata": {},
   "outputs": [],
   "source": [
    "env.close()\n",
    "env = gym.make('Blackjack-v0', natural=True)\n",
    "\n",
    "def Q_learning(env, alpha=0.005, epsilon=0.05, gamma=0.1, epochs=500000, track_history=False):\n",
    "    # Q_hist_Qlearn = [ ]\n",
    "    pi_hist = []\n",
    "\n",
    "    Q = get_random_Q(env)\n",
    "    pi = compute_policy_by_Q(env, Q)\n",
    "\n",
    "    for n in tqdm.tqdm(range(epochs)):\n",
    "        Q = Q_learning_episode(env, pi, Q, alpha=alpha, epsilon=epsilon, gamma=gamma)\n",
    "        pi = compute_policy_by_Q(env, Q)\n",
    "        # Q_hist_Qlearn.append(copy.deepcopy(Q))\n",
    "        if n % 25000 == 0 and track_history:\n",
    "            pi_hist.append(pi)\n",
    "            \n",
    "    return pi, pi_hist"
   ]
  },
  {
   "cell_type": "code",
   "execution_count": 13,
   "id": "digital-madonna",
   "metadata": {},
   "outputs": [
    {
     "name": "stderr",
     "output_type": "stream",
     "text": [
      "100%|██████████| 500000/500000 [00:46<00:00, 10715.49it/s]\n"
     ]
    }
   ],
   "source": [
    "pi, pi_hist = Q_learning(env, track_history=True)"
   ]
  },
  {
   "cell_type": "code",
   "execution_count": 14,
   "id": "spread-space",
   "metadata": {},
   "outputs": [
    {
     "name": "stderr",
     "output_type": "stream",
     "text": [
      "100%|██████████| 100000/100000 [00:07<00:00, 13749.32it/s]\n"
     ]
    },
    {
     "data": {
      "text/plain": [
       "-0.02656"
      ]
     },
     "execution_count": 14,
     "metadata": {},
     "output_type": "execute_result"
    }
   ],
   "source": [
    "avg_reward(env, pi)"
   ]
  },
  {
   "cell_type": "markdown",
   "id": "educated-weapon",
   "metadata": {},
   "source": [
    "### 1.3 Сколько выигрывает казино у вашей стратегии? Нарисуйте графики среднего дохода вашего метода (усреднённого по крайней мере по 100000 раздач, а лучше больше) по ходу обучения. Попробуйте подобрать оптимальные гиперпараметры."
   ]
  },
  {
   "cell_type": "code",
   "execution_count": 15,
   "id": "cognitive-journalist",
   "metadata": {},
   "outputs": [
    {
     "name": "stderr",
     "output_type": "stream",
     "text": [
      "100%|██████████| 200000/200000 [00:12<00:00, 15760.97it/s]\n",
      "100%|██████████| 200000/200000 [00:14<00:00, 13906.98it/s]\n",
      "100%|██████████| 200000/200000 [00:14<00:00, 14101.68it/s]\n",
      "100%|██████████| 200000/200000 [00:13<00:00, 14288.87it/s]\n",
      "100%|██████████| 200000/200000 [00:14<00:00, 14219.10it/s]\n",
      "100%|██████████| 200000/200000 [00:14<00:00, 14157.74it/s]\n",
      "100%|██████████| 200000/200000 [00:13<00:00, 14292.59it/s]\n",
      "100%|██████████| 200000/200000 [00:14<00:00, 13902.65it/s]\n",
      "100%|██████████| 200000/200000 [00:14<00:00, 13631.87it/s]\n",
      "100%|██████████| 200000/200000 [00:14<00:00, 14088.06it/s]\n",
      "100%|██████████| 200000/200000 [00:14<00:00, 14280.50it/s]\n",
      "100%|██████████| 200000/200000 [00:14<00:00, 14113.15it/s]\n",
      "100%|██████████| 200000/200000 [00:14<00:00, 14133.50it/s]\n",
      "100%|██████████| 200000/200000 [00:14<00:00, 14154.54it/s]\n",
      "100%|██████████| 200000/200000 [00:14<00:00, 14218.58it/s]\n",
      "100%|██████████| 200000/200000 [00:14<00:00, 14170.83it/s]\n",
      "100%|██████████| 200000/200000 [00:14<00:00, 13959.40it/s]\n",
      "100%|██████████| 200000/200000 [00:14<00:00, 14112.39it/s]\n",
      "100%|██████████| 200000/200000 [00:14<00:00, 14167.72it/s]\n",
      "100%|██████████| 200000/200000 [00:14<00:00, 14173.34it/s]\n"
     ]
    }
   ],
   "source": [
    "avg_reward_hist = [avg_reward(env, pi, epochs=200000) for pi in pi_hist]"
   ]
  },
  {
   "cell_type": "code",
   "execution_count": 16,
   "id": "armed-orlando",
   "metadata": {},
   "outputs": [
    {
     "data": {
      "text/plain": [
       "[<matplotlib.lines.Line2D at 0x7fe5743667d0>]"
      ]
     },
     "execution_count": 16,
     "metadata": {},
     "output_type": "execute_result"
    },
    {
     "data": {
      "image/png": "[encoded data removed]",
      "text/plain": [
       "<Figure size 432x288 with 1 Axes>"
      ]
     },
     "metadata": {
      "needs_background": "light"
     },
     "output_type": "display_data"
    }
   ],
   "source": [
    "plt.plot(list(range(0, 500000, 25000)), avg_reward_hist)"
   ]
  },
  {
   "cell_type": "markdown",
   "id": "secondary-worry",
   "metadata": {},
   "source": [
    "### 1.3 Сколько выигрывает казино у вашей стратегии? Нарисуйте графики среднего дохода вашего метода (усреднённого по крайней мере по 100000 раздач, а лучше больше) по ходу обучения. Попробуйте подобрать оптимальные гиперпараметры."
   ]
  },
  {
   "cell_type": "code",
   "execution_count": 19,
   "id": "arctic-oracle",
   "metadata": {},
   "outputs": [],
   "source": [
    "def tuning_params(\n",
    "    env,\n",
    "    alpha_values,\n",
    "    epsilon_values,\n",
    "    gamma_values,\n",
    "    train_epochs=500000,\n",
    "    eval_epochs=200000\n",
    "):\n",
    "    best_reward, best_pi, best_alpha, best_epsilon, best_gamma = -np.inf, None, None, None, None\n",
    "    for i, (alpha, epsilon, gamma) in enumerate(\n",
    "        itertools.product(alpha_values, epsilon_values, gamma_values)\n",
    "    ):\n",
    "        pi, _ = Q_learning(\n",
    "            env=env,\n",
    "            alpha=alpha,\n",
    "            epsilon=epsilon,\n",
    "            gamma=gamma,\n",
    "            epochs=train_epochs,\n",
    "        )\n",
    "        reward = avg_reward(env, pi, epochs=eval_epochs)\n",
    "        print(reward)\n",
    "        if reward > best_reward:\n",
    "            best_reward = reward\n",
    "            best_pi = pi\n",
    "            best_alpha = alpha\n",
    "            best_epsilon = epsilon\n",
    "            best_gamma = gamma\n",
    "            \n",
    "            print(f'Best reward: {best_reward:.4f}.')\n",
    "            print(f'alpha = {best_alpha:.4f}, epsilon = {best_epsilon:.4f}, gamma = {best_gamma:.2f}.')\n",
    "\n",
    "    return best_alpha, best_epsilon, best_gamma"
   ]
  },
  {
   "cell_type": "code",
   "execution_count": 20,
   "id": "metropolitan-marble",
   "metadata": {
    "scrolled": true
   },
   "outputs": [
    {
     "name": "stderr",
     "output_type": "stream",
     "text": [
      "100%|██████████| 100000/100000 [00:09<00:00, 10809.56it/s]\n",
      "100%|██████████| 100000/100000 [00:06<00:00, 15268.04it/s]\n",
      "  1%|          | 1115/100000 [00:00<00:08, 11141.09it/s]"
     ]
    },
    {
     "name": "stdout",
     "output_type": "stream",
     "text": [
      "-0.04161\n",
      "Best reward: -0.0416.\n",
      "alpha = 0.0020, epsilon = 0.0500, gamma = 0.05.\n"
     ]
    },
    {
     "name": "stderr",
     "output_type": "stream",
     "text": [
      "100%|██████████| 100000/100000 [00:09<00:00, 11039.28it/s]\n",
      "100%|██████████| 100000/100000 [00:06<00:00, 14688.55it/s]\n",
      "  1%|          | 1064/100000 [00:00<00:09, 10635.75it/s]"
     ]
    },
    {
     "name": "stdout",
     "output_type": "stream",
     "text": [
      "-0.047765\n"
     ]
    },
    {
     "name": "stderr",
     "output_type": "stream",
     "text": [
      "100%|██████████| 100000/100000 [00:09<00:00, 10453.14it/s]\n",
      "100%|██████████| 100000/100000 [00:07<00:00, 14086.74it/s]\n",
      "  1%|          | 965/100000 [00:00<00:10, 9646.35it/s]"
     ]
    },
    {
     "name": "stdout",
     "output_type": "stream",
     "text": [
      "-0.04963\n"
     ]
    },
    {
     "name": "stderr",
     "output_type": "stream",
     "text": [
      "100%|██████████| 100000/100000 [00:09<00:00, 10322.84it/s]\n",
      "100%|██████████| 100000/100000 [00:06<00:00, 14296.84it/s]\n",
      "  1%|          | 1078/100000 [00:00<00:09, 10772.59it/s]"
     ]
    },
    {
     "name": "stdout",
     "output_type": "stream",
     "text": [
      "-0.05467\n"
     ]
    },
    {
     "name": "stderr",
     "output_type": "stream",
     "text": [
      "100%|██████████| 100000/100000 [00:09<00:00, 10403.81it/s]\n",
      "100%|██████████| 100000/100000 [00:07<00:00, 14272.32it/s]\n",
      "  1%|          | 1064/100000 [00:00<00:09, 10636.81it/s]"
     ]
    },
    {
     "name": "stdout",
     "output_type": "stream",
     "text": [
      "-0.04448\n"
     ]
    },
    {
     "name": "stderr",
     "output_type": "stream",
     "text": [
      "100%|██████████| 100000/100000 [00:09<00:00, 10266.16it/s]\n",
      "100%|██████████| 100000/100000 [00:07<00:00, 14125.07it/s]\n",
      "  1%|          | 1052/100000 [00:00<00:09, 10515.67it/s]"
     ]
    },
    {
     "name": "stdout",
     "output_type": "stream",
     "text": [
      "-0.04908\n"
     ]
    },
    {
     "name": "stderr",
     "output_type": "stream",
     "text": [
      "100%|██████████| 100000/100000 [00:09<00:00, 10221.82it/s]\n",
      "100%|██████████| 100000/100000 [00:06<00:00, 14328.45it/s]\n",
      "  1%|          | 1048/100000 [00:00<00:09, 10474.97it/s]"
     ]
    },
    {
     "name": "stdout",
     "output_type": "stream",
     "text": [
      "-0.044955\n"
     ]
    },
    {
     "name": "stderr",
     "output_type": "stream",
     "text": [
      "100%|██████████| 100000/100000 [00:09<00:00, 10139.49it/s]\n",
      "100%|██████████| 100000/100000 [00:07<00:00, 14072.24it/s]\n",
      "  1%|          | 1081/100000 [00:00<00:09, 10804.70it/s]"
     ]
    },
    {
     "name": "stdout",
     "output_type": "stream",
     "text": [
      "-0.02753\n",
      "Best reward: -0.0275.\n",
      "alpha = 0.0020, epsilon = 0.2500, gamma = 0.20.\n"
     ]
    },
    {
     "name": "stderr",
     "output_type": "stream",
     "text": [
      "100%|██████████| 100000/100000 [00:09<00:00, 10345.30it/s]\n",
      "100%|██████████| 100000/100000 [00:07<00:00, 14092.35it/s]\n",
      "  1%|          | 1029/100000 [00:00<00:09, 10283.59it/s]"
     ]
    },
    {
     "name": "stdout",
     "output_type": "stream",
     "text": [
      "-0.045015\n"
     ]
    },
    {
     "name": "stderr",
     "output_type": "stream",
     "text": [
      "100%|██████████| 100000/100000 [00:10<00:00, 9922.66it/s]\n",
      "100%|██████████| 100000/100000 [00:07<00:00, 13626.27it/s]\n",
      "  1%|          | 1005/100000 [00:00<00:09, 10039.57it/s]"
     ]
    },
    {
     "name": "stdout",
     "output_type": "stream",
     "text": [
      "-0.040775\n"
     ]
    },
    {
     "name": "stderr",
     "output_type": "stream",
     "text": [
      "100%|██████████| 100000/100000 [00:10<00:00, 9761.34it/s]\n",
      "100%|██████████| 100000/100000 [00:07<00:00, 13505.14it/s]\n",
      "  1%|          | 962/100000 [00:00<00:10, 9617.12it/s]"
     ]
    },
    {
     "name": "stdout",
     "output_type": "stream",
     "text": [
      "-0.043225\n"
     ]
    },
    {
     "name": "stderr",
     "output_type": "stream",
     "text": [
      "100%|██████████| 100000/100000 [00:10<00:00, 9805.79it/s]\n",
      "100%|██████████| 100000/100000 [00:07<00:00, 13908.39it/s]\n",
      "  1%|          | 1014/100000 [00:00<00:09, 10128.90it/s]"
     ]
    },
    {
     "name": "stdout",
     "output_type": "stream",
     "text": [
      "-0.04259\n"
     ]
    },
    {
     "name": "stderr",
     "output_type": "stream",
     "text": [
      "100%|██████████| 100000/100000 [00:09<00:00, 10248.79it/s]\n",
      "100%|██████████| 100000/100000 [00:07<00:00, 14188.28it/s]\n",
      "  1%|          | 1040/100000 [00:00<00:09, 10394.43it/s]"
     ]
    },
    {
     "name": "stdout",
     "output_type": "stream",
     "text": [
      "-0.03016\n"
     ]
    },
    {
     "name": "stderr",
     "output_type": "stream",
     "text": [
      "100%|██████████| 100000/100000 [00:09<00:00, 10236.11it/s]\n",
      "100%|██████████| 100000/100000 [00:07<00:00, 14037.05it/s]\n",
      "  1%|          | 1034/100000 [00:00<00:09, 10336.34it/s]"
     ]
    },
    {
     "name": "stdout",
     "output_type": "stream",
     "text": [
      "-0.037525\n"
     ]
    },
    {
     "name": "stderr",
     "output_type": "stream",
     "text": [
      "100%|██████████| 100000/100000 [00:09<00:00, 10196.16it/s]\n",
      "100%|██████████| 100000/100000 [00:07<00:00, 14076.08it/s]\n",
      "  1%|          | 1017/100000 [00:00<00:09, 10161.46it/s]"
     ]
    },
    {
     "name": "stdout",
     "output_type": "stream",
     "text": [
      "-0.0387\n"
     ]
    },
    {
     "name": "stderr",
     "output_type": "stream",
     "text": [
      "100%|██████████| 100000/100000 [00:09<00:00, 10242.90it/s]\n",
      "100%|██████████| 100000/100000 [00:07<00:00, 14192.16it/s]\n",
      "  1%|          | 1028/100000 [00:00<00:09, 10272.15it/s]"
     ]
    },
    {
     "name": "stdout",
     "output_type": "stream",
     "text": [
      "-0.037895\n"
     ]
    },
    {
     "name": "stderr",
     "output_type": "stream",
     "text": [
      "100%|██████████| 100000/100000 [00:09<00:00, 10129.72it/s]\n",
      "100%|██████████| 100000/100000 [00:07<00:00, 14158.10it/s]\n",
      "  1%|          | 1019/100000 [00:00<00:09, 10184.93it/s]"
     ]
    },
    {
     "name": "stdout",
     "output_type": "stream",
     "text": [
      "-0.040775\n"
     ]
    },
    {
     "name": "stderr",
     "output_type": "stream",
     "text": [
      "100%|██████████| 100000/100000 [00:09<00:00, 10145.04it/s]\n",
      "100%|██████████| 100000/100000 [00:07<00:00, 14095.28it/s]\n",
      "  1%|          | 1021/100000 [00:00<00:09, 10205.22it/s]"
     ]
    },
    {
     "name": "stdout",
     "output_type": "stream",
     "text": [
      "-0.036685\n"
     ]
    },
    {
     "name": "stderr",
     "output_type": "stream",
     "text": [
      "100%|██████████| 100000/100000 [00:09<00:00, 10235.82it/s]\n",
      "100%|██████████| 100000/100000 [00:07<00:00, 14157.15it/s]\n",
      "  1%|          | 989/100000 [00:00<00:10, 9885.08it/s]"
     ]
    },
    {
     "name": "stdout",
     "output_type": "stream",
     "text": [
      "-0.03603\n"
     ]
    },
    {
     "name": "stderr",
     "output_type": "stream",
     "text": [
      "100%|██████████| 100000/100000 [00:09<00:00, 10098.65it/s]\n",
      "100%|██████████| 100000/100000 [00:07<00:00, 14068.28it/s]\n",
      "  1%|          | 1025/100000 [00:00<00:09, 10245.34it/s]"
     ]
    },
    {
     "name": "stdout",
     "output_type": "stream",
     "text": [
      "-0.03114\n"
     ]
    },
    {
     "name": "stderr",
     "output_type": "stream",
     "text": [
      "100%|██████████| 100000/100000 [00:09<00:00, 10219.33it/s]\n",
      "100%|██████████| 100000/100000 [00:06<00:00, 14314.86it/s]\n",
      "  1%|          | 1071/100000 [00:00<00:09, 10707.53it/s]"
     ]
    },
    {
     "name": "stdout",
     "output_type": "stream",
     "text": [
      "-0.029585\n"
     ]
    },
    {
     "name": "stderr",
     "output_type": "stream",
     "text": [
      "100%|██████████| 100000/100000 [00:09<00:00, 10394.51it/s]\n",
      "100%|██████████| 100000/100000 [00:07<00:00, 14262.24it/s]\n",
      "  1%|          | 1076/100000 [00:00<00:09, 10748.40it/s]"
     ]
    },
    {
     "name": "stdout",
     "output_type": "stream",
     "text": [
      "-0.04945\n"
     ]
    },
    {
     "name": "stderr",
     "output_type": "stream",
     "text": [
      "100%|██████████| 100000/100000 [00:09<00:00, 10245.08it/s]\n",
      "100%|██████████| 100000/100000 [00:07<00:00, 14047.38it/s]\n",
      "  1%|          | 1069/100000 [00:00<00:09, 10688.91it/s]"
     ]
    },
    {
     "name": "stdout",
     "output_type": "stream",
     "text": [
      "-0.03859\n"
     ]
    },
    {
     "name": "stderr",
     "output_type": "stream",
     "text": [
      "100%|██████████| 100000/100000 [00:09<00:00, 10329.52it/s]\n",
      "100%|██████████| 100000/100000 [00:07<00:00, 14188.38it/s]\n",
      "  1%|          | 1045/100000 [00:00<00:09, 10449.46it/s]"
     ]
    },
    {
     "name": "stdout",
     "output_type": "stream",
     "text": [
      "-0.04736\n"
     ]
    },
    {
     "name": "stderr",
     "output_type": "stream",
     "text": [
      "100%|██████████| 100000/100000 [00:09<00:00, 10358.71it/s]\n",
      "100%|██████████| 100000/100000 [00:06<00:00, 14338.79it/s]\n",
      "  1%|          | 988/100000 [00:00<00:10, 9874.31it/s]"
     ]
    },
    {
     "name": "stdout",
     "output_type": "stream",
     "text": [
      "-0.043675\n"
     ]
    },
    {
     "name": "stderr",
     "output_type": "stream",
     "text": [
      "100%|██████████| 100000/100000 [00:09<00:00, 10174.69it/s]\n",
      "100%|██████████| 100000/100000 [00:07<00:00, 14003.57it/s]\n",
      "  1%|          | 1086/100000 [00:00<00:09, 10852.51it/s]"
     ]
    },
    {
     "name": "stdout",
     "output_type": "stream",
     "text": [
      "-0.047265\n"
     ]
    },
    {
     "name": "stderr",
     "output_type": "stream",
     "text": [
      "100%|██████████| 100000/100000 [00:09<00:00, 10291.44it/s]\n",
      "100%|██████████| 100000/100000 [00:07<00:00, 14166.96it/s]\n",
      "  1%|          | 1023/100000 [00:00<00:09, 10225.28it/s]"
     ]
    },
    {
     "name": "stdout",
     "output_type": "stream",
     "text": [
      "-0.03849\n"
     ]
    },
    {
     "name": "stderr",
     "output_type": "stream",
     "text": [
      "100%|██████████| 100000/100000 [00:09<00:00, 10282.38it/s]\n",
      "100%|██████████| 100000/100000 [00:07<00:00, 14020.82it/s]\n",
      "  1%|          | 1011/100000 [00:00<00:09, 10105.00it/s]"
     ]
    },
    {
     "name": "stdout",
     "output_type": "stream",
     "text": [
      "-0.03617\n"
     ]
    },
    {
     "name": "stderr",
     "output_type": "stream",
     "text": [
      "100%|██████████| 100000/100000 [00:09<00:00, 10241.15it/s]\n",
      "100%|██████████| 100000/100000 [00:07<00:00, 14109.19it/s]\n",
      "  1%|          | 1065/100000 [00:00<00:09, 10644.83it/s]"
     ]
    },
    {
     "name": "stdout",
     "output_type": "stream",
     "text": [
      "-0.036815\n"
     ]
    },
    {
     "name": "stderr",
     "output_type": "stream",
     "text": [
      "100%|██████████| 100000/100000 [00:09<00:00, 10053.11it/s]\n",
      "100%|██████████| 100000/100000 [00:07<00:00, 13719.41it/s]\n",
      "  1%|          | 1028/100000 [00:00<00:09, 10275.65it/s]"
     ]
    },
    {
     "name": "stdout",
     "output_type": "stream",
     "text": [
      "-0.04205\n"
     ]
    },
    {
     "name": "stderr",
     "output_type": "stream",
     "text": [
      "100%|██████████| 100000/100000 [00:09<00:00, 10460.14it/s]\n",
      "100%|██████████| 100000/100000 [00:06<00:00, 14487.19it/s]\n",
      "  1%|          | 1080/100000 [00:00<00:09, 10798.29it/s]"
     ]
    },
    {
     "name": "stdout",
     "output_type": "stream",
     "text": [
      "-0.03229\n"
     ]
    },
    {
     "name": "stderr",
     "output_type": "stream",
     "text": [
      "100%|██████████| 100000/100000 [00:09<00:00, 10436.41it/s]\n",
      "100%|██████████| 100000/100000 [00:06<00:00, 14547.91it/s]\n",
      "  1%|          | 1115/100000 [00:00<00:08, 11147.70it/s]"
     ]
    },
    {
     "name": "stdout",
     "output_type": "stream",
     "text": [
      "-0.029365\n"
     ]
    },
    {
     "name": "stderr",
     "output_type": "stream",
     "text": [
      "100%|██████████| 100000/100000 [00:09<00:00, 10523.18it/s]\n",
      "100%|██████████| 100000/100000 [00:06<00:00, 14347.19it/s]\n",
      "  1%|          | 1081/100000 [00:00<00:09, 10801.51it/s]"
     ]
    },
    {
     "name": "stdout",
     "output_type": "stream",
     "text": [
      "-0.04306\n"
     ]
    },
    {
     "name": "stderr",
     "output_type": "stream",
     "text": [
      "100%|██████████| 100000/100000 [00:09<00:00, 10420.70it/s]\n",
      "100%|██████████| 100000/100000 [00:07<00:00, 14194.66it/s]\n",
      "  1%|          | 1081/100000 [00:00<00:09, 10805.06it/s]"
     ]
    },
    {
     "name": "stdout",
     "output_type": "stream",
     "text": [
      "-0.022525\n",
      "Best reward: -0.0225.\n",
      "alpha = 0.0040, epsilon = 0.4500, gamma = 0.05.\n"
     ]
    },
    {
     "name": "stderr",
     "output_type": "stream",
     "text": [
      "100%|██████████| 100000/100000 [00:09<00:00, 10464.25it/s]\n",
      "100%|██████████| 100000/100000 [00:06<00:00, 14399.89it/s]\n",
      "  1%|          | 1069/100000 [00:00<00:09, 10684.00it/s]"
     ]
    },
    {
     "name": "stdout",
     "output_type": "stream",
     "text": [
      "-0.035375\n"
     ]
    },
    {
     "name": "stderr",
     "output_type": "stream",
     "text": [
      "100%|██████████| 100000/100000 [00:09<00:00, 10421.67it/s]\n",
      "100%|██████████| 100000/100000 [00:06<00:00, 14420.34it/s]\n",
      "  1%|          | 1064/100000 [00:00<00:09, 10626.51it/s]"
     ]
    },
    {
     "name": "stdout",
     "output_type": "stream",
     "text": [
      "-0.04074\n"
     ]
    },
    {
     "name": "stderr",
     "output_type": "stream",
     "text": [
      "100%|██████████| 100000/100000 [00:09<00:00, 10443.44it/s]\n",
      "100%|██████████| 100000/100000 [00:06<00:00, 14610.48it/s]\n",
      "  1%|          | 1067/100000 [00:00<00:09, 10664.65it/s]"
     ]
    },
    {
     "name": "stdout",
     "output_type": "stream",
     "text": [
      "-0.03066\n"
     ]
    },
    {
     "name": "stderr",
     "output_type": "stream",
     "text": [
      "100%|██████████| 100000/100000 [00:09<00:00, 10427.97it/s]\n",
      "100%|██████████| 100000/100000 [00:06<00:00, 14507.55it/s]\n",
      "  1%|          | 1072/100000 [00:00<00:09, 10714.75it/s]"
     ]
    },
    {
     "name": "stdout",
     "output_type": "stream",
     "text": [
      "-0.03201\n"
     ]
    },
    {
     "name": "stderr",
     "output_type": "stream",
     "text": [
      "100%|██████████| 100000/100000 [00:09<00:00, 10450.00it/s]\n",
      "100%|██████████| 100000/100000 [00:06<00:00, 14375.02it/s]\n",
      "  2%|▏         | 2116/100000 [00:00<00:09, 10579.64it/s]"
     ]
    },
    {
     "name": "stdout",
     "output_type": "stream",
     "text": [
      "-0.04078\n"
     ]
    },
    {
     "name": "stderr",
     "output_type": "stream",
     "text": [
      "100%|██████████| 100000/100000 [00:09<00:00, 10399.87it/s]\n",
      "100%|██████████| 100000/100000 [00:06<00:00, 14680.30it/s]\n",
      "  1%|          | 1049/100000 [00:00<00:09, 10479.19it/s]"
     ]
    },
    {
     "name": "stdout",
     "output_type": "stream",
     "text": [
      "-0.03212\n"
     ]
    },
    {
     "name": "stderr",
     "output_type": "stream",
     "text": [
      "100%|██████████| 100000/100000 [00:09<00:00, 10428.85it/s]\n",
      "100%|██████████| 100000/100000 [00:06<00:00, 14653.91it/s]\n",
      "  1%|          | 1054/100000 [00:00<00:09, 10528.64it/s]"
     ]
    },
    {
     "name": "stdout",
     "output_type": "stream",
     "text": [
      "-0.03383\n"
     ]
    },
    {
     "name": "stderr",
     "output_type": "stream",
     "text": [
      "100%|██████████| 100000/100000 [00:09<00:00, 10248.71it/s]\n",
      "100%|██████████| 100000/100000 [00:06<00:00, 14382.79it/s]\n",
      "  1%|          | 1120/100000 [00:00<00:08, 11188.17it/s]"
     ]
    },
    {
     "name": "stdout",
     "output_type": "stream",
     "text": [
      "-0.038395\n"
     ]
    },
    {
     "name": "stderr",
     "output_type": "stream",
     "text": [
      "100%|██████████| 100000/100000 [00:09<00:00, 10588.29it/s]\n",
      "100%|██████████| 100000/100000 [00:06<00:00, 14664.30it/s]\n",
      "  1%|          | 1095/100000 [00:00<00:09, 10948.05it/s]"
     ]
    },
    {
     "name": "stdout",
     "output_type": "stream",
     "text": [
      "-0.0367\n"
     ]
    },
    {
     "name": "stderr",
     "output_type": "stream",
     "text": [
      "100%|██████████| 100000/100000 [00:09<00:00, 10513.34it/s]\n",
      "100%|██████████| 100000/100000 [00:06<00:00, 14587.47it/s]\n",
      "  1%|          | 1115/100000 [00:00<00:08, 11145.09it/s]"
     ]
    },
    {
     "name": "stdout",
     "output_type": "stream",
     "text": [
      "-0.03495\n"
     ]
    },
    {
     "name": "stderr",
     "output_type": "stream",
     "text": [
      "100%|██████████| 100000/100000 [00:09<00:00, 10510.08it/s]\n",
      "100%|██████████| 100000/100000 [00:06<00:00, 14336.27it/s]\n",
      "  1%|          | 1133/100000 [00:00<00:08, 11324.93it/s]"
     ]
    },
    {
     "name": "stdout",
     "output_type": "stream",
     "text": [
      "-0.057005\n"
     ]
    },
    {
     "name": "stderr",
     "output_type": "stream",
     "text": [
      "100%|██████████| 100000/100000 [00:09<00:00, 10577.00it/s]\n",
      "100%|██████████| 100000/100000 [00:06<00:00, 14419.37it/s]\n",
      "  1%|          | 1102/100000 [00:00<00:08, 11019.46it/s]"
     ]
    },
    {
     "name": "stdout",
     "output_type": "stream",
     "text": [
      "-0.03681\n"
     ]
    },
    {
     "name": "stderr",
     "output_type": "stream",
     "text": [
      "100%|██████████| 100000/100000 [00:09<00:00, 10473.93it/s]\n",
      "100%|██████████| 100000/100000 [00:06<00:00, 14417.76it/s]\n",
      "  1%|          | 1120/100000 [00:00<00:08, 11191.85it/s]"
     ]
    },
    {
     "name": "stdout",
     "output_type": "stream",
     "text": [
      "-0.03343\n"
     ]
    },
    {
     "name": "stderr",
     "output_type": "stream",
     "text": [
      "100%|██████████| 100000/100000 [00:09<00:00, 10411.19it/s]\n",
      "100%|██████████| 100000/100000 [00:07<00:00, 14272.58it/s]\n",
      "  2%|▏         | 2194/100000 [00:00<00:08, 10971.69it/s]"
     ]
    },
    {
     "name": "stdout",
     "output_type": "stream",
     "text": [
      "-0.04844\n"
     ]
    },
    {
     "name": "stderr",
     "output_type": "stream",
     "text": [
      "100%|██████████| 100000/100000 [00:09<00:00, 10471.88it/s]\n",
      "100%|██████████| 100000/100000 [00:06<00:00, 14497.96it/s]\n",
      "  1%|          | 1116/100000 [00:00<00:08, 11151.34it/s]"
     ]
    },
    {
     "name": "stdout",
     "output_type": "stream",
     "text": [
      "-0.03188\n"
     ]
    },
    {
     "name": "stderr",
     "output_type": "stream",
     "text": [
      "100%|██████████| 100000/100000 [00:09<00:00, 10473.39it/s]\n",
      "100%|██████████| 100000/100000 [00:06<00:00, 14473.65it/s]\n",
      "  2%|▏         | 2141/100000 [00:00<00:09, 10703.52it/s]"
     ]
    },
    {
     "name": "stdout",
     "output_type": "stream",
     "text": [
      "-0.02911\n"
     ]
    },
    {
     "name": "stderr",
     "output_type": "stream",
     "text": [
      "100%|██████████| 100000/100000 [00:09<00:00, 10474.55it/s]\n",
      "100%|██████████| 100000/100000 [00:06<00:00, 14535.10it/s]\n",
      "  1%|          | 1120/100000 [00:00<00:08, 11190.35it/s]"
     ]
    },
    {
     "name": "stdout",
     "output_type": "stream",
     "text": [
      "-0.04956\n"
     ]
    },
    {
     "name": "stderr",
     "output_type": "stream",
     "text": [
      "100%|██████████| 100000/100000 [00:09<00:00, 10610.06it/s]\n",
      "100%|██████████| 100000/100000 [00:06<00:00, 14543.52it/s]\n",
      "  1%|          | 1083/100000 [00:00<00:09, 10820.21it/s]"
     ]
    },
    {
     "name": "stdout",
     "output_type": "stream",
     "text": [
      "-0.02949\n"
     ]
    },
    {
     "name": "stderr",
     "output_type": "stream",
     "text": [
      "100%|██████████| 100000/100000 [00:09<00:00, 10414.19it/s]\n",
      "100%|██████████| 100000/100000 [00:07<00:00, 13035.67it/s]\n",
      "  2%|▏         | 1979/100000 [00:00<00:09, 9891.44it/s]"
     ]
    },
    {
     "name": "stdout",
     "output_type": "stream",
     "text": [
      "-0.02955\n"
     ]
    },
    {
     "name": "stderr",
     "output_type": "stream",
     "text": [
      "100%|██████████| 100000/100000 [00:10<00:00, 9591.65it/s]\n",
      "100%|██████████| 100000/100000 [00:07<00:00, 13789.24it/s]\n",
      "  2%|▏         | 2032/100000 [00:00<00:09, 10162.97it/s]"
     ]
    },
    {
     "name": "stdout",
     "output_type": "stream",
     "text": [
      "-0.04708\n"
     ]
    },
    {
     "name": "stderr",
     "output_type": "stream",
     "text": [
      "100%|██████████| 100000/100000 [00:09<00:00, 10228.29it/s]\n",
      "100%|██████████| 100000/100000 [00:07<00:00, 13775.69it/s]\n",
      "  1%|          | 973/100000 [00:00<00:10, 9721.94it/s]"
     ]
    },
    {
     "name": "stdout",
     "output_type": "stream",
     "text": [
      "-0.031635\n"
     ]
    },
    {
     "name": "stderr",
     "output_type": "stream",
     "text": [
      "100%|██████████| 100000/100000 [00:10<00:00, 9803.89it/s]\n",
      "100%|██████████| 100000/100000 [00:07<00:00, 13586.35it/s]\n",
      "  1%|          | 1008/100000 [00:00<00:09, 10079.58it/s]"
     ]
    },
    {
     "name": "stdout",
     "output_type": "stream",
     "text": [
      "-0.031245\n"
     ]
    },
    {
     "name": "stderr",
     "output_type": "stream",
     "text": [
      "100%|██████████| 100000/100000 [00:10<00:00, 9971.98it/s]\n",
      "100%|██████████| 100000/100000 [00:07<00:00, 13688.99it/s]\n",
      "  2%|▏         | 2009/100000 [00:00<00:09, 10071.02it/s]"
     ]
    },
    {
     "name": "stdout",
     "output_type": "stream",
     "text": [
      "-0.03932\n"
     ]
    },
    {
     "name": "stderr",
     "output_type": "stream",
     "text": [
      "100%|██████████| 100000/100000 [00:11<00:00, 8836.92it/s]\n",
      "100%|██████████| 100000/100000 [00:07<00:00, 13008.65it/s]\n",
      "  1%|          | 1103/100000 [00:00<00:08, 11024.57it/s]"
     ]
    },
    {
     "name": "stdout",
     "output_type": "stream",
     "text": [
      "-0.032245\n"
     ]
    },
    {
     "name": "stderr",
     "output_type": "stream",
     "text": [
      "100%|██████████| 100000/100000 [00:09<00:00, 10180.72it/s]\n",
      "100%|██████████| 100000/100000 [00:07<00:00, 13808.70it/s]\n",
      "  1%|          | 1086/100000 [00:00<00:09, 10851.86it/s]"
     ]
    },
    {
     "name": "stdout",
     "output_type": "stream",
     "text": [
      "-0.03747\n"
     ]
    },
    {
     "name": "stderr",
     "output_type": "stream",
     "text": [
      "100%|██████████| 100000/100000 [00:09<00:00, 10169.87it/s]\n",
      "100%|██████████| 100000/100000 [00:06<00:00, 14477.46it/s]\n",
      "  1%|          | 1061/100000 [00:00<00:09, 10605.94it/s]"
     ]
    },
    {
     "name": "stdout",
     "output_type": "stream",
     "text": [
      "-0.03937\n"
     ]
    },
    {
     "name": "stderr",
     "output_type": "stream",
     "text": [
      "100%|██████████| 100000/100000 [00:09<00:00, 10458.82it/s]\n",
      "100%|██████████| 100000/100000 [00:06<00:00, 14575.95it/s]\n",
      "  2%|▏         | 2137/100000 [00:00<00:09, 10689.54it/s]"
     ]
    },
    {
     "name": "stdout",
     "output_type": "stream",
     "text": [
      "-0.036595\n"
     ]
    },
    {
     "name": "stderr",
     "output_type": "stream",
     "text": [
      "100%|██████████| 100000/100000 [00:09<00:00, 10520.74it/s]\n",
      "100%|██████████| 100000/100000 [00:06<00:00, 14663.92it/s]\n",
      "  1%|          | 1033/100000 [00:00<00:09, 10321.42it/s]"
     ]
    },
    {
     "name": "stdout",
     "output_type": "stream",
     "text": [
      "-0.03426\n"
     ]
    },
    {
     "name": "stderr",
     "output_type": "stream",
     "text": [
      "100%|██████████| 100000/100000 [00:09<00:00, 10491.39it/s]\n",
      "100%|██████████| 100000/100000 [00:06<00:00, 14572.79it/s]\n",
      "  1%|          | 1099/100000 [00:00<00:09, 10979.62it/s]"
     ]
    },
    {
     "name": "stdout",
     "output_type": "stream",
     "text": [
      "-0.035515\n"
     ]
    },
    {
     "name": "stderr",
     "output_type": "stream",
     "text": [
      "100%|██████████| 100000/100000 [00:09<00:00, 10438.19it/s]\n",
      "100%|██████████| 100000/100000 [00:06<00:00, 14652.58it/s]\n",
      "  1%|          | 1131/100000 [00:00<00:08, 11300.93it/s]"
     ]
    },
    {
     "name": "stdout",
     "output_type": "stream",
     "text": [
      "-0.03707\n"
     ]
    },
    {
     "name": "stderr",
     "output_type": "stream",
     "text": [
      "100%|██████████| 100000/100000 [00:10<00:00, 9752.68it/s]\n",
      "100%|██████████| 100000/100000 [00:06<00:00, 14514.84it/s]\n",
      "  1%|          | 1144/100000 [00:00<00:08, 11439.14it/s]"
     ]
    },
    {
     "name": "stdout",
     "output_type": "stream",
     "text": [
      "-0.02749\n"
     ]
    },
    {
     "name": "stderr",
     "output_type": "stream",
     "text": [
      "100%|██████████| 100000/100000 [00:09<00:00, 10519.70it/s]\n",
      "100%|██████████| 100000/100000 [00:06<00:00, 14417.87it/s]\n",
      "  1%|          | 1102/100000 [00:00<00:08, 11017.15it/s]"
     ]
    },
    {
     "name": "stdout",
     "output_type": "stream",
     "text": [
      "-0.045835\n"
     ]
    },
    {
     "name": "stderr",
     "output_type": "stream",
     "text": [
      "100%|██████████| 100000/100000 [00:10<00:00, 9786.33it/s]\n",
      "100%|██████████| 100000/100000 [00:08<00:00, 12103.52it/s]\n",
      "  1%|          | 895/100000 [00:00<00:11, 8942.25it/s]"
     ]
    },
    {
     "name": "stdout",
     "output_type": "stream",
     "text": [
      "-0.029915\n"
     ]
    },
    {
     "name": "stderr",
     "output_type": "stream",
     "text": [
      "100%|██████████| 100000/100000 [00:11<00:00, 8914.23it/s]\n",
      "100%|██████████| 100000/100000 [00:08<00:00, 11302.21it/s]\n",
      "  1%|          | 1003/100000 [00:00<00:09, 10022.75it/s]"
     ]
    },
    {
     "name": "stdout",
     "output_type": "stream",
     "text": [
      "-0.035475\n"
     ]
    },
    {
     "name": "stderr",
     "output_type": "stream",
     "text": [
      "100%|██████████| 100000/100000 [00:11<00:00, 8923.21it/s]\n",
      "100%|██████████| 100000/100000 [00:08<00:00, 11533.51it/s]\n",
      "  1%|          | 1014/100000 [00:00<00:09, 10133.75it/s]"
     ]
    },
    {
     "name": "stdout",
     "output_type": "stream",
     "text": [
      "-0.04557\n"
     ]
    },
    {
     "name": "stderr",
     "output_type": "stream",
     "text": [
      "100%|██████████| 100000/100000 [00:10<00:00, 9943.14it/s]\n",
      "100%|██████████| 100000/100000 [00:07<00:00, 12972.31it/s]\n",
      "  1%|          | 1057/100000 [00:00<00:09, 10567.04it/s]"
     ]
    },
    {
     "name": "stdout",
     "output_type": "stream",
     "text": [
      "-0.02612\n"
     ]
    },
    {
     "name": "stderr",
     "output_type": "stream",
     "text": [
      "100%|██████████| 100000/100000 [00:10<00:00, 9737.17it/s]\n",
      "100%|██████████| 100000/100000 [00:07<00:00, 13613.98it/s]\n",
      "  1%|          | 1053/100000 [00:00<00:09, 10526.52it/s]"
     ]
    },
    {
     "name": "stdout",
     "output_type": "stream",
     "text": [
      "-0.03421\n"
     ]
    },
    {
     "name": "stderr",
     "output_type": "stream",
     "text": [
      "100%|██████████| 100000/100000 [00:10<00:00, 9972.84it/s]\n",
      "100%|██████████| 100000/100000 [00:07<00:00, 13118.32it/s]\n",
      "  1%|          | 946/100000 [00:00<00:10, 9456.13it/s]"
     ]
    },
    {
     "name": "stdout",
     "output_type": "stream",
     "text": [
      "-0.037305\n"
     ]
    },
    {
     "name": "stderr",
     "output_type": "stream",
     "text": [
      "100%|██████████| 100000/100000 [00:11<00:00, 8672.26it/s]\n",
      "100%|██████████| 100000/100000 [00:07<00:00, 12904.18it/s]\n",
      "  1%|          | 1042/100000 [00:00<00:09, 10415.37it/s]"
     ]
    },
    {
     "name": "stdout",
     "output_type": "stream",
     "text": [
      "-0.02692\n"
     ]
    },
    {
     "name": "stderr",
     "output_type": "stream",
     "text": [
      "100%|██████████| 100000/100000 [00:11<00:00, 8759.73it/s]\n",
      "100%|██████████| 100000/100000 [00:09<00:00, 10893.29it/s]\n",
      "  1%|          | 934/100000 [00:00<00:10, 9339.59it/s]"
     ]
    },
    {
     "name": "stdout",
     "output_type": "stream",
     "text": [
      "-0.03005\n"
     ]
    },
    {
     "name": "stderr",
     "output_type": "stream",
     "text": [
      "100%|██████████| 100000/100000 [00:10<00:00, 9109.36it/s]\n",
      "100%|██████████| 100000/100000 [00:07<00:00, 13872.78it/s]\n",
      "  1%|          | 1008/100000 [00:00<00:09, 10073.26it/s]"
     ]
    },
    {
     "name": "stdout",
     "output_type": "stream",
     "text": [
      "-0.035\n"
     ]
    },
    {
     "name": "stderr",
     "output_type": "stream",
     "text": [
      "100%|██████████| 100000/100000 [00:10<00:00, 9615.96it/s]\n",
      "100%|██████████| 100000/100000 [00:07<00:00, 13115.35it/s]\n",
      "  1%|          | 1031/100000 [00:00<00:09, 10306.35it/s]"
     ]
    },
    {
     "name": "stdout",
     "output_type": "stream",
     "text": [
      "-0.03213\n"
     ]
    },
    {
     "name": "stderr",
     "output_type": "stream",
     "text": [
      "100%|██████████| 100000/100000 [00:09<00:00, 10028.87it/s]\n",
      "100%|██████████| 100000/100000 [00:07<00:00, 13175.23it/s]\n",
      "  2%|▏         | 1885/100000 [00:00<00:10, 9438.28it/s]"
     ]
    },
    {
     "name": "stdout",
     "output_type": "stream",
     "text": [
      "-0.031115\n"
     ]
    },
    {
     "name": "stderr",
     "output_type": "stream",
     "text": [
      "100%|██████████| 100000/100000 [00:10<00:00, 9368.09it/s]\n",
      "100%|██████████| 100000/100000 [00:07<00:00, 13125.41it/s]\n",
      "  1%|          | 1022/100000 [00:00<00:09, 10212.07it/s]"
     ]
    },
    {
     "name": "stdout",
     "output_type": "stream",
     "text": [
      "-0.03944\n"
     ]
    },
    {
     "name": "stderr",
     "output_type": "stream",
     "text": [
      "100%|██████████| 100000/100000 [00:10<00:00, 9269.31it/s]\n",
      "100%|██████████| 100000/100000 [00:07<00:00, 14015.21it/s]\n",
      "  1%|          | 989/100000 [00:00<00:10, 9882.73it/s]"
     ]
    },
    {
     "name": "stdout",
     "output_type": "stream",
     "text": [
      "-0.02562\n"
     ]
    },
    {
     "name": "stderr",
     "output_type": "stream",
     "text": [
      "100%|██████████| 100000/100000 [00:11<00:00, 8833.41it/s]\n",
      "100%|██████████| 100000/100000 [00:07<00:00, 13469.89it/s]\n",
      "  1%|          | 1055/100000 [00:00<00:09, 10544.03it/s]"
     ]
    },
    {
     "name": "stdout",
     "output_type": "stream",
     "text": [
      "-0.030165\n"
     ]
    },
    {
     "name": "stderr",
     "output_type": "stream",
     "text": [
      "100%|██████████| 100000/100000 [00:10<00:00, 9789.92it/s]\n",
      "100%|██████████| 100000/100000 [00:07<00:00, 13893.04it/s]\n",
      "  1%|          | 907/100000 [00:00<00:10, 9066.36it/s]"
     ]
    },
    {
     "name": "stdout",
     "output_type": "stream",
     "text": [
      "-0.035995\n"
     ]
    },
    {
     "name": "stderr",
     "output_type": "stream",
     "text": [
      "100%|██████████| 100000/100000 [00:09<00:00, 10102.41it/s]\n",
      "100%|██████████| 100000/100000 [00:07<00:00, 13433.71it/s]\n",
      "  1%|          | 952/100000 [00:00<00:10, 9516.67it/s]"
     ]
    },
    {
     "name": "stdout",
     "output_type": "stream",
     "text": [
      "-0.03004\n"
     ]
    },
    {
     "name": "stderr",
     "output_type": "stream",
     "text": [
      "100%|██████████| 100000/100000 [00:11<00:00, 9009.58it/s]\n",
      "100%|██████████| 100000/100000 [00:07<00:00, 13347.57it/s]\n",
      "  1%|          | 952/100000 [00:00<00:10, 9514.45it/s]"
     ]
    },
    {
     "name": "stdout",
     "output_type": "stream",
     "text": [
      "-0.028535\n"
     ]
    },
    {
     "name": "stderr",
     "output_type": "stream",
     "text": [
      "100%|██████████| 100000/100000 [00:11<00:00, 8800.27it/s]\n",
      "100%|██████████| 100000/100000 [00:06<00:00, 14444.48it/s]\n",
      "  1%|          | 1132/100000 [00:00<00:08, 11311.14it/s]"
     ]
    },
    {
     "name": "stdout",
     "output_type": "stream",
     "text": [
      "-0.03976\n"
     ]
    },
    {
     "name": "stderr",
     "output_type": "stream",
     "text": [
      "100%|██████████| 100000/100000 [00:09<00:00, 10601.78it/s]\n",
      "100%|██████████| 100000/100000 [00:07<00:00, 12701.77it/s]\n",
      "  1%|          | 1028/100000 [00:00<00:09, 10277.98it/s]"
     ]
    },
    {
     "name": "stdout",
     "output_type": "stream",
     "text": [
      "-0.03513\n"
     ]
    },
    {
     "name": "stderr",
     "output_type": "stream",
     "text": [
      "100%|██████████| 100000/100000 [00:09<00:00, 10163.19it/s]\n",
      "100%|██████████| 100000/100000 [00:07<00:00, 14181.55it/s]\n",
      "  1%|          | 1093/100000 [00:00<00:09, 10926.31it/s]"
     ]
    },
    {
     "name": "stdout",
     "output_type": "stream",
     "text": [
      "-0.03479\n"
     ]
    },
    {
     "name": "stderr",
     "output_type": "stream",
     "text": [
      "100%|██████████| 100000/100000 [00:09<00:00, 10382.11it/s]\n",
      "100%|██████████| 100000/100000 [00:07<00:00, 13551.49it/s]\n",
      "  1%|          | 1157/100000 [00:00<00:08, 11562.13it/s]"
     ]
    },
    {
     "name": "stdout",
     "output_type": "stream",
     "text": [
      "-0.04466\n"
     ]
    },
    {
     "name": "stderr",
     "output_type": "stream",
     "text": [
      "100%|██████████| 100000/100000 [00:09<00:00, 10179.30it/s]\n",
      "100%|██████████| 100000/100000 [00:07<00:00, 12955.03it/s]\n",
      "  1%|          | 866/100000 [00:00<00:11, 8658.13it/s]"
     ]
    },
    {
     "name": "stdout",
     "output_type": "stream",
     "text": [
      "-0.03096\n"
     ]
    },
    {
     "name": "stderr",
     "output_type": "stream",
     "text": [
      "100%|██████████| 100000/100000 [00:09<00:00, 10130.61it/s]\n",
      "100%|██████████| 100000/100000 [00:06<00:00, 14433.23it/s]\n",
      "  1%|          | 1123/100000 [00:00<00:08, 11220.73it/s]"
     ]
    },
    {
     "name": "stdout",
     "output_type": "stream",
     "text": [
      "-0.02781\n"
     ]
    },
    {
     "name": "stderr",
     "output_type": "stream",
     "text": [
      "100%|██████████| 100000/100000 [00:09<00:00, 10496.15it/s]\n",
      "100%|██████████| 100000/100000 [00:07<00:00, 13712.75it/s]\n",
      "  1%|          | 911/100000 [00:00<00:10, 9104.69it/s]"
     ]
    },
    {
     "name": "stdout",
     "output_type": "stream",
     "text": [
      "-0.044215\n"
     ]
    },
    {
     "name": "stderr",
     "output_type": "stream",
     "text": [
      "100%|██████████| 100000/100000 [00:10<00:00, 9762.55it/s]\n",
      "100%|██████████| 100000/100000 [00:07<00:00, 13986.52it/s]\n",
      "  1%|          | 978/100000 [00:00<00:10, 9773.39it/s]"
     ]
    },
    {
     "name": "stdout",
     "output_type": "stream",
     "text": [
      "-0.02811\n"
     ]
    },
    {
     "name": "stderr",
     "output_type": "stream",
     "text": [
      "100%|██████████| 100000/100000 [00:11<00:00, 8797.72it/s]\n",
      "100%|██████████| 100000/100000 [00:07<00:00, 13251.27it/s]\n",
      "  1%|          | 1117/100000 [00:00<00:08, 11163.78it/s]"
     ]
    },
    {
     "name": "stdout",
     "output_type": "stream",
     "text": [
      "-0.038795\n"
     ]
    },
    {
     "name": "stderr",
     "output_type": "stream",
     "text": [
      "100%|██████████| 100000/100000 [00:09<00:00, 10032.62it/s]\n",
      "100%|██████████| 100000/100000 [00:07<00:00, 12986.50it/s]\n",
      "  1%|          | 1038/100000 [00:00<00:09, 10377.29it/s]"
     ]
    },
    {
     "name": "stdout",
     "output_type": "stream",
     "text": [
      "-0.032285\n"
     ]
    },
    {
     "name": "stderr",
     "output_type": "stream",
     "text": [
      "100%|██████████| 100000/100000 [00:10<00:00, 9680.71it/s]\n",
      "100%|██████████| 100000/100000 [00:07<00:00, 12719.86it/s]\n",
      "  1%|          | 938/100000 [00:00<00:10, 9378.49it/s]"
     ]
    },
    {
     "name": "stdout",
     "output_type": "stream",
     "text": [
      "-0.029635\n"
     ]
    },
    {
     "name": "stderr",
     "output_type": "stream",
     "text": [
      "100%|██████████| 100000/100000 [00:10<00:00, 9198.23it/s]\n",
      "100%|██████████| 100000/100000 [00:07<00:00, 12933.19it/s]\n",
      "  1%|          | 1110/100000 [00:00<00:08, 11095.54it/s]"
     ]
    },
    {
     "name": "stdout",
     "output_type": "stream",
     "text": [
      "-0.029795\n"
     ]
    },
    {
     "name": "stderr",
     "output_type": "stream",
     "text": [
      "100%|██████████| 100000/100000 [00:10<00:00, 9118.38it/s]\n",
      "100%|██████████| 100000/100000 [00:07<00:00, 13482.03it/s]\n",
      "  1%|          | 1069/100000 [00:00<00:09, 10681.89it/s]"
     ]
    },
    {
     "name": "stdout",
     "output_type": "stream",
     "text": [
      "-0.04454\n"
     ]
    },
    {
     "name": "stderr",
     "output_type": "stream",
     "text": [
      "100%|██████████| 100000/100000 [00:10<00:00, 9368.13it/s]\n",
      "100%|██████████| 100000/100000 [00:07<00:00, 13483.04it/s]\n",
      "  1%|          | 1066/100000 [00:00<00:09, 10655.97it/s]"
     ]
    },
    {
     "name": "stdout",
     "output_type": "stream",
     "text": [
      "-0.03827\n"
     ]
    },
    {
     "name": "stderr",
     "output_type": "stream",
     "text": [
      "100%|██████████| 100000/100000 [00:10<00:00, 9162.27it/s]\n",
      "100%|██████████| 100000/100000 [00:06<00:00, 14496.30it/s]\n",
      "  1%|          | 1045/100000 [00:00<00:09, 10440.87it/s]"
     ]
    },
    {
     "name": "stdout",
     "output_type": "stream",
     "text": [
      "-0.032405\n"
     ]
    },
    {
     "name": "stderr",
     "output_type": "stream",
     "text": [
      "100%|██████████| 100000/100000 [00:09<00:00, 10186.39it/s]\n",
      "100%|██████████| 100000/100000 [00:07<00:00, 12612.54it/s]\n",
      "  1%|          | 976/100000 [00:00<00:10, 9753.94it/s]"
     ]
    },
    {
     "name": "stdout",
     "output_type": "stream",
     "text": [
      "-0.039455\n"
     ]
    },
    {
     "name": "stderr",
     "output_type": "stream",
     "text": [
      "100%|██████████| 100000/100000 [00:13<00:00, 7299.37it/s]\n",
      "100%|██████████| 100000/100000 [00:08<00:00, 11313.09it/s]\n",
      "  1%|          | 829/100000 [00:00<00:11, 8288.13it/s]"
     ]
    },
    {
     "name": "stdout",
     "output_type": "stream",
     "text": [
      "-0.030935\n"
     ]
    },
    {
     "name": "stderr",
     "output_type": "stream",
     "text": [
      "100%|██████████| 100000/100000 [00:10<00:00, 9250.64it/s]\n",
      "100%|██████████| 100000/100000 [00:07<00:00, 13074.73it/s]\n",
      "  1%|          | 968/100000 [00:00<00:10, 9670.28it/s]"
     ]
    },
    {
     "name": "stdout",
     "output_type": "stream",
     "text": [
      "-0.030465\n"
     ]
    },
    {
     "name": "stderr",
     "output_type": "stream",
     "text": [
      "100%|██████████| 100000/100000 [00:11<00:00, 8525.61it/s]\n",
      "100%|██████████| 100000/100000 [00:08<00:00, 11194.60it/s]\n",
      "  1%|          | 909/100000 [00:00<00:10, 9083.86it/s]"
     ]
    },
    {
     "name": "stdout",
     "output_type": "stream",
     "text": [
      "-0.04435\n"
     ]
    },
    {
     "name": "stderr",
     "output_type": "stream",
     "text": [
      "100%|██████████| 100000/100000 [00:11<00:00, 8988.67it/s]\n",
      "100%|██████████| 100000/100000 [00:08<00:00, 12074.74it/s]\n",
      "  1%|          | 930/100000 [00:00<00:10, 9293.52it/s]"
     ]
    },
    {
     "name": "stdout",
     "output_type": "stream",
     "text": [
      "-0.033975\n"
     ]
    },
    {
     "name": "stderr",
     "output_type": "stream",
     "text": [
      "100%|██████████| 100000/100000 [00:11<00:00, 9030.87it/s]\n",
      "100%|██████████| 100000/100000 [00:08<00:00, 12478.85it/s]\n",
      "  1%|          | 977/100000 [00:00<00:10, 9763.93it/s]"
     ]
    },
    {
     "name": "stdout",
     "output_type": "stream",
     "text": [
      "-0.021195\n",
      "Best reward: -0.0212.\n",
      "alpha = 0.0100, epsilon = 0.6500, gamma = 0.20.\n"
     ]
    },
    {
     "name": "stderr",
     "output_type": "stream",
     "text": [
      "100%|██████████| 100000/100000 [00:10<00:00, 9664.60it/s]\n",
      "100%|██████████| 100000/100000 [00:07<00:00, 13392.38it/s]\n",
      "  1%|          | 984/100000 [00:00<00:10, 9836.30it/s]"
     ]
    },
    {
     "name": "stdout",
     "output_type": "stream",
     "text": [
      "-0.037255\n"
     ]
    },
    {
     "name": "stderr",
     "output_type": "stream",
     "text": [
      "100%|██████████| 100000/100000 [00:10<00:00, 9499.61it/s]\n",
      "100%|██████████| 100000/100000 [00:07<00:00, 12723.32it/s]\n",
      "  1%|          | 1004/100000 [00:00<00:09, 10030.32it/s]"
     ]
    },
    {
     "name": "stdout",
     "output_type": "stream",
     "text": [
      "-0.027235\n"
     ]
    },
    {
     "name": "stderr",
     "output_type": "stream",
     "text": [
      "100%|██████████| 100000/100000 [00:10<00:00, 9205.86it/s]\n",
      "100%|██████████| 100000/100000 [00:08<00:00, 12220.55it/s]\n",
      "  1%|          | 947/100000 [00:00<00:10, 9469.65it/s]"
     ]
    },
    {
     "name": "stdout",
     "output_type": "stream",
     "text": [
      "-0.039415\n"
     ]
    },
    {
     "name": "stderr",
     "output_type": "stream",
     "text": [
      "100%|██████████| 100000/100000 [00:11<00:00, 8908.21it/s]\n",
      "100%|██████████| 100000/100000 [00:08<00:00, 12141.27it/s]\n",
      "  1%|          | 1013/100000 [00:00<00:09, 10128.97it/s]"
     ]
    },
    {
     "name": "stdout",
     "output_type": "stream",
     "text": [
      "-0.056725\n"
     ]
    },
    {
     "name": "stderr",
     "output_type": "stream",
     "text": [
      "100%|██████████| 100000/100000 [00:10<00:00, 9913.14it/s]\n",
      "100%|██████████| 100000/100000 [00:07<00:00, 13482.15it/s]\n",
      "  1%|          | 1008/100000 [00:00<00:09, 10074.65it/s]"
     ]
    },
    {
     "name": "stdout",
     "output_type": "stream",
     "text": [
      "-0.03557\n"
     ]
    },
    {
     "name": "stderr",
     "output_type": "stream",
     "text": [
      "100%|██████████| 100000/100000 [00:10<00:00, 9251.21it/s]\n",
      "100%|██████████| 100000/100000 [00:08<00:00, 11707.44it/s]\n",
      "  1%|          | 964/100000 [00:00<00:10, 9637.99it/s]"
     ]
    },
    {
     "name": "stdout",
     "output_type": "stream",
     "text": [
      "-0.04053\n"
     ]
    },
    {
     "name": "stderr",
     "output_type": "stream",
     "text": [
      "100%|██████████| 100000/100000 [00:11<00:00, 8933.48it/s]\n",
      "100%|██████████| 100000/100000 [00:08<00:00, 12276.67it/s]\n",
      "  1%|          | 862/100000 [00:00<00:11, 8609.77it/s]"
     ]
    },
    {
     "name": "stdout",
     "output_type": "stream",
     "text": [
      "-0.050025\n"
     ]
    },
    {
     "name": "stderr",
     "output_type": "stream",
     "text": [
      "100%|██████████| 100000/100000 [00:11<00:00, 8978.74it/s]\n",
      "100%|██████████| 100000/100000 [00:08<00:00, 12306.27it/s]\n",
      "  1%|          | 856/100000 [00:00<00:11, 8557.78it/s]"
     ]
    },
    {
     "name": "stdout",
     "output_type": "stream",
     "text": [
      "-0.030755\n"
     ]
    },
    {
     "name": "stderr",
     "output_type": "stream",
     "text": [
      "100%|██████████| 100000/100000 [00:11<00:00, 8971.28it/s]\n",
      "100%|██████████| 100000/100000 [00:07<00:00, 12619.27it/s]\n",
      "  1%|          | 923/100000 [00:00<00:10, 9221.92it/s]"
     ]
    },
    {
     "name": "stdout",
     "output_type": "stream",
     "text": [
      "-0.02808\n"
     ]
    },
    {
     "name": "stderr",
     "output_type": "stream",
     "text": [
      "100%|██████████| 100000/100000 [00:11<00:00, 9088.85it/s]\n",
      "100%|██████████| 100000/100000 [00:07<00:00, 12570.32it/s]\n",
      "  1%|          | 962/100000 [00:00<00:10, 9613.27it/s]"
     ]
    },
    {
     "name": "stdout",
     "output_type": "stream",
     "text": [
      "-0.04222\n"
     ]
    },
    {
     "name": "stderr",
     "output_type": "stream",
     "text": [
      "100%|██████████| 100000/100000 [00:11<00:00, 9067.98it/s]\n",
      "100%|██████████| 100000/100000 [00:08<00:00, 12406.25it/s]\n",
      "  1%|          | 909/100000 [00:00<00:10, 9085.03it/s]"
     ]
    },
    {
     "name": "stdout",
     "output_type": "stream",
     "text": [
      "-0.038005\n"
     ]
    },
    {
     "name": "stderr",
     "output_type": "stream",
     "text": [
      "100%|██████████| 100000/100000 [00:11<00:00, 8776.41it/s]\n",
      "100%|██████████| 100000/100000 [00:07<00:00, 12514.84it/s]\n",
      "  1%|          | 905/100000 [00:00<00:10, 9046.13it/s]"
     ]
    },
    {
     "name": "stdout",
     "output_type": "stream",
     "text": [
      "-0.03257\n"
     ]
    },
    {
     "name": "stderr",
     "output_type": "stream",
     "text": [
      "100%|██████████| 100000/100000 [00:11<00:00, 9001.25it/s]\n",
      "100%|██████████| 100000/100000 [00:08<00:00, 12411.53it/s]\n",
      "  1%|          | 912/100000 [00:00<00:10, 9105.64it/s]"
     ]
    },
    {
     "name": "stdout",
     "output_type": "stream",
     "text": [
      "-0.04224\n"
     ]
    },
    {
     "name": "stderr",
     "output_type": "stream",
     "text": [
      "100%|██████████| 100000/100000 [00:11<00:00, 8493.34it/s]\n",
      "100%|██████████| 100000/100000 [00:08<00:00, 11635.86it/s]\n",
      "  2%|▏         | 1610/100000 [00:00<00:12, 8098.88it/s]"
     ]
    },
    {
     "name": "stdout",
     "output_type": "stream",
     "text": [
      "-0.02656\n"
     ]
    },
    {
     "name": "stderr",
     "output_type": "stream",
     "text": [
      "100%|██████████| 100000/100000 [00:12<00:00, 8316.17it/s]\n",
      "100%|██████████| 100000/100000 [00:08<00:00, 12418.83it/s]\n",
      "  1%|          | 902/100000 [00:00<00:10, 9018.83it/s]"
     ]
    },
    {
     "name": "stdout",
     "output_type": "stream",
     "text": [
      "-0.033335\n"
     ]
    },
    {
     "name": "stderr",
     "output_type": "stream",
     "text": [
      "100%|██████████| 100000/100000 [00:11<00:00, 8399.86it/s]\n",
      "100%|██████████| 100000/100000 [00:08<00:00, 12242.59it/s]\n",
      "  1%|          | 786/100000 [00:00<00:12, 7851.30it/s]"
     ]
    },
    {
     "name": "stdout",
     "output_type": "stream",
     "text": [
      "-0.03396\n"
     ]
    },
    {
     "name": "stderr",
     "output_type": "stream",
     "text": [
      "100%|██████████| 100000/100000 [00:10<00:00, 9257.94it/s]\n",
      "100%|██████████| 100000/100000 [00:07<00:00, 13655.67it/s]\n",
      "  1%|          | 933/100000 [00:00<00:10, 9319.19it/s]"
     ]
    },
    {
     "name": "stdout",
     "output_type": "stream",
     "text": [
      "-0.028225\n"
     ]
    },
    {
     "name": "stderr",
     "output_type": "stream",
     "text": [
      "100%|██████████| 100000/100000 [00:10<00:00, 9580.16it/s]\n",
      "100%|██████████| 100000/100000 [00:07<00:00, 12967.58it/s]\n",
      "  1%|          | 974/100000 [00:00<00:10, 9737.78it/s]"
     ]
    },
    {
     "name": "stdout",
     "output_type": "stream",
     "text": [
      "-0.02896\n"
     ]
    },
    {
     "name": "stderr",
     "output_type": "stream",
     "text": [
      "100%|██████████| 100000/100000 [00:11<00:00, 8936.30it/s]\n",
      "100%|██████████| 100000/100000 [00:07<00:00, 13459.41it/s]\n",
      "  1%|          | 1050/100000 [00:00<00:09, 10490.41it/s]"
     ]
    },
    {
     "name": "stdout",
     "output_type": "stream",
     "text": [
      "-0.034295\n"
     ]
    },
    {
     "name": "stderr",
     "output_type": "stream",
     "text": [
      "100%|██████████| 100000/100000 [00:10<00:00, 9706.78it/s]\n",
      "100%|██████████| 100000/100000 [00:07<00:00, 14036.13it/s]\n",
      "  1%|          | 1010/100000 [00:00<00:09, 10089.86it/s]"
     ]
    },
    {
     "name": "stdout",
     "output_type": "stream",
     "text": [
      "-0.029115\n"
     ]
    },
    {
     "name": "stderr",
     "output_type": "stream",
     "text": [
      "100%|██████████| 100000/100000 [00:10<00:00, 9979.76it/s]\n",
      "100%|██████████| 100000/100000 [00:07<00:00, 13423.40it/s]\n",
      "  1%|          | 968/100000 [00:00<00:10, 9677.70it/s]"
     ]
    },
    {
     "name": "stdout",
     "output_type": "stream",
     "text": [
      "-0.027425\n"
     ]
    },
    {
     "name": "stderr",
     "output_type": "stream",
     "text": [
      "100%|██████████| 100000/100000 [00:10<00:00, 9874.72it/s]\n",
      "100%|██████████| 100000/100000 [00:07<00:00, 13294.39it/s]\n",
      "  1%|          | 998/100000 [00:00<00:09, 9977.18it/s]"
     ]
    },
    {
     "name": "stdout",
     "output_type": "stream",
     "text": [
      "-0.04259\n"
     ]
    },
    {
     "name": "stderr",
     "output_type": "stream",
     "text": [
      "100%|██████████| 100000/100000 [00:10<00:00, 9861.46it/s]\n",
      "100%|██████████| 100000/100000 [00:07<00:00, 13777.43it/s]\n",
      "  1%|          | 1111/100000 [00:00<00:08, 11104.11it/s]"
     ]
    },
    {
     "name": "stdout",
     "output_type": "stream",
     "text": [
      "-0.028115\n"
     ]
    },
    {
     "name": "stderr",
     "output_type": "stream",
     "text": [
      "100%|██████████| 100000/100000 [00:09<00:00, 10018.11it/s]\n",
      "100%|██████████| 100000/100000 [00:07<00:00, 13046.02it/s]\n",
      "  1%|          | 1003/100000 [00:00<00:09, 10024.85it/s]"
     ]
    },
    {
     "name": "stdout",
     "output_type": "stream",
     "text": [
      "-0.033155\n"
     ]
    },
    {
     "name": "stderr",
     "output_type": "stream",
     "text": [
      "100%|██████████| 100000/100000 [00:10<00:00, 9280.68it/s]\n",
      "100%|██████████| 100000/100000 [00:07<00:00, 12925.24it/s]\n",
      "  2%|▏         | 2052/100000 [00:00<00:09, 10306.35it/s]"
     ]
    },
    {
     "name": "stdout",
     "output_type": "stream",
     "text": [
      "-0.046325\n"
     ]
    },
    {
     "name": "stderr",
     "output_type": "stream",
     "text": [
      "100%|██████████| 100000/100000 [00:10<00:00, 9827.06it/s]\n",
      "100%|██████████| 100000/100000 [00:07<00:00, 13122.22it/s]\n",
      "  1%|          | 1063/100000 [00:00<00:09, 10619.76it/s]"
     ]
    },
    {
     "name": "stdout",
     "output_type": "stream",
     "text": [
      "-0.026515\n"
     ]
    },
    {
     "name": "stderr",
     "output_type": "stream",
     "text": [
      "100%|██████████| 100000/100000 [00:10<00:00, 9493.49it/s]\n",
      "100%|██████████| 100000/100000 [00:07<00:00, 12639.26it/s]\n",
      "  1%|          | 1004/100000 [00:00<00:09, 10031.35it/s]"
     ]
    },
    {
     "name": "stdout",
     "output_type": "stream",
     "text": [
      "-0.03516\n"
     ]
    },
    {
     "name": "stderr",
     "output_type": "stream",
     "text": [
      "100%|██████████| 100000/100000 [00:10<00:00, 9567.62it/s]\n",
      "100%|██████████| 100000/100000 [00:07<00:00, 13270.06it/s]\n",
      "  1%|          | 1051/100000 [00:00<00:09, 10502.37it/s]"
     ]
    },
    {
     "name": "stdout",
     "output_type": "stream",
     "text": [
      "-0.045225\n"
     ]
    },
    {
     "name": "stderr",
     "output_type": "stream",
     "text": [
      "100%|██████████| 100000/100000 [00:10<00:00, 9679.72it/s]\n",
      "100%|██████████| 100000/100000 [00:08<00:00, 11946.37it/s]\n",
      "  1%|          | 973/100000 [00:00<00:10, 9720.02it/s]"
     ]
    },
    {
     "name": "stdout",
     "output_type": "stream",
     "text": [
      "-0.03151\n"
     ]
    },
    {
     "name": "stderr",
     "output_type": "stream",
     "text": [
      "100%|██████████| 100000/100000 [00:10<00:00, 9210.50it/s]\n",
      "100%|██████████| 100000/100000 [00:07<00:00, 12830.95it/s]\n",
      "  1%|          | 884/100000 [00:00<00:11, 8829.90it/s]"
     ]
    },
    {
     "name": "stdout",
     "output_type": "stream",
     "text": [
      "-0.032195\n"
     ]
    },
    {
     "name": "stderr",
     "output_type": "stream",
     "text": [
      "100%|██████████| 100000/100000 [00:12<00:00, 8187.46it/s]\n",
      "100%|██████████| 100000/100000 [00:09<00:00, 10935.85it/s]\n",
      "  1%|          | 829/100000 [00:00<00:11, 8283.27it/s]"
     ]
    },
    {
     "name": "stdout",
     "output_type": "stream",
     "text": [
      "-0.04577\n"
     ]
    },
    {
     "name": "stderr",
     "output_type": "stream",
     "text": [
      "100%|██████████| 100000/100000 [00:13<00:00, 7659.78it/s]\n",
      "100%|██████████| 100000/100000 [00:08<00:00, 11444.79it/s]\n",
      "  1%|          | 929/100000 [00:00<00:10, 9282.00it/s]"
     ]
    },
    {
     "name": "stdout",
     "output_type": "stream",
     "text": [
      "-0.026835\n"
     ]
    },
    {
     "name": "stderr",
     "output_type": "stream",
     "text": [
      "100%|██████████| 100000/100000 [00:12<00:00, 7729.88it/s]\n",
      "100%|██████████| 100000/100000 [00:08<00:00, 12227.74it/s]\n",
      "  2%|▏         | 1789/100000 [00:00<00:10, 8959.38it/s]"
     ]
    },
    {
     "name": "stdout",
     "output_type": "stream",
     "text": [
      "-0.032415\n"
     ]
    },
    {
     "name": "stderr",
     "output_type": "stream",
     "text": [
      "100%|██████████| 100000/100000 [00:10<00:00, 9097.43it/s]\n",
      "100%|██████████| 100000/100000 [00:08<00:00, 12249.52it/s]\n",
      "  1%|          | 937/100000 [00:00<00:10, 9361.06it/s]"
     ]
    },
    {
     "name": "stdout",
     "output_type": "stream",
     "text": [
      "-0.039155\n"
     ]
    },
    {
     "name": "stderr",
     "output_type": "stream",
     "text": [
      "100%|██████████| 100000/100000 [00:12<00:00, 7746.26it/s]\n",
      "100%|██████████| 100000/100000 [00:09<00:00, 11085.57it/s]\n",
      "  1%|          | 793/100000 [00:00<00:12, 7922.58it/s]"
     ]
    },
    {
     "name": "stdout",
     "output_type": "stream",
     "text": [
      "-0.03706\n"
     ]
    },
    {
     "name": "stderr",
     "output_type": "stream",
     "text": [
      "100%|██████████| 100000/100000 [00:11<00:00, 8539.46it/s]\n",
      "100%|██████████| 100000/100000 [00:08<00:00, 11792.76it/s]\n",
      "  1%|          | 957/100000 [00:00<00:10, 9564.24it/s]"
     ]
    },
    {
     "name": "stdout",
     "output_type": "stream",
     "text": [
      "-0.03629\n"
     ]
    },
    {
     "name": "stderr",
     "output_type": "stream",
     "text": [
      "100%|██████████| 100000/100000 [00:11<00:00, 8963.97it/s]\n",
      "100%|██████████| 100000/100000 [00:08<00:00, 11645.12it/s]\n",
      "  1%|          | 860/100000 [00:00<00:11, 8592.45it/s]"
     ]
    },
    {
     "name": "stdout",
     "output_type": "stream",
     "text": [
      "-0.043835\n"
     ]
    },
    {
     "name": "stderr",
     "output_type": "stream",
     "text": [
      "100%|██████████| 100000/100000 [00:11<00:00, 8911.44it/s]\n",
      "100%|██████████| 100000/100000 [00:07<00:00, 12520.38it/s]\n",
      "  1%|          | 815/100000 [00:00<00:12, 8146.51it/s]"
     ]
    },
    {
     "name": "stdout",
     "output_type": "stream",
     "text": [
      "-0.03849\n"
     ]
    },
    {
     "name": "stderr",
     "output_type": "stream",
     "text": [
      "100%|██████████| 100000/100000 [00:11<00:00, 8755.32it/s]\n",
      "100%|██████████| 100000/100000 [00:08<00:00, 12096.73it/s]\n",
      "  1%|          | 946/100000 [00:00<00:10, 9458.52it/s]"
     ]
    },
    {
     "name": "stdout",
     "output_type": "stream",
     "text": [
      "-0.0321\n"
     ]
    },
    {
     "name": "stderr",
     "output_type": "stream",
     "text": [
      "100%|██████████| 100000/100000 [00:10<00:00, 9246.39it/s]\n",
      "100%|██████████| 100000/100000 [00:07<00:00, 12817.64it/s]\n",
      "  1%|          | 960/100000 [00:00<00:10, 9594.20it/s]"
     ]
    },
    {
     "name": "stdout",
     "output_type": "stream",
     "text": [
      "-0.034675\n"
     ]
    },
    {
     "name": "stderr",
     "output_type": "stream",
     "text": [
      "100%|██████████| 100000/100000 [00:10<00:00, 9286.86it/s]\n",
      "100%|██████████| 100000/100000 [00:08<00:00, 12166.88it/s]\n",
      "  1%|          | 960/100000 [00:00<00:10, 9597.29it/s]"
     ]
    },
    {
     "name": "stdout",
     "output_type": "stream",
     "text": [
      "-0.026335\n"
     ]
    },
    {
     "name": "stderr",
     "output_type": "stream",
     "text": [
      "100%|██████████| 100000/100000 [00:11<00:00, 8661.09it/s]\n",
      "100%|██████████| 100000/100000 [00:08<00:00, 11286.65it/s]\n",
      "  1%|          | 901/100000 [00:00<00:11, 9004.60it/s]"
     ]
    },
    {
     "name": "stdout",
     "output_type": "stream",
     "text": [
      "-0.03213\n"
     ]
    },
    {
     "name": "stderr",
     "output_type": "stream",
     "text": [
      "100%|██████████| 100000/100000 [00:12<00:00, 8256.93it/s]\n",
      "100%|██████████| 100000/100000 [00:09<00:00, 10004.25it/s]\n",
      "  1%|          | 1017/100000 [00:00<00:09, 10166.33it/s]"
     ]
    },
    {
     "name": "stdout",
     "output_type": "stream",
     "text": [
      "-0.039225\n"
     ]
    },
    {
     "name": "stderr",
     "output_type": "stream",
     "text": [
      "100%|██████████| 100000/100000 [00:10<00:00, 9196.40it/s]\n",
      "100%|██████████| 100000/100000 [00:07<00:00, 12842.08it/s]\n",
      "  1%|          | 1004/100000 [00:00<00:09, 10039.22it/s]"
     ]
    },
    {
     "name": "stdout",
     "output_type": "stream",
     "text": [
      "-0.028915\n"
     ]
    },
    {
     "name": "stderr",
     "output_type": "stream",
     "text": [
      "100%|██████████| 100000/100000 [00:10<00:00, 9299.95it/s]\n",
      "100%|██████████| 100000/100000 [00:07<00:00, 12675.25it/s]\n",
      "  1%|          | 1000/100000 [00:00<00:09, 9993.60it/s]"
     ]
    },
    {
     "name": "stdout",
     "output_type": "stream",
     "text": [
      "-0.040795\n"
     ]
    },
    {
     "name": "stderr",
     "output_type": "stream",
     "text": [
      "100%|██████████| 100000/100000 [00:10<00:00, 9400.67it/s]\n",
      "100%|██████████| 100000/100000 [00:07<00:00, 12599.42it/s]\n",
      "  1%|          | 968/100000 [00:00<00:10, 9677.31it/s]"
     ]
    },
    {
     "name": "stdout",
     "output_type": "stream",
     "text": [
      "-0.062405\n"
     ]
    },
    {
     "name": "stderr",
     "output_type": "stream",
     "text": [
      "100%|██████████| 100000/100000 [00:10<00:00, 9455.91it/s]\n",
      "100%|██████████| 100000/100000 [00:07<00:00, 12842.21it/s]\n",
      "  1%|          | 1034/100000 [00:00<00:09, 10331.93it/s]"
     ]
    },
    {
     "name": "stdout",
     "output_type": "stream",
     "text": [
      "-0.02666\n"
     ]
    },
    {
     "name": "stderr",
     "output_type": "stream",
     "text": [
      "100%|██████████| 100000/100000 [00:10<00:00, 9300.94it/s]\n",
      "100%|██████████| 100000/100000 [00:08<00:00, 12276.56it/s]\n",
      "  1%|          | 1007/100000 [00:00<00:09, 10059.58it/s]"
     ]
    },
    {
     "name": "stdout",
     "output_type": "stream",
     "text": [
      "-0.032025\n"
     ]
    },
    {
     "name": "stderr",
     "output_type": "stream",
     "text": [
      "100%|██████████| 100000/100000 [00:10<00:00, 9423.46it/s]\n",
      "100%|██████████| 100000/100000 [00:08<00:00, 12480.41it/s]\n",
      "  1%|          | 967/100000 [00:00<00:10, 9666.25it/s]"
     ]
    },
    {
     "name": "stdout",
     "output_type": "stream",
     "text": [
      "-0.041685\n"
     ]
    },
    {
     "name": "stderr",
     "output_type": "stream",
     "text": [
      "100%|██████████| 100000/100000 [00:10<00:00, 9407.86it/s]\n",
      "100%|██████████| 100000/100000 [00:07<00:00, 13072.32it/s]\n",
      "  1%|          | 927/100000 [00:00<00:10, 9262.77it/s]"
     ]
    },
    {
     "name": "stdout",
     "output_type": "stream",
     "text": [
      "-0.03064\n"
     ]
    },
    {
     "name": "stderr",
     "output_type": "stream",
     "text": [
      "100%|██████████| 100000/100000 [00:10<00:00, 9097.18it/s]\n",
      "100%|██████████| 100000/100000 [00:08<00:00, 11714.37it/s]\n",
      "  1%|          | 919/100000 [00:00<00:10, 9175.35it/s]"
     ]
    },
    {
     "name": "stdout",
     "output_type": "stream",
     "text": [
      "-0.031265\n"
     ]
    },
    {
     "name": "stderr",
     "output_type": "stream",
     "text": [
      "100%|██████████| 100000/100000 [00:11<00:00, 9039.25it/s]\n",
      "100%|██████████| 100000/100000 [00:08<00:00, 11758.42it/s]\n",
      "  1%|          | 1029/100000 [00:00<00:09, 10280.48it/s]"
     ]
    },
    {
     "name": "stdout",
     "output_type": "stream",
     "text": [
      "-0.04997\n"
     ]
    },
    {
     "name": "stderr",
     "output_type": "stream",
     "text": [
      "100%|██████████| 100000/100000 [00:10<00:00, 9401.63it/s]\n",
      "100%|██████████| 100000/100000 [00:07<00:00, 13267.79it/s]\n",
      "  1%|          | 1035/100000 [00:00<00:09, 10346.58it/s]"
     ]
    },
    {
     "name": "stdout",
     "output_type": "stream",
     "text": [
      "-0.03441\n"
     ]
    },
    {
     "name": "stderr",
     "output_type": "stream",
     "text": [
      "100%|██████████| 100000/100000 [00:10<00:00, 9466.90it/s]\n",
      "100%|██████████| 100000/100000 [00:07<00:00, 12521.73it/s]\n",
      "  1%|          | 932/100000 [00:00<00:10, 9319.43it/s]"
     ]
    },
    {
     "name": "stdout",
     "output_type": "stream",
     "text": [
      "-0.0365\n"
     ]
    },
    {
     "name": "stderr",
     "output_type": "stream",
     "text": [
      "100%|██████████| 100000/100000 [00:11<00:00, 9055.25it/s]\n",
      "100%|██████████| 100000/100000 [00:07<00:00, 12916.49it/s]\n",
      "  1%|          | 1033/100000 [00:00<00:09, 10322.21it/s]"
     ]
    },
    {
     "name": "stdout",
     "output_type": "stream",
     "text": [
      "-0.047345\n"
     ]
    },
    {
     "name": "stderr",
     "output_type": "stream",
     "text": [
      "100%|██████████| 100000/100000 [00:11<00:00, 9023.51it/s]\n",
      "100%|██████████| 100000/100000 [00:07<00:00, 12997.67it/s]\n",
      "  1%|          | 978/100000 [00:00<00:10, 9775.72it/s]"
     ]
    },
    {
     "name": "stdout",
     "output_type": "stream",
     "text": [
      "-0.0287\n"
     ]
    },
    {
     "name": "stderr",
     "output_type": "stream",
     "text": [
      "100%|██████████| 100000/100000 [00:10<00:00, 9315.93it/s]\n",
      "100%|██████████| 100000/100000 [00:08<00:00, 12047.73it/s]\n",
      "  1%|          | 982/100000 [00:00<00:10, 9810.30it/s]"
     ]
    },
    {
     "name": "stdout",
     "output_type": "stream",
     "text": [
      "-0.02894\n"
     ]
    },
    {
     "name": "stderr",
     "output_type": "stream",
     "text": [
      "100%|██████████| 100000/100000 [00:10<00:00, 9253.86it/s]\n",
      "100%|██████████| 100000/100000 [00:07<00:00, 12560.88it/s]\n",
      "  1%|          | 925/100000 [00:00<00:10, 9242.54it/s]"
     ]
    },
    {
     "name": "stdout",
     "output_type": "stream",
     "text": [
      "-0.03826\n"
     ]
    },
    {
     "name": "stderr",
     "output_type": "stream",
     "text": [
      "100%|██████████| 100000/100000 [00:11<00:00, 8916.21it/s]\n",
      "100%|██████████| 100000/100000 [00:07<00:00, 13167.42it/s]\n",
      "  1%|          | 955/100000 [00:00<00:10, 9547.96it/s]"
     ]
    },
    {
     "name": "stdout",
     "output_type": "stream",
     "text": [
      "-0.033345\n"
     ]
    },
    {
     "name": "stderr",
     "output_type": "stream",
     "text": [
      "100%|██████████| 100000/100000 [00:10<00:00, 9463.51it/s]\n",
      "100%|██████████| 100000/100000 [00:08<00:00, 12039.96it/s]\n",
      "  1%|          | 1001/100000 [00:00<00:09, 10006.45it/s]"
     ]
    },
    {
     "name": "stdout",
     "output_type": "stream",
     "text": [
      "-0.03921\n"
     ]
    },
    {
     "name": "stderr",
     "output_type": "stream",
     "text": [
      "100%|██████████| 100000/100000 [00:12<00:00, 8131.42it/s]\n",
      "100%|██████████| 100000/100000 [00:07<00:00, 12506.30it/s]\n",
      "  1%|          | 974/100000 [00:00<00:10, 9738.22it/s]"
     ]
    },
    {
     "name": "stdout",
     "output_type": "stream",
     "text": [
      "-0.041125\n"
     ]
    },
    {
     "name": "stderr",
     "output_type": "stream",
     "text": [
      "100%|██████████| 100000/100000 [00:10<00:00, 9478.91it/s]\n",
      "100%|██████████| 100000/100000 [00:07<00:00, 13251.34it/s]\n",
      "  1%|          | 951/100000 [00:00<00:10, 9506.50it/s]"
     ]
    },
    {
     "name": "stdout",
     "output_type": "stream",
     "text": [
      "-0.03301\n"
     ]
    },
    {
     "name": "stderr",
     "output_type": "stream",
     "text": [
      "100%|██████████| 100000/100000 [00:10<00:00, 9095.75it/s]\n",
      "100%|██████████| 100000/100000 [00:08<00:00, 11496.95it/s]\n",
      "  1%|          | 951/100000 [00:00<00:10, 9507.76it/s]"
     ]
    },
    {
     "name": "stdout",
     "output_type": "stream",
     "text": [
      "-0.03463\n"
     ]
    },
    {
     "name": "stderr",
     "output_type": "stream",
     "text": [
      "100%|██████████| 100000/100000 [00:11<00:00, 9058.23it/s]\n",
      "100%|██████████| 100000/100000 [00:08<00:00, 11335.37it/s]\n",
      "  1%|          | 969/100000 [00:00<00:10, 9677.90it/s]"
     ]
    },
    {
     "name": "stdout",
     "output_type": "stream",
     "text": [
      "-0.03511\n"
     ]
    },
    {
     "name": "stderr",
     "output_type": "stream",
     "text": [
      "100%|██████████| 100000/100000 [00:11<00:00, 8952.82it/s]\n",
      "100%|██████████| 100000/100000 [00:07<00:00, 12833.86it/s]\n",
      "  1%|          | 944/100000 [00:00<00:10, 9438.07it/s]"
     ]
    },
    {
     "name": "stdout",
     "output_type": "stream",
     "text": [
      "-0.0397\n"
     ]
    },
    {
     "name": "stderr",
     "output_type": "stream",
     "text": [
      "100%|██████████| 100000/100000 [00:11<00:00, 8795.31it/s]\n",
      "100%|██████████| 100000/100000 [00:08<00:00, 11312.80it/s]\n",
      "  1%|          | 959/100000 [00:00<00:10, 9581.15it/s]"
     ]
    },
    {
     "name": "stdout",
     "output_type": "stream",
     "text": [
      "-0.036325\n"
     ]
    },
    {
     "name": "stderr",
     "output_type": "stream",
     "text": [
      "100%|██████████| 100000/100000 [00:11<00:00, 8709.17it/s]\n",
      "100%|██████████| 100000/100000 [00:08<00:00, 11389.90it/s]\n",
      "  1%|          | 966/100000 [00:00<00:10, 9658.77it/s]"
     ]
    },
    {
     "name": "stdout",
     "output_type": "stream",
     "text": [
      "-0.0584\n"
     ]
    },
    {
     "name": "stderr",
     "output_type": "stream",
     "text": [
      "100%|██████████| 100000/100000 [00:11<00:00, 8661.30it/s]\n",
      "100%|██████████| 100000/100000 [00:08<00:00, 12394.08it/s]\n",
      "  1%|          | 961/100000 [00:00<00:10, 9609.18it/s]"
     ]
    },
    {
     "name": "stdout",
     "output_type": "stream",
     "text": [
      "-0.02895\n"
     ]
    },
    {
     "name": "stderr",
     "output_type": "stream",
     "text": [
      "100%|██████████| 100000/100000 [00:10<00:00, 9173.89it/s]\n",
      "100%|██████████| 100000/100000 [00:07<00:00, 12626.06it/s]\n",
      "  1%|          | 887/100000 [00:00<00:11, 8862.89it/s]"
     ]
    },
    {
     "name": "stdout",
     "output_type": "stream",
     "text": [
      "-0.02927\n"
     ]
    },
    {
     "name": "stderr",
     "output_type": "stream",
     "text": [
      "100%|██████████| 100000/100000 [00:10<00:00, 9396.96it/s]\n",
      "100%|██████████| 100000/100000 [00:08<00:00, 12366.31it/s]\n",
      "  1%|          | 781/100000 [00:00<00:12, 7806.94it/s]"
     ]
    },
    {
     "name": "stdout",
     "output_type": "stream",
     "text": [
      "-0.03901\n"
     ]
    },
    {
     "name": "stderr",
     "output_type": "stream",
     "text": [
      "100%|██████████| 100000/100000 [00:12<00:00, 8185.51it/s]\n",
      "100%|██████████| 100000/100000 [00:07<00:00, 13130.51it/s]\n",
      "  1%|          | 1065/100000 [00:00<00:09, 10646.15it/s]"
     ]
    },
    {
     "name": "stdout",
     "output_type": "stream",
     "text": [
      "-0.0313\n"
     ]
    },
    {
     "name": "stderr",
     "output_type": "stream",
     "text": [
      "100%|██████████| 100000/100000 [00:11<00:00, 8879.31it/s]\n",
      "100%|██████████| 100000/100000 [00:07<00:00, 12637.73it/s]\n",
      "  1%|          | 1045/100000 [00:00<00:09, 10442.24it/s]"
     ]
    },
    {
     "name": "stdout",
     "output_type": "stream",
     "text": [
      "-0.02724\n"
     ]
    },
    {
     "name": "stderr",
     "output_type": "stream",
     "text": [
      "100%|██████████| 100000/100000 [00:11<00:00, 9064.15it/s]\n",
      "100%|██████████| 100000/100000 [00:08<00:00, 11617.15it/s]\n",
      "  1%|          | 758/100000 [00:00<00:13, 7577.03it/s]"
     ]
    },
    {
     "name": "stdout",
     "output_type": "stream",
     "text": [
      "-0.036855\n"
     ]
    },
    {
     "name": "stderr",
     "output_type": "stream",
     "text": [
      "100%|██████████| 100000/100000 [00:11<00:00, 8684.18it/s]\n",
      "100%|██████████| 100000/100000 [00:07<00:00, 12642.35it/s]\n",
      "  2%|▏         | 2103/100000 [00:00<00:09, 10529.66it/s]"
     ]
    },
    {
     "name": "stdout",
     "output_type": "stream",
     "text": [
      "-0.02973\n"
     ]
    },
    {
     "name": "stderr",
     "output_type": "stream",
     "text": [
      "100%|██████████| 100000/100000 [00:09<00:00, 10041.15it/s]\n",
      "100%|██████████| 100000/100000 [00:07<00:00, 13328.52it/s]\n",
      "  1%|          | 963/100000 [00:00<00:10, 9623.38it/s]"
     ]
    },
    {
     "name": "stdout",
     "output_type": "stream",
     "text": [
      "-0.03868\n"
     ]
    },
    {
     "name": "stderr",
     "output_type": "stream",
     "text": [
      "100%|██████████| 100000/100000 [00:12<00:00, 8307.66it/s]\n",
      "100%|██████████| 100000/100000 [00:10<00:00, 9942.04it/s]\n",
      "  1%|          | 677/100000 [00:00<00:14, 6765.23it/s]"
     ]
    },
    {
     "name": "stdout",
     "output_type": "stream",
     "text": [
      "-0.042445\n"
     ]
    },
    {
     "name": "stderr",
     "output_type": "stream",
     "text": [
      "100%|██████████| 100000/100000 [00:11<00:00, 8515.35it/s]\n",
      "100%|██████████| 100000/100000 [00:09<00:00, 10996.85it/s]\n",
      "  1%|          | 836/100000 [00:00<00:11, 8358.61it/s]"
     ]
    },
    {
     "name": "stdout",
     "output_type": "stream",
     "text": [
      "-0.04011\n"
     ]
    },
    {
     "name": "stderr",
     "output_type": "stream",
     "text": [
      "100%|██████████| 100000/100000 [00:10<00:00, 9507.16it/s]\n",
      "100%|██████████| 100000/100000 [00:08<00:00, 12369.17it/s]\n",
      "  1%|          | 1052/100000 [00:00<00:09, 10516.63it/s]"
     ]
    },
    {
     "name": "stdout",
     "output_type": "stream",
     "text": [
      "-0.02877\n"
     ]
    },
    {
     "name": "stderr",
     "output_type": "stream",
     "text": [
      "100%|██████████| 100000/100000 [00:10<00:00, 9548.20it/s]\n",
      "100%|██████████| 100000/100000 [00:08<00:00, 11790.65it/s]\n",
      "  1%|          | 872/100000 [00:00<00:11, 8713.90it/s]"
     ]
    },
    {
     "name": "stdout",
     "output_type": "stream",
     "text": [
      "-0.04126\n"
     ]
    },
    {
     "name": "stderr",
     "output_type": "stream",
     "text": [
      "100%|██████████| 100000/100000 [00:12<00:00, 8137.91it/s]\n",
      "100%|██████████| 100000/100000 [00:08<00:00, 12068.71it/s]\n",
      "  1%|          | 760/100000 [00:00<00:13, 7596.20it/s]"
     ]
    },
    {
     "name": "stdout",
     "output_type": "stream",
     "text": [
      "-0.027765\n"
     ]
    },
    {
     "name": "stderr",
     "output_type": "stream",
     "text": [
      "100%|██████████| 100000/100000 [00:11<00:00, 8921.58it/s]\n",
      "100%|██████████| 100000/100000 [00:07<00:00, 12865.81it/s]\n",
      "  1%|          | 975/100000 [00:00<00:10, 9739.82it/s]"
     ]
    },
    {
     "name": "stdout",
     "output_type": "stream",
     "text": [
      "-0.02981\n"
     ]
    },
    {
     "name": "stderr",
     "output_type": "stream",
     "text": [
      "100%|██████████| 100000/100000 [00:11<00:00, 8720.90it/s]\n",
      "100%|██████████| 100000/100000 [00:08<00:00, 11230.61it/s]\n",
      "  1%|          | 924/100000 [00:00<00:10, 9233.47it/s]"
     ]
    },
    {
     "name": "stdout",
     "output_type": "stream",
     "text": [
      "-0.045175\n"
     ]
    },
    {
     "name": "stderr",
     "output_type": "stream",
     "text": [
      "100%|██████████| 100000/100000 [00:10<00:00, 9497.48it/s]\n",
      "100%|██████████| 100000/100000 [00:08<00:00, 12102.72it/s]\n",
      "  1%|          | 931/100000 [00:00<00:10, 9300.63it/s]"
     ]
    },
    {
     "name": "stdout",
     "output_type": "stream",
     "text": [
      "-0.03704\n"
     ]
    },
    {
     "name": "stderr",
     "output_type": "stream",
     "text": [
      "100%|██████████| 100000/100000 [00:11<00:00, 9046.09it/s]\n",
      "100%|██████████| 100000/100000 [00:07<00:00, 12796.29it/s]\n",
      "  1%|          | 1044/100000 [00:00<00:09, 10431.26it/s]"
     ]
    },
    {
     "name": "stdout",
     "output_type": "stream",
     "text": [
      "-0.03422\n"
     ]
    },
    {
     "name": "stderr",
     "output_type": "stream",
     "text": [
      "100%|██████████| 100000/100000 [00:11<00:00, 8678.32it/s]\n",
      "100%|██████████| 100000/100000 [00:07<00:00, 13160.77it/s]"
     ]
    },
    {
     "name": "stdout",
     "output_type": "stream",
     "text": [
      "-0.046225\n"
     ]
    },
    {
     "name": "stderr",
     "output_type": "stream",
     "text": [
      "\n"
     ]
    }
   ],
   "source": [
    "env.close()\n",
    "env = gym.make('Blackjack-v0', natural=True)\n",
    "\n",
    "best_alpha, best_epsilon, best_gamma = tuning_params(\n",
    "    env=env,\n",
    "    alpha_values=np.arange(0.002, 0.020, 0.002),\n",
    "    epsilon_values=np.arange(0.05, 0.75, 0.1),\n",
    "    gamma_values=np.arange(0.05, 0.45, 0.15),\n",
    "    train_epochs=100000,\n",
    "    eval_epochs=100000\n",
    ")"
   ]
  },
  {
   "cell_type": "code",
   "execution_count": 21,
   "id": "practical-secret",
   "metadata": {},
   "outputs": [
    {
     "name": "stderr",
     "output_type": "stream",
     "text": [
      "100%|██████████| 250001/250001 [00:27<00:00, 8990.78it/s] \n"
     ]
    }
   ],
   "source": [
    "pi, pi_hist = Q_learning(\n",
    "    env, \n",
    "    alpha=best_alpha,\n",
    "    epsilon=best_epsilon, \n",
    "    gamma=best_gamma, \n",
    "    epochs=250001,\n",
    "    track_history=True\n",
    ")"
   ]
  },
  {
   "cell_type": "code",
   "execution_count": 22,
   "id": "rational-absolute",
   "metadata": {},
   "outputs": [
    {
     "name": "stderr",
     "output_type": "stream",
     "text": [
      "100%|██████████| 200000/200000 [00:15<00:00, 13241.80it/s]\n",
      "100%|██████████| 200000/200000 [00:15<00:00, 13133.15it/s]\n",
      "100%|██████████| 200000/200000 [00:14<00:00, 13423.62it/s]\n",
      "100%|██████████| 200000/200000 [00:15<00:00, 13300.16it/s]\n",
      "100%|██████████| 200000/200000 [00:15<00:00, 13332.74it/s]\n",
      "100%|██████████| 200000/200000 [00:15<00:00, 12561.21it/s]\n",
      "100%|██████████| 200000/200000 [00:15<00:00, 12978.92it/s]\n",
      "100%|██████████| 200000/200000 [00:17<00:00, 11619.68it/s]\n",
      "100%|██████████| 200000/200000 [00:17<00:00, 11726.20it/s]\n",
      "100%|██████████| 200000/200000 [00:15<00:00, 12552.20it/s]\n",
      "100%|██████████| 200000/200000 [00:15<00:00, 13294.44it/s]\n"
     ]
    },
    {
     "data": {
      "text/plain": [
       "[<matplotlib.lines.Line2D at 0x7fe5741a69d0>]"
      ]
     },
     "execution_count": 22,
     "metadata": {},
     "output_type": "execute_result"
    },
    {
     "data": {
      "image/png": "[encoded data removed]",
      "text/plain": [
       "<Figure size 432x288 with 1 Axes>"
      ]
     },
     "metadata": {
      "needs_background": "light"
     },
     "output_type": "display_data"
    }
   ],
   "source": [
    "avg_reward_hist = [avg_reward(env, pi, epochs=200000) for pi in pi_hist]\n",
    "\n",
    "plt.plot(list(range(0, 250001, 25000)), avg_reward_hist)"
   ]
  },
  {
   "cell_type": "markdown",
   "id": "strange-analysis",
   "metadata": {},
   "source": [
    "## Часть вторая, удвоенная"
   ]
  },
  {
   "cell_type": "markdown",
   "id": "assumed-utility",
   "metadata": {},
   "source": [
    "В базовый блекджек, описанный в предыдущем разделе, обыграть казино вряд ли\n",
    "получится. Но, к счастью, на этом история не заканчивается. Описанные выше правила\n",
    "были упрощёнными, а на самом деле у игрока есть ещё и другие возможности.\n",
    "Реализовывать split может оказаться непросто, поэтому давайте ограничимся удвоением\n",
    "ставки. Итак, у игрока появляется дополнительное действие:\n",
    "* double — удвоить ставку; при этом больше действий делать нельзя, игроку выдаётся ровно одна дополнительная карта, а выигрыш или проигрыш удваивается."
   ]
  },
  {
   "cell_type": "markdown",
   "id": "confirmed-incentive",
   "metadata": {},
   "source": [
    "### 2.1 Реализуйте новый вариант блекджека на основе окружения Blackjack-v0 из OpenAI Gym, в котором разрешено удвоение ставки."
   ]
  },
  {
   "cell_type": "code",
   "execution_count": 23,
   "id": "balanced-print",
   "metadata": {},
   "outputs": [],
   "source": [
    "from gym.envs.toy_text import BlackjackEnv"
   ]
  },
  {
   "cell_type": "code",
   "execution_count": 24,
   "id": "latin-defendant",
   "metadata": {},
   "outputs": [],
   "source": [
    "from gym import spaces\n",
    "from gym.utils import seeding\n",
    "\n",
    "\n",
    "def cmp(a, b):\n",
    "    return float(a > b) - float(a < b)\n",
    "\n",
    "\n",
    "# 1 = Ace, 2-10 = Number cards, Jack/Queen/King = 10\n",
    "deck = [1, 2, 3, 4, 5, 6, 7, 8, 9, 10, 10, 10, 10]\n",
    "\n",
    "\n",
    "class DoubleBlackjackEnv(BlackjackEnv):\n",
    "\n",
    "    def __init__(self, natural=False, sab=False):\n",
    "        self.action_space = spaces.Discrete(3)\n",
    "        self.observation_space = spaces.Tuple(\n",
    "            (spaces.Discrete(32), spaces.Discrete(11), spaces.Discrete(2))\n",
    "        )\n",
    "\n",
    "        self.seed()\n",
    "\n",
    "        # Flag to payout 1.5 on a \"natural\" blackjack win, like casino rules\n",
    "        # Ref: http://www.bicyclecards.com/how-to-play/blackjack/\n",
    "        self.natural = natural\n",
    "\n",
    "        # Flag for full agreement with the (Sutton and Barto, 2018) definition. Overrides self.natural\n",
    "        self.sab = sab\n",
    "\n",
    "    def draw_card(self, np_random):\n",
    "        return int(np_random.choice(deck))\n",
    "\n",
    "    def draw_hand(self, np_random):\n",
    "        return [self.draw_card(np_random), self.draw_card(np_random)]\n",
    "\n",
    "    def usable_ace(self, hand):  # Does this hand have a usable ace?\n",
    "        return 1 in hand and sum(hand) + 10 <= 21\n",
    "\n",
    "    def sum_hand(self, hand):  # Return current hand total\n",
    "        if self.usable_ace(hand):\n",
    "            return sum(hand) + 10\n",
    "        return sum(hand)\n",
    "\n",
    "    def is_bust(self, hand):  # Is this hand a bust?\n",
    "        return self.sum_hand(hand) > 21\n",
    "    \n",
    "    def score(self, hand):  # What is the score of this hand (0 if bust)\n",
    "        return 0 if self.is_bust(hand) else self.sum_hand(hand)\n",
    "\n",
    "    def is_natural(self, hand):  # Is this hand a natural blackjack?\n",
    "        return sorted(hand) == [1, 10]\n",
    "\n",
    "    def step(self, action):\n",
    "        assert self.action_space.contains(action)\n",
    "        if action == 2: # double: add a card to players hand and finish game, reward will be doubled\n",
    "            _, reward, done, _ = self.step(action=1) # hit\n",
    "            if not done:\n",
    "                _, reward, done, _ = self.step(action=0) # stick\n",
    "            reward *= 2\n",
    "\n",
    "        elif action == 1: # hit: add a card to players hand and return\n",
    "            self.player.append(self.draw_card(self.np_random))\n",
    "            if self.is_bust(self.player):\n",
    "                done = True\n",
    "                reward = -1.0\n",
    "            else:\n",
    "                done = False\n",
    "                reward = 0.0\n",
    "\n",
    "        else:  # stick: play out the dealers hand, and score\n",
    "            done = True\n",
    "            while self.sum_hand(self.dealer) < 17:\n",
    "                self.dealer.append(self.draw_card(self.np_random))\n",
    "            reward = cmp(self.score(self.player), self.score(self.dealer))\n",
    "            if self.sab and self.is_natural(self.player) and not self.is_natural(self.dealer):\n",
    "                # Player automatically wins. Rules consistent with S&B\n",
    "                reward = 1.0\n",
    "            elif (\n",
    "                not self.sab\n",
    "                and self.natural\n",
    "                and self.is_natural(self.player)\n",
    "                and reward == 1.0\n",
    "            ):\n",
    "                # Natural gives extra points, but doesn't autowin. Legacy implementation\n",
    "                reward = 1.5\n",
    "        return self._get_obs(), reward, done, {}"
   ]
  },
  {
   "cell_type": "markdown",
   "id": "ignored-scene",
   "metadata": {},
   "source": [
    "### 2.2 Реализуйте метод обучения с подкреплением без модели для этого варианта, постройте графики, аналогичные п.2."
   ]
  },
  {
   "cell_type": "code",
   "execution_count": 25,
   "id": "facial-illustration",
   "metadata": {},
   "outputs": [],
   "source": [
    "env = DoubleBlackjackEnv(natural=True)"
   ]
  },
  {
   "cell_type": "code",
   "execution_count": 26,
   "id": "earned-surprise",
   "metadata": {
    "scrolled": true
   },
   "outputs": [
    {
     "name": "stderr",
     "output_type": "stream",
     "text": [
      "100%|██████████| 100000/100000 [00:09<00:00, 10154.97it/s]\n",
      "100%|██████████| 100000/100000 [00:07<00:00, 14059.12it/s]\n",
      "  1%|          | 920/100000 [00:00<00:10, 9196.70it/s]"
     ]
    },
    {
     "name": "stdout",
     "output_type": "stream",
     "text": [
      "-0.051295\n",
      "Best reward: -0.0513.\n",
      "alpha = 0.0020, epsilon = 0.0500, gamma = 0.05.\n"
     ]
    },
    {
     "name": "stderr",
     "output_type": "stream",
     "text": [
      "100%|██████████| 100000/100000 [00:10<00:00, 9472.98it/s]\n",
      "100%|██████████| 100000/100000 [00:07<00:00, 13397.32it/s]\n",
      "  1%|          | 974/100000 [00:00<00:10, 9736.41it/s]"
     ]
    },
    {
     "name": "stdout",
     "output_type": "stream",
     "text": [
      "-0.10338\n"
     ]
    },
    {
     "name": "stderr",
     "output_type": "stream",
     "text": [
      "100%|██████████| 100000/100000 [00:10<00:00, 9145.51it/s]\n",
      "100%|██████████| 100000/100000 [00:08<00:00, 11959.34it/s]\n",
      "  1%|          | 987/100000 [00:00<00:10, 9855.84it/s]"
     ]
    },
    {
     "name": "stdout",
     "output_type": "stream",
     "text": [
      "-0.11998\n"
     ]
    },
    {
     "name": "stderr",
     "output_type": "stream",
     "text": [
      "100%|██████████| 100000/100000 [00:10<00:00, 9921.71it/s]\n",
      "100%|██████████| 100000/100000 [00:07<00:00, 12627.12it/s]\n",
      "  2%|▏         | 1823/100000 [00:00<00:10, 9268.21it/s]"
     ]
    },
    {
     "name": "stdout",
     "output_type": "stream",
     "text": [
      "-0.05293\n"
     ]
    },
    {
     "name": "stderr",
     "output_type": "stream",
     "text": [
      "100%|██████████| 100000/100000 [00:10<00:00, 9433.12it/s]\n",
      "100%|██████████| 100000/100000 [00:07<00:00, 12653.15it/s]\n",
      "  1%|          | 929/100000 [00:00<00:10, 9285.76it/s]"
     ]
    },
    {
     "name": "stdout",
     "output_type": "stream",
     "text": [
      "-0.046015\n",
      "Best reward: -0.0460.\n",
      "alpha = 0.0020, epsilon = 0.1500, gamma = 0.20.\n"
     ]
    },
    {
     "name": "stderr",
     "output_type": "stream",
     "text": [
      "100%|██████████| 100000/100000 [00:10<00:00, 9464.07it/s]\n",
      "100%|██████████| 100000/100000 [00:08<00:00, 12222.30it/s]\n",
      "  1%|          | 927/100000 [00:00<00:10, 9266.89it/s]"
     ]
    },
    {
     "name": "stdout",
     "output_type": "stream",
     "text": [
      "-0.05531\n"
     ]
    },
    {
     "name": "stderr",
     "output_type": "stream",
     "text": [
      "100%|██████████| 100000/100000 [00:11<00:00, 8999.67it/s]\n",
      "100%|██████████| 100000/100000 [00:08<00:00, 12086.66it/s]\n",
      "  1%|          | 996/100000 [00:00<00:09, 9949.31it/s]"
     ]
    },
    {
     "name": "stdout",
     "output_type": "stream",
     "text": [
      "-0.03782\n",
      "Best reward: -0.0378.\n",
      "alpha = 0.0020, epsilon = 0.2500, gamma = 0.05.\n"
     ]
    },
    {
     "name": "stderr",
     "output_type": "stream",
     "text": [
      "100%|██████████| 100000/100000 [00:11<00:00, 8617.21it/s]\n",
      "100%|██████████| 100000/100000 [00:07<00:00, 13482.56it/s]\n",
      "  1%|          | 1095/100000 [00:00<00:09, 10944.24it/s]"
     ]
    },
    {
     "name": "stdout",
     "output_type": "stream",
     "text": [
      "-0.04225\n"
     ]
    },
    {
     "name": "stderr",
     "output_type": "stream",
     "text": [
      "100%|██████████| 100000/100000 [00:11<00:00, 9016.40it/s]\n",
      "100%|██████████| 100000/100000 [00:08<00:00, 11993.46it/s]\n",
      "  1%|          | 956/100000 [00:00<00:10, 9554.36it/s]"
     ]
    },
    {
     "name": "stdout",
     "output_type": "stream",
     "text": [
      "-0.08134\n"
     ]
    },
    {
     "name": "stderr",
     "output_type": "stream",
     "text": [
      "100%|██████████| 100000/100000 [00:11<00:00, 9004.04it/s]\n",
      "100%|██████████| 100000/100000 [00:07<00:00, 13350.47it/s]\n",
      "  1%|          | 998/100000 [00:00<00:09, 9970.43it/s]"
     ]
    },
    {
     "name": "stdout",
     "output_type": "stream",
     "text": [
      "-0.05257\n"
     ]
    },
    {
     "name": "stderr",
     "output_type": "stream",
     "text": [
      "100%|██████████| 100000/100000 [00:10<00:00, 9348.45it/s]\n",
      "100%|██████████| 100000/100000 [00:07<00:00, 12640.44it/s]\n",
      "  1%|          | 1032/100000 [00:00<00:09, 10311.45it/s]"
     ]
    },
    {
     "name": "stdout",
     "output_type": "stream",
     "text": [
      "-0.050395\n"
     ]
    },
    {
     "name": "stderr",
     "output_type": "stream",
     "text": [
      "100%|██████████| 100000/100000 [00:10<00:00, 9927.50it/s]\n",
      "100%|██████████| 100000/100000 [00:07<00:00, 13097.61it/s]\n",
      "  1%|          | 944/100000 [00:00<00:10, 9433.22it/s]"
     ]
    },
    {
     "name": "stdout",
     "output_type": "stream",
     "text": [
      "-0.06115\n"
     ]
    },
    {
     "name": "stderr",
     "output_type": "stream",
     "text": [
      "100%|██████████| 100000/100000 [00:10<00:00, 9412.01it/s]\n",
      "100%|██████████| 100000/100000 [00:07<00:00, 12955.63it/s]\n",
      "  1%|          | 999/100000 [00:00<00:09, 9988.39it/s]"
     ]
    },
    {
     "name": "stdout",
     "output_type": "stream",
     "text": [
      "-0.04032\n"
     ]
    },
    {
     "name": "stderr",
     "output_type": "stream",
     "text": [
      "100%|██████████| 100000/100000 [00:10<00:00, 9356.69it/s]\n",
      "100%|██████████| 100000/100000 [00:07<00:00, 12952.55it/s]\n",
      "  1%|          | 946/100000 [00:00<00:10, 9454.13it/s]"
     ]
    },
    {
     "name": "stdout",
     "output_type": "stream",
     "text": [
      "-0.04238\n"
     ]
    },
    {
     "name": "stderr",
     "output_type": "stream",
     "text": [
      "100%|██████████| 100000/100000 [00:10<00:00, 9202.51it/s]\n",
      "100%|██████████| 100000/100000 [00:07<00:00, 13162.83it/s]\n",
      "  1%|          | 960/100000 [00:00<00:10, 9590.93it/s]"
     ]
    },
    {
     "name": "stdout",
     "output_type": "stream",
     "text": [
      "-0.030075\n",
      "Best reward: -0.0301.\n",
      "alpha = 0.0020, epsilon = 0.4500, gamma = 0.35.\n"
     ]
    },
    {
     "name": "stderr",
     "output_type": "stream",
     "text": [
      "100%|██████████| 100000/100000 [00:10<00:00, 9690.97it/s]\n",
      "100%|██████████| 100000/100000 [00:07<00:00, 13238.27it/s]\n",
      "  1%|          | 979/100000 [00:00<00:10, 9778.91it/s]"
     ]
    },
    {
     "name": "stdout",
     "output_type": "stream",
     "text": [
      "-0.03702\n"
     ]
    },
    {
     "name": "stderr",
     "output_type": "stream",
     "text": [
      "100%|██████████| 100000/100000 [00:10<00:00, 9594.66it/s]\n",
      "100%|██████████| 100000/100000 [00:07<00:00, 12953.00it/s]\n",
      "  1%|          | 1003/100000 [00:00<00:09, 10024.01it/s]"
     ]
    },
    {
     "name": "stdout",
     "output_type": "stream",
     "text": [
      "-0.04848\n"
     ]
    },
    {
     "name": "stderr",
     "output_type": "stream",
     "text": [
      "100%|██████████| 100000/100000 [00:10<00:00, 9741.44it/s]\n",
      "100%|██████████| 100000/100000 [00:07<00:00, 13134.38it/s]\n",
      "  2%|▏         | 1872/100000 [00:00<00:10, 9355.00it/s]"
     ]
    },
    {
     "name": "stdout",
     "output_type": "stream",
     "text": [
      "-0.04198\n"
     ]
    },
    {
     "name": "stderr",
     "output_type": "stream",
     "text": [
      "100%|██████████| 100000/100000 [00:10<00:00, 9630.70it/s]\n",
      "100%|██████████| 100000/100000 [00:07<00:00, 13694.66it/s]\n",
      "  1%|          | 982/100000 [00:00<00:10, 9815.17it/s]"
     ]
    },
    {
     "name": "stdout",
     "output_type": "stream",
     "text": [
      "-0.030135\n"
     ]
    },
    {
     "name": "stderr",
     "output_type": "stream",
     "text": [
      "100%|██████████| 100000/100000 [00:10<00:00, 9922.88it/s]\n",
      "100%|██████████| 100000/100000 [00:07<00:00, 13630.34it/s]\n",
      "  1%|          | 1034/100000 [00:00<00:09, 10330.72it/s]"
     ]
    },
    {
     "name": "stdout",
     "output_type": "stream",
     "text": [
      "-0.023735\n",
      "Best reward: -0.0237.\n",
      "alpha = 0.0020, epsilon = 0.6500, gamma = 0.20.\n"
     ]
    },
    {
     "name": "stderr",
     "output_type": "stream",
     "text": [
      "100%|██████████| 100000/100000 [00:10<00:00, 9971.64it/s]\n",
      "100%|██████████| 100000/100000 [00:07<00:00, 13489.09it/s]\n",
      "  1%|          | 1004/100000 [00:00<00:09, 10037.83it/s]"
     ]
    },
    {
     "name": "stdout",
     "output_type": "stream",
     "text": [
      "-0.03353\n"
     ]
    },
    {
     "name": "stderr",
     "output_type": "stream",
     "text": [
      "100%|██████████| 100000/100000 [00:10<00:00, 9956.62it/s]\n",
      "100%|██████████| 100000/100000 [00:07<00:00, 13558.59it/s]\n",
      "  1%|          | 1045/100000 [00:00<00:09, 10434.64it/s]"
     ]
    },
    {
     "name": "stdout",
     "output_type": "stream",
     "text": [
      "-0.054735\n"
     ]
    },
    {
     "name": "stderr",
     "output_type": "stream",
     "text": [
      "100%|██████████| 100000/100000 [00:10<00:00, 9759.86it/s]\n",
      "100%|██████████| 100000/100000 [00:07<00:00, 13272.76it/s]\n",
      "  1%|          | 981/100000 [00:00<00:10, 9808.54it/s]"
     ]
    },
    {
     "name": "stdout",
     "output_type": "stream",
     "text": [
      "-0.04935\n"
     ]
    },
    {
     "name": "stderr",
     "output_type": "stream",
     "text": [
      "100%|██████████| 100000/100000 [00:10<00:00, 9916.80it/s]\n",
      "100%|██████████| 100000/100000 [00:07<00:00, 13502.77it/s]\n",
      "  1%|          | 1025/100000 [00:00<00:09, 10246.88it/s]"
     ]
    },
    {
     "name": "stdout",
     "output_type": "stream",
     "text": [
      "-0.05087\n"
     ]
    },
    {
     "name": "stderr",
     "output_type": "stream",
     "text": [
      "100%|██████████| 100000/100000 [00:09<00:00, 10054.17it/s]\n",
      "100%|██████████| 100000/100000 [00:07<00:00, 13723.12it/s]\n",
      "  1%|          | 1036/100000 [00:00<00:09, 10357.76it/s]"
     ]
    },
    {
     "name": "stdout",
     "output_type": "stream",
     "text": [
      "-0.054225\n"
     ]
    },
    {
     "name": "stderr",
     "output_type": "stream",
     "text": [
      "100%|██████████| 100000/100000 [00:10<00:00, 9925.67it/s]\n",
      "100%|██████████| 100000/100000 [00:07<00:00, 13494.87it/s]\n",
      "  1%|          | 1041/100000 [00:00<00:09, 10406.96it/s]"
     ]
    },
    {
     "name": "stdout",
     "output_type": "stream",
     "text": [
      "-0.053305\n"
     ]
    },
    {
     "name": "stderr",
     "output_type": "stream",
     "text": [
      "100%|██████████| 100000/100000 [00:10<00:00, 9973.59it/s]\n",
      "100%|██████████| 100000/100000 [00:07<00:00, 13393.66it/s]\n",
      "  1%|          | 1037/100000 [00:00<00:09, 10367.64it/s]"
     ]
    },
    {
     "name": "stdout",
     "output_type": "stream",
     "text": [
      "-0.07012\n"
     ]
    },
    {
     "name": "stderr",
     "output_type": "stream",
     "text": [
      "100%|██████████| 100000/100000 [00:10<00:00, 9948.71it/s]\n",
      "100%|██████████| 100000/100000 [00:07<00:00, 13344.85it/s]\n",
      "  1%|          | 1034/100000 [00:00<00:09, 10332.67it/s]"
     ]
    },
    {
     "name": "stdout",
     "output_type": "stream",
     "text": [
      "-0.0317\n"
     ]
    },
    {
     "name": "stderr",
     "output_type": "stream",
     "text": [
      "100%|██████████| 100000/100000 [00:10<00:00, 9931.30it/s]\n",
      "100%|██████████| 100000/100000 [00:07<00:00, 13584.42it/s]\n",
      "  1%|          | 1023/100000 [00:00<00:09, 10218.97it/s]"
     ]
    },
    {
     "name": "stdout",
     "output_type": "stream",
     "text": [
      "-0.04314\n"
     ]
    },
    {
     "name": "stderr",
     "output_type": "stream",
     "text": [
      "100%|██████████| 100000/100000 [00:10<00:00, 9712.58it/s]\n",
      "100%|██████████| 100000/100000 [00:07<00:00, 13496.52it/s]\n",
      "  1%|          | 1004/100000 [00:00<00:09, 10034.29it/s]"
     ]
    },
    {
     "name": "stdout",
     "output_type": "stream",
     "text": [
      "-0.04902\n"
     ]
    },
    {
     "name": "stderr",
     "output_type": "stream",
     "text": [
      "100%|██████████| 100000/100000 [00:09<00:00, 10077.80it/s]\n",
      "100%|██████████| 100000/100000 [00:07<00:00, 13570.29it/s]\n",
      "  1%|          | 962/100000 [00:00<00:10, 9615.91it/s]"
     ]
    },
    {
     "name": "stdout",
     "output_type": "stream",
     "text": [
      "-0.031695\n"
     ]
    },
    {
     "name": "stderr",
     "output_type": "stream",
     "text": [
      "100%|██████████| 100000/100000 [00:10<00:00, 9844.60it/s]\n",
      "100%|██████████| 100000/100000 [00:07<00:00, 13500.15it/s]\n",
      "  1%|          | 1010/100000 [00:00<00:09, 10092.43it/s]"
     ]
    },
    {
     "name": "stdout",
     "output_type": "stream",
     "text": [
      "-0.039535\n"
     ]
    },
    {
     "name": "stderr",
     "output_type": "stream",
     "text": [
      "100%|██████████| 100000/100000 [00:10<00:00, 9975.67it/s]\n",
      "100%|██████████| 100000/100000 [00:07<00:00, 13275.63it/s]\n",
      "  1%|          | 962/100000 [00:00<00:10, 9616.04it/s]"
     ]
    },
    {
     "name": "stdout",
     "output_type": "stream",
     "text": [
      "-0.054545\n"
     ]
    },
    {
     "name": "stderr",
     "output_type": "stream",
     "text": [
      "100%|██████████| 100000/100000 [00:10<00:00, 9808.26it/s]\n",
      "100%|██████████| 100000/100000 [00:07<00:00, 13700.94it/s]\n",
      "  1%|          | 977/100000 [00:00<00:10, 9768.50it/s]"
     ]
    },
    {
     "name": "stdout",
     "output_type": "stream",
     "text": [
      "-0.027475\n"
     ]
    },
    {
     "name": "stderr",
     "output_type": "stream",
     "text": [
      "100%|██████████| 100000/100000 [00:10<00:00, 9870.31it/s]\n",
      "100%|██████████| 100000/100000 [00:07<00:00, 13576.90it/s]\n",
      "  2%|▏         | 1928/100000 [00:00<00:10, 9670.42it/s]"
     ]
    },
    {
     "name": "stdout",
     "output_type": "stream",
     "text": [
      "-0.03719\n"
     ]
    },
    {
     "name": "stderr",
     "output_type": "stream",
     "text": [
      "100%|██████████| 100000/100000 [00:10<00:00, 9310.64it/s]\n",
      "100%|██████████| 100000/100000 [00:07<00:00, 12831.68it/s]\n",
      "  1%|          | 949/100000 [00:00<00:10, 9487.36it/s]"
     ]
    },
    {
     "name": "stdout",
     "output_type": "stream",
     "text": [
      "-0.030205\n"
     ]
    },
    {
     "name": "stderr",
     "output_type": "stream",
     "text": [
      "100%|██████████| 100000/100000 [00:10<00:00, 9482.10it/s]\n",
      "100%|██████████| 100000/100000 [00:08<00:00, 12087.45it/s]\n",
      "  2%|▏         | 2069/100000 [00:00<00:09, 10359.65it/s]"
     ]
    },
    {
     "name": "stdout",
     "output_type": "stream",
     "text": [
      "-0.0317\n"
     ]
    },
    {
     "name": "stderr",
     "output_type": "stream",
     "text": [
      "100%|██████████| 100000/100000 [00:10<00:00, 9797.92it/s]\n",
      "100%|██████████| 100000/100000 [00:07<00:00, 13116.79it/s]\n",
      "  1%|          | 879/100000 [00:00<00:11, 8787.05it/s]"
     ]
    },
    {
     "name": "stdout",
     "output_type": "stream",
     "text": [
      "-0.04024\n"
     ]
    },
    {
     "name": "stderr",
     "output_type": "stream",
     "text": [
      "100%|██████████| 100000/100000 [00:10<00:00, 9611.52it/s]\n",
      "100%|██████████| 100000/100000 [00:07<00:00, 13413.98it/s]\n",
      "  1%|          | 984/100000 [00:00<00:10, 9838.23it/s]"
     ]
    },
    {
     "name": "stdout",
     "output_type": "stream",
     "text": [
      "-0.042135\n"
     ]
    },
    {
     "name": "stderr",
     "output_type": "stream",
     "text": [
      "100%|██████████| 100000/100000 [00:10<00:00, 9814.26it/s]\n",
      "100%|██████████| 100000/100000 [00:07<00:00, 13484.92it/s]\n",
      "  1%|          | 991/100000 [00:00<00:09, 9905.10it/s]"
     ]
    },
    {
     "name": "stdout",
     "output_type": "stream",
     "text": [
      "-0.01903\n",
      "Best reward: -0.0190.\n",
      "alpha = 0.0040, epsilon = 0.6500, gamma = 0.05.\n"
     ]
    },
    {
     "name": "stderr",
     "output_type": "stream",
     "text": [
      "100%|██████████| 100000/100000 [00:10<00:00, 9923.16it/s]\n",
      "100%|██████████| 100000/100000 [00:07<00:00, 13436.76it/s]\n",
      "  2%|▏         | 1969/100000 [00:00<00:09, 9843.64it/s]"
     ]
    },
    {
     "name": "stdout",
     "output_type": "stream",
     "text": [
      "-0.022775\n"
     ]
    },
    {
     "name": "stderr",
     "output_type": "stream",
     "text": [
      "100%|██████████| 100000/100000 [00:10<00:00, 9849.75it/s]\n",
      "100%|██████████| 100000/100000 [00:07<00:00, 13387.61it/s]\n",
      "  1%|          | 1033/100000 [00:00<00:09, 10327.25it/s]"
     ]
    },
    {
     "name": "stdout",
     "output_type": "stream",
     "text": [
      "-0.022465\n"
     ]
    },
    {
     "name": "stderr",
     "output_type": "stream",
     "text": [
      "100%|██████████| 100000/100000 [00:09<00:00, 10067.27it/s]\n",
      "100%|██████████| 100000/100000 [00:07<00:00, 13385.51it/s]\n",
      "  1%|          | 1014/100000 [00:00<00:09, 10131.80it/s]"
     ]
    },
    {
     "name": "stdout",
     "output_type": "stream",
     "text": [
      "-0.034385\n"
     ]
    },
    {
     "name": "stderr",
     "output_type": "stream",
     "text": [
      "100%|██████████| 100000/100000 [00:10<00:00, 9734.73it/s]\n",
      "100%|██████████| 100000/100000 [00:07<00:00, 13179.61it/s]\n",
      "  1%|          | 949/100000 [00:00<00:10, 9485.06it/s]"
     ]
    },
    {
     "name": "stdout",
     "output_type": "stream",
     "text": [
      "-0.04185\n"
     ]
    },
    {
     "name": "stderr",
     "output_type": "stream",
     "text": [
      "100%|██████████| 100000/100000 [00:10<00:00, 9798.39it/s]\n",
      "100%|██████████| 100000/100000 [00:07<00:00, 13318.53it/s]\n",
      "  1%|          | 1028/100000 [00:00<00:09, 10278.93it/s]"
     ]
    },
    {
     "name": "stdout",
     "output_type": "stream",
     "text": [
      "-0.0635\n"
     ]
    },
    {
     "name": "stderr",
     "output_type": "stream",
     "text": [
      "100%|██████████| 100000/100000 [00:10<00:00, 9866.41it/s]\n",
      "100%|██████████| 100000/100000 [00:07<00:00, 13449.98it/s]\n",
      "  1%|          | 1019/100000 [00:00<00:09, 10180.30it/s]"
     ]
    },
    {
     "name": "stdout",
     "output_type": "stream",
     "text": [
      "-0.01896\n",
      "Best reward: -0.0190.\n",
      "alpha = 0.0060, epsilon = 0.1500, gamma = 0.05.\n"
     ]
    },
    {
     "name": "stderr",
     "output_type": "stream",
     "text": [
      "100%|██████████| 100000/100000 [00:10<00:00, 9744.02it/s]\n",
      "100%|██████████| 100000/100000 [00:07<00:00, 13557.49it/s]\n",
      "  1%|          | 1037/100000 [00:00<00:09, 10366.60it/s]"
     ]
    },
    {
     "name": "stdout",
     "output_type": "stream",
     "text": [
      "-0.035535\n"
     ]
    },
    {
     "name": "stderr",
     "output_type": "stream",
     "text": [
      "100%|██████████| 100000/100000 [00:10<00:00, 9862.47it/s]\n",
      "100%|██████████| 100000/100000 [00:07<00:00, 13435.14it/s]\n",
      "  1%|          | 1026/100000 [00:00<00:09, 10254.83it/s]"
     ]
    },
    {
     "name": "stdout",
     "output_type": "stream",
     "text": [
      "-0.055685\n"
     ]
    },
    {
     "name": "stderr",
     "output_type": "stream",
     "text": [
      "100%|██████████| 100000/100000 [00:10<00:00, 9987.00it/s]\n",
      "100%|██████████| 100000/100000 [00:07<00:00, 13457.86it/s]\n",
      "  1%|          | 1035/100000 [00:00<00:09, 10342.39it/s]"
     ]
    },
    {
     "name": "stdout",
     "output_type": "stream",
     "text": [
      "-0.028985\n"
     ]
    },
    {
     "name": "stderr",
     "output_type": "stream",
     "text": [
      "100%|██████████| 100000/100000 [00:10<00:00, 9971.86it/s]\n",
      "100%|██████████| 100000/100000 [00:07<00:00, 13825.82it/s]\n",
      "  1%|          | 973/100000 [00:00<00:10, 9725.74it/s]"
     ]
    },
    {
     "name": "stdout",
     "output_type": "stream",
     "text": [
      "-0.02635\n"
     ]
    },
    {
     "name": "stderr",
     "output_type": "stream",
     "text": [
      "100%|██████████| 100000/100000 [00:10<00:00, 9962.97it/s]\n",
      "100%|██████████| 100000/100000 [00:07<00:00, 13320.15it/s]\n",
      "  1%|          | 981/100000 [00:00<00:10, 9802.27it/s]"
     ]
    },
    {
     "name": "stdout",
     "output_type": "stream",
     "text": [
      "-0.0459\n"
     ]
    },
    {
     "name": "stderr",
     "output_type": "stream",
     "text": [
      "100%|██████████| 100000/100000 [00:10<00:00, 9864.92it/s]\n",
      "100%|██████████| 100000/100000 [00:07<00:00, 13602.77it/s]\n",
      "  1%|          | 1007/100000 [00:00<00:09, 10060.77it/s]"
     ]
    },
    {
     "name": "stdout",
     "output_type": "stream",
     "text": [
      "-0.032175\n"
     ]
    },
    {
     "name": "stderr",
     "output_type": "stream",
     "text": [
      "100%|██████████| 100000/100000 [00:10<00:00, 9853.57it/s]\n",
      "100%|██████████| 100000/100000 [00:07<00:00, 13459.62it/s]\n",
      "  1%|          | 996/100000 [00:00<00:09, 9956.16it/s]"
     ]
    },
    {
     "name": "stdout",
     "output_type": "stream",
     "text": [
      "-0.0316\n"
     ]
    },
    {
     "name": "stderr",
     "output_type": "stream",
     "text": [
      "100%|██████████| 100000/100000 [00:10<00:00, 9838.70it/s]\n",
      "100%|██████████| 100000/100000 [00:07<00:00, 13469.87it/s]\n",
      "  1%|          | 1017/100000 [00:00<00:09, 10163.44it/s]"
     ]
    },
    {
     "name": "stdout",
     "output_type": "stream",
     "text": [
      "-0.040115\n"
     ]
    },
    {
     "name": "stderr",
     "output_type": "stream",
     "text": [
      "100%|██████████| 100000/100000 [00:10<00:00, 9914.73it/s]\n",
      "100%|██████████| 100000/100000 [00:07<00:00, 13664.83it/s]\n",
      "  1%|          | 951/100000 [00:00<00:10, 9506.20it/s]"
     ]
    },
    {
     "name": "stdout",
     "output_type": "stream",
     "text": [
      "-0.02049\n"
     ]
    },
    {
     "name": "stderr",
     "output_type": "stream",
     "text": [
      "100%|██████████| 100000/100000 [00:10<00:00, 9708.78it/s]\n",
      "100%|██████████| 100000/100000 [00:07<00:00, 13243.75it/s]\n",
      "  1%|          | 1018/100000 [00:00<00:09, 10174.21it/s]"
     ]
    },
    {
     "name": "stdout",
     "output_type": "stream",
     "text": [
      "-0.02673\n"
     ]
    },
    {
     "name": "stderr",
     "output_type": "stream",
     "text": [
      "100%|██████████| 100000/100000 [00:10<00:00, 9708.32it/s]\n",
      "100%|██████████| 100000/100000 [00:07<00:00, 13547.01it/s]\n",
      "  1%|          | 1002/100000 [00:00<00:09, 10008.44it/s]"
     ]
    },
    {
     "name": "stdout",
     "output_type": "stream",
     "text": [
      "-0.038975\n"
     ]
    },
    {
     "name": "stderr",
     "output_type": "stream",
     "text": [
      "100%|██████████| 100000/100000 [00:10<00:00, 9904.65it/s]\n",
      "100%|██████████| 100000/100000 [00:07<00:00, 13717.58it/s]\n",
      "  1%|          | 986/100000 [00:00<00:10, 9859.28it/s]"
     ]
    },
    {
     "name": "stdout",
     "output_type": "stream",
     "text": [
      "-0.02738\n"
     ]
    },
    {
     "name": "stderr",
     "output_type": "stream",
     "text": [
      "100%|██████████| 100000/100000 [00:10<00:00, 9804.81it/s]\n",
      "100%|██████████| 100000/100000 [00:07<00:00, 13390.34it/s]\n",
      "  1%|          | 1012/100000 [00:00<00:09, 10112.42it/s]"
     ]
    },
    {
     "name": "stdout",
     "output_type": "stream",
     "text": [
      "-0.01831\n",
      "Best reward: -0.0183.\n",
      "alpha = 0.0060, epsilon = 0.5500, gamma = 0.20.\n"
     ]
    },
    {
     "name": "stderr",
     "output_type": "stream",
     "text": [
      "100%|██████████| 100000/100000 [00:10<00:00, 9822.60it/s]\n",
      "100%|██████████| 100000/100000 [00:07<00:00, 13232.62it/s]\n",
      "  1%|          | 979/100000 [00:00<00:10, 9780.03it/s]"
     ]
    },
    {
     "name": "stdout",
     "output_type": "stream",
     "text": [
      "-0.02583\n"
     ]
    },
    {
     "name": "stderr",
     "output_type": "stream",
     "text": [
      "100%|██████████| 100000/100000 [00:09<00:00, 10013.25it/s]\n",
      "100%|██████████| 100000/100000 [00:07<00:00, 13579.43it/s]\n",
      "  1%|          | 940/100000 [00:00<00:10, 9391.93it/s]"
     ]
    },
    {
     "name": "stdout",
     "output_type": "stream",
     "text": [
      "-0.03013\n"
     ]
    },
    {
     "name": "stderr",
     "output_type": "stream",
     "text": [
      "100%|██████████| 100000/100000 [00:10<00:00, 9880.74it/s]\n",
      "100%|██████████| 100000/100000 [00:07<00:00, 13505.02it/s]\n",
      "  1%|          | 986/100000 [00:00<00:10, 9854.49it/s]"
     ]
    },
    {
     "name": "stdout",
     "output_type": "stream",
     "text": [
      "-0.03045\n"
     ]
    },
    {
     "name": "stderr",
     "output_type": "stream",
     "text": [
      "100%|██████████| 100000/100000 [00:10<00:00, 9911.10it/s]\n",
      "100%|██████████| 100000/100000 [00:07<00:00, 13548.97it/s]\n",
      "  1%|          | 1035/100000 [00:00<00:09, 10346.68it/s]"
     ]
    },
    {
     "name": "stdout",
     "output_type": "stream",
     "text": [
      "-0.03222\n"
     ]
    },
    {
     "name": "stderr",
     "output_type": "stream",
     "text": [
      "100%|██████████| 100000/100000 [00:10<00:00, 9923.64it/s]\n",
      "100%|██████████| 100000/100000 [00:07<00:00, 13527.44it/s]\n",
      "  1%|          | 1024/100000 [00:00<00:09, 10233.76it/s]"
     ]
    },
    {
     "name": "stdout",
     "output_type": "stream",
     "text": [
      "-0.024155\n"
     ]
    },
    {
     "name": "stderr",
     "output_type": "stream",
     "text": [
      "100%|██████████| 100000/100000 [00:10<00:00, 9887.87it/s]\n",
      "100%|██████████| 100000/100000 [00:07<00:00, 13515.14it/s]\n",
      "  1%|          | 1009/100000 [00:00<00:09, 10087.12it/s]"
     ]
    },
    {
     "name": "stdout",
     "output_type": "stream",
     "text": [
      "-0.03948\n"
     ]
    },
    {
     "name": "stderr",
     "output_type": "stream",
     "text": [
      "100%|██████████| 100000/100000 [00:10<00:00, 9806.51it/s]\n",
      "100%|██████████| 100000/100000 [00:07<00:00, 13406.05it/s]\n",
      "  1%|          | 977/100000 [00:00<00:10, 9763.26it/s]"
     ]
    },
    {
     "name": "stdout",
     "output_type": "stream",
     "text": [
      "-0.052055\n"
     ]
    },
    {
     "name": "stderr",
     "output_type": "stream",
     "text": [
      "100%|██████████| 100000/100000 [00:10<00:00, 9930.48it/s]\n",
      "100%|██████████| 100000/100000 [00:07<00:00, 13650.60it/s]\n",
      "  1%|          | 974/100000 [00:00<00:10, 9737.43it/s]"
     ]
    },
    {
     "name": "stdout",
     "output_type": "stream",
     "text": [
      "-0.025745\n"
     ]
    },
    {
     "name": "stderr",
     "output_type": "stream",
     "text": [
      "100%|██████████| 100000/100000 [00:10<00:00, 9891.59it/s]\n",
      "100%|██████████| 100000/100000 [00:07<00:00, 13231.72it/s]\n",
      "  1%|          | 1034/100000 [00:00<00:09, 10338.31it/s]"
     ]
    },
    {
     "name": "stdout",
     "output_type": "stream",
     "text": [
      "-0.043165\n"
     ]
    },
    {
     "name": "stderr",
     "output_type": "stream",
     "text": [
      "100%|██████████| 100000/100000 [00:10<00:00, 9925.82it/s]\n",
      "100%|██████████| 100000/100000 [00:07<00:00, 13572.33it/s]\n",
      "  1%|          | 1019/100000 [00:00<00:09, 10187.31it/s]"
     ]
    },
    {
     "name": "stdout",
     "output_type": "stream",
     "text": [
      "-0.05209\n"
     ]
    },
    {
     "name": "stderr",
     "output_type": "stream",
     "text": [
      "100%|██████████| 100000/100000 [00:10<00:00, 9903.68it/s]\n",
      "100%|██████████| 100000/100000 [00:07<00:00, 13592.66it/s]\n",
      "  2%|▏         | 1967/100000 [00:00<00:09, 9844.42it/s]"
     ]
    },
    {
     "name": "stdout",
     "output_type": "stream",
     "text": [
      "-0.028995\n"
     ]
    },
    {
     "name": "stderr",
     "output_type": "stream",
     "text": [
      "100%|██████████| 100000/100000 [00:10<00:00, 9951.14it/s]\n",
      "100%|██████████| 100000/100000 [00:07<00:00, 13678.80it/s]\n",
      "  1%|          | 1012/100000 [00:00<00:09, 10115.86it/s]"
     ]
    },
    {
     "name": "stdout",
     "output_type": "stream",
     "text": [
      "-0.03126\n"
     ]
    },
    {
     "name": "stderr",
     "output_type": "stream",
     "text": [
      "100%|██████████| 100000/100000 [00:10<00:00, 9868.40it/s]\n",
      "100%|██████████| 100000/100000 [00:07<00:00, 13152.60it/s]\n",
      "  1%|          | 997/100000 [00:00<00:09, 9966.68it/s]"
     ]
    },
    {
     "name": "stdout",
     "output_type": "stream",
     "text": [
      "-0.05478\n"
     ]
    },
    {
     "name": "stderr",
     "output_type": "stream",
     "text": [
      "100%|██████████| 100000/100000 [00:10<00:00, 9935.25it/s]\n",
      "100%|██████████| 100000/100000 [00:07<00:00, 12843.04it/s]\n",
      "  1%|          | 999/100000 [00:00<00:09, 9983.15it/s]"
     ]
    },
    {
     "name": "stdout",
     "output_type": "stream",
     "text": [
      "-0.019605\n"
     ]
    },
    {
     "name": "stderr",
     "output_type": "stream",
     "text": [
      "100%|██████████| 100000/100000 [00:10<00:00, 9961.24it/s]\n",
      "100%|██████████| 100000/100000 [00:07<00:00, 13858.22it/s]\n",
      "  1%|          | 1054/100000 [00:00<00:09, 10531.45it/s]"
     ]
    },
    {
     "name": "stdout",
     "output_type": "stream",
     "text": [
      "-0.023765\n"
     ]
    },
    {
     "name": "stderr",
     "output_type": "stream",
     "text": [
      "100%|██████████| 100000/100000 [00:09<00:00, 10073.27it/s]\n",
      "100%|██████████| 100000/100000 [00:07<00:00, 13797.74it/s]\n",
      "  1%|          | 1052/100000 [00:00<00:09, 10513.42it/s]"
     ]
    },
    {
     "name": "stdout",
     "output_type": "stream",
     "text": [
      "-0.030585\n"
     ]
    },
    {
     "name": "stderr",
     "output_type": "stream",
     "text": [
      "100%|██████████| 100000/100000 [00:09<00:00, 10261.88it/s]\n",
      "100%|██████████| 100000/100000 [00:07<00:00, 13831.72it/s]\n",
      "  1%|          | 1042/100000 [00:00<00:09, 10417.65it/s]"
     ]
    },
    {
     "name": "stdout",
     "output_type": "stream",
     "text": [
      "-0.01423\n",
      "Best reward: -0.0142.\n",
      "alpha = 0.0080, epsilon = 0.4500, gamma = 0.05.\n"
     ]
    },
    {
     "name": "stderr",
     "output_type": "stream",
     "text": [
      "100%|██████████| 100000/100000 [00:09<00:00, 10105.56it/s]\n",
      "100%|██████████| 100000/100000 [00:07<00:00, 13813.01it/s]\n",
      "  2%|▏         | 2072/100000 [00:00<00:09, 10364.15it/s]"
     ]
    },
    {
     "name": "stdout",
     "output_type": "stream",
     "text": [
      "-0.02717\n"
     ]
    },
    {
     "name": "stderr",
     "output_type": "stream",
     "text": [
      "100%|██████████| 100000/100000 [00:09<00:00, 10028.56it/s]\n",
      "100%|██████████| 100000/100000 [00:07<00:00, 13925.93it/s]\n",
      "  1%|          | 1055/100000 [00:00<00:09, 10548.83it/s]"
     ]
    },
    {
     "name": "stdout",
     "output_type": "stream",
     "text": [
      "-0.027245\n"
     ]
    },
    {
     "name": "stderr",
     "output_type": "stream",
     "text": [
      "100%|██████████| 100000/100000 [00:09<00:00, 10264.23it/s]\n",
      "100%|██████████| 100000/100000 [00:07<00:00, 14174.85it/s]\n",
      "  1%|          | 1046/100000 [00:00<00:09, 10458.64it/s]"
     ]
    },
    {
     "name": "stdout",
     "output_type": "stream",
     "text": [
      "-0.03052\n"
     ]
    },
    {
     "name": "stderr",
     "output_type": "stream",
     "text": [
      "100%|██████████| 100000/100000 [00:09<00:00, 10275.12it/s]\n",
      "100%|██████████| 100000/100000 [00:07<00:00, 14028.78it/s]\n",
      "  1%|          | 969/100000 [00:00<00:10, 9685.53it/s]"
     ]
    },
    {
     "name": "stdout",
     "output_type": "stream",
     "text": [
      "-0.027975\n"
     ]
    },
    {
     "name": "stderr",
     "output_type": "stream",
     "text": [
      "100%|██████████| 100000/100000 [00:10<00:00, 9940.25it/s]\n",
      "100%|██████████| 100000/100000 [00:07<00:00, 13898.61it/s]\n",
      "  1%|          | 1048/100000 [00:00<00:09, 10479.01it/s]"
     ]
    },
    {
     "name": "stdout",
     "output_type": "stream",
     "text": [
      "-0.031445\n"
     ]
    },
    {
     "name": "stderr",
     "output_type": "stream",
     "text": [
      "100%|██████████| 100000/100000 [00:09<00:00, 10176.58it/s]\n",
      "100%|██████████| 100000/100000 [00:07<00:00, 13844.95it/s]\n",
      "  1%|          | 1026/100000 [00:00<00:09, 10254.22it/s]"
     ]
    },
    {
     "name": "stdout",
     "output_type": "stream",
     "text": [
      "-0.014835\n"
     ]
    },
    {
     "name": "stderr",
     "output_type": "stream",
     "text": [
      "100%|██████████| 100000/100000 [00:09<00:00, 10063.10it/s]\n",
      "100%|██████████| 100000/100000 [00:07<00:00, 13552.33it/s]\n",
      "  1%|          | 1050/100000 [00:00<00:09, 10496.18it/s]"
     ]
    },
    {
     "name": "stdout",
     "output_type": "stream",
     "text": [
      "-0.02121\n"
     ]
    },
    {
     "name": "stderr",
     "output_type": "stream",
     "text": [
      "100%|██████████| 100000/100000 [00:10<00:00, 9902.14it/s]\n",
      "100%|██████████| 100000/100000 [00:07<00:00, 13437.05it/s]\n",
      "  1%|          | 1067/100000 [00:00<00:09, 10661.98it/s]"
     ]
    },
    {
     "name": "stdout",
     "output_type": "stream",
     "text": [
      "-0.019405\n"
     ]
    },
    {
     "name": "stderr",
     "output_type": "stream",
     "text": [
      "100%|██████████| 100000/100000 [00:09<00:00, 10095.10it/s]\n",
      "100%|██████████| 100000/100000 [00:07<00:00, 13634.99it/s]\n",
      "  1%|          | 1074/100000 [00:00<00:09, 10735.94it/s]"
     ]
    },
    {
     "name": "stdout",
     "output_type": "stream",
     "text": [
      "-0.03233\n"
     ]
    },
    {
     "name": "stderr",
     "output_type": "stream",
     "text": [
      "100%|██████████| 100000/100000 [00:09<00:00, 10121.34it/s]\n",
      "100%|██████████| 100000/100000 [00:07<00:00, 13634.37it/s]\n",
      "  1%|          | 1095/100000 [00:00<00:09, 10940.78it/s]"
     ]
    },
    {
     "name": "stdout",
     "output_type": "stream",
     "text": [
      "-0.044955\n"
     ]
    },
    {
     "name": "stderr",
     "output_type": "stream",
     "text": [
      "100%|██████████| 100000/100000 [00:10<00:00, 9962.35it/s]\n",
      "100%|██████████| 100000/100000 [00:07<00:00, 13730.77it/s]\n",
      "  1%|          | 1067/100000 [00:00<00:09, 10663.68it/s]"
     ]
    },
    {
     "name": "stdout",
     "output_type": "stream",
     "text": [
      "-0.05226\n"
     ]
    },
    {
     "name": "stderr",
     "output_type": "stream",
     "text": [
      "100%|██████████| 100000/100000 [00:09<00:00, 10134.11it/s]\n",
      "100%|██████████| 100000/100000 [00:07<00:00, 13954.22it/s]\n",
      "  1%|          | 1077/100000 [00:00<00:09, 10763.08it/s]"
     ]
    },
    {
     "name": "stdout",
     "output_type": "stream",
     "text": [
      "-0.020415\n"
     ]
    },
    {
     "name": "stderr",
     "output_type": "stream",
     "text": [
      "100%|██████████| 100000/100000 [00:10<00:00, 9998.31it/s]\n",
      "100%|██████████| 100000/100000 [00:07<00:00, 13768.23it/s]\n",
      "  1%|          | 1070/100000 [00:00<00:09, 10695.32it/s]"
     ]
    },
    {
     "name": "stdout",
     "output_type": "stream",
     "text": [
      "-0.039305\n"
     ]
    },
    {
     "name": "stderr",
     "output_type": "stream",
     "text": [
      "100%|██████████| 100000/100000 [00:09<00:00, 10132.91it/s]\n",
      "100%|██████████| 100000/100000 [00:07<00:00, 13734.38it/s]\n",
      "  1%|          | 1077/100000 [00:00<00:09, 10765.62it/s]"
     ]
    },
    {
     "name": "stdout",
     "output_type": "stream",
     "text": [
      "-0.045955\n"
     ]
    },
    {
     "name": "stderr",
     "output_type": "stream",
     "text": [
      "100%|██████████| 100000/100000 [00:09<00:00, 10218.95it/s]\n",
      "100%|██████████| 100000/100000 [00:07<00:00, 13727.65it/s]\n",
      "  1%|          | 1086/100000 [00:00<00:09, 10859.10it/s]"
     ]
    },
    {
     "name": "stdout",
     "output_type": "stream",
     "text": [
      "-0.03471\n"
     ]
    },
    {
     "name": "stderr",
     "output_type": "stream",
     "text": [
      "100%|██████████| 100000/100000 [00:09<00:00, 10170.29it/s]\n",
      "100%|██████████| 100000/100000 [00:07<00:00, 13852.41it/s]\n",
      "  1%|          | 1055/100000 [00:00<00:09, 10547.02it/s]"
     ]
    },
    {
     "name": "stdout",
     "output_type": "stream",
     "text": [
      "-0.016335\n"
     ]
    },
    {
     "name": "stderr",
     "output_type": "stream",
     "text": [
      "100%|██████████| 100000/100000 [00:09<00:00, 10045.01it/s]\n",
      "100%|██████████| 100000/100000 [00:07<00:00, 13779.68it/s]\n",
      "  1%|          | 1025/100000 [00:00<00:09, 10248.18it/s]"
     ]
    },
    {
     "name": "stdout",
     "output_type": "stream",
     "text": [
      "-0.04856\n"
     ]
    },
    {
     "name": "stderr",
     "output_type": "stream",
     "text": [
      "100%|██████████| 100000/100000 [00:09<00:00, 10022.59it/s]\n",
      "100%|██████████| 100000/100000 [00:07<00:00, 13883.27it/s]\n",
      "  1%|          | 1047/100000 [00:00<00:09, 10468.21it/s]"
     ]
    },
    {
     "name": "stdout",
     "output_type": "stream",
     "text": [
      "-0.02278\n"
     ]
    },
    {
     "name": "stderr",
     "output_type": "stream",
     "text": [
      "100%|██████████| 100000/100000 [00:09<00:00, 10095.93it/s]\n",
      "100%|██████████| 100000/100000 [00:07<00:00, 13959.84it/s]\n",
      "  1%|          | 1046/100000 [00:00<00:09, 10455.42it/s]"
     ]
    },
    {
     "name": "stdout",
     "output_type": "stream",
     "text": [
      "-0.019715\n"
     ]
    },
    {
     "name": "stderr",
     "output_type": "stream",
     "text": [
      "100%|██████████| 100000/100000 [00:10<00:00, 9960.70it/s]\n",
      "100%|██████████| 100000/100000 [00:07<00:00, 13724.79it/s]\n",
      "  1%|          | 1068/100000 [00:00<00:09, 10674.84it/s]"
     ]
    },
    {
     "name": "stdout",
     "output_type": "stream",
     "text": [
      "-0.0381\n"
     ]
    },
    {
     "name": "stderr",
     "output_type": "stream",
     "text": [
      "100%|██████████| 100000/100000 [00:09<00:00, 10184.56it/s]\n",
      "100%|██████████| 100000/100000 [00:07<00:00, 13708.76it/s]\n",
      "  1%|          | 1043/100000 [00:00<00:09, 10424.39it/s]"
     ]
    },
    {
     "name": "stdout",
     "output_type": "stream",
     "text": [
      "-0.03528\n"
     ]
    },
    {
     "name": "stderr",
     "output_type": "stream",
     "text": [
      "100%|██████████| 100000/100000 [00:09<00:00, 10131.66it/s]\n",
      "100%|██████████| 100000/100000 [00:07<00:00, 13666.81it/s]\n",
      "  1%|          | 1042/100000 [00:00<00:09, 10419.14it/s]"
     ]
    },
    {
     "name": "stdout",
     "output_type": "stream",
     "text": [
      "-0.02786\n"
     ]
    },
    {
     "name": "stderr",
     "output_type": "stream",
     "text": [
      "100%|██████████| 100000/100000 [00:09<00:00, 10037.07it/s]\n",
      "100%|██████████| 100000/100000 [00:07<00:00, 13872.16it/s]\n",
      "  1%|          | 1049/100000 [00:00<00:09, 10482.94it/s]"
     ]
    },
    {
     "name": "stdout",
     "output_type": "stream",
     "text": [
      "-0.035265\n"
     ]
    },
    {
     "name": "stderr",
     "output_type": "stream",
     "text": [
      "100%|██████████| 100000/100000 [00:09<00:00, 10134.97it/s]\n",
      "100%|██████████| 100000/100000 [00:07<00:00, 13969.79it/s]\n",
      "  1%|          | 1066/100000 [00:00<00:09, 10656.17it/s]"
     ]
    },
    {
     "name": "stdout",
     "output_type": "stream",
     "text": [
      "-0.018095\n"
     ]
    },
    {
     "name": "stderr",
     "output_type": "stream",
     "text": [
      "100%|██████████| 100000/100000 [00:09<00:00, 10239.96it/s]\n",
      "100%|██████████| 100000/100000 [00:07<00:00, 13853.97it/s]\n",
      "  2%|▏         | 2070/100000 [00:00<00:09, 10328.40it/s]"
     ]
    },
    {
     "name": "stdout",
     "output_type": "stream",
     "text": [
      "-0.032045\n"
     ]
    },
    {
     "name": "stderr",
     "output_type": "stream",
     "text": [
      "100%|██████████| 100000/100000 [00:10<00:00, 9974.93it/s]\n",
      "100%|██████████| 100000/100000 [00:07<00:00, 13868.39it/s]\n",
      "  1%|          | 1040/100000 [00:00<00:09, 10391.44it/s]"
     ]
    },
    {
     "name": "stdout",
     "output_type": "stream",
     "text": [
      "-0.020805\n"
     ]
    },
    {
     "name": "stderr",
     "output_type": "stream",
     "text": [
      "100%|██████████| 100000/100000 [00:09<00:00, 10156.80it/s]\n",
      "100%|██████████| 100000/100000 [00:07<00:00, 13879.25it/s]\n",
      "  1%|          | 1016/100000 [00:00<00:09, 10158.97it/s]"
     ]
    },
    {
     "name": "stdout",
     "output_type": "stream",
     "text": [
      "-0.02044\n"
     ]
    },
    {
     "name": "stderr",
     "output_type": "stream",
     "text": [
      "100%|██████████| 100000/100000 [00:09<00:00, 10084.49it/s]\n",
      "100%|██████████| 100000/100000 [00:07<00:00, 13941.65it/s]\n",
      "  1%|          | 990/100000 [00:00<00:10, 9893.99it/s]"
     ]
    },
    {
     "name": "stdout",
     "output_type": "stream",
     "text": [
      "-0.03164\n"
     ]
    },
    {
     "name": "stderr",
     "output_type": "stream",
     "text": [
      "100%|██████████| 100000/100000 [00:10<00:00, 9996.58it/s]\n",
      "100%|██████████| 100000/100000 [00:07<00:00, 13761.55it/s]\n",
      "  1%|          | 1069/100000 [00:00<00:09, 10681.81it/s]"
     ]
    },
    {
     "name": "stdout",
     "output_type": "stream",
     "text": [
      "-0.03236\n"
     ]
    },
    {
     "name": "stderr",
     "output_type": "stream",
     "text": [
      "100%|██████████| 100000/100000 [00:09<00:00, 10161.88it/s]\n",
      "100%|██████████| 100000/100000 [00:07<00:00, 13824.45it/s]\n",
      "  1%|          | 1052/100000 [00:00<00:09, 10514.09it/s]"
     ]
    },
    {
     "name": "stdout",
     "output_type": "stream",
     "text": [
      "-0.02461\n"
     ]
    },
    {
     "name": "stderr",
     "output_type": "stream",
     "text": [
      "100%|██████████| 100000/100000 [00:09<00:00, 10027.53it/s]\n",
      "100%|██████████| 100000/100000 [00:07<00:00, 13745.28it/s]\n",
      "  1%|          | 1099/100000 [00:00<00:09, 10984.35it/s]"
     ]
    },
    {
     "name": "stdout",
     "output_type": "stream",
     "text": [
      "-0.024685\n"
     ]
    },
    {
     "name": "stderr",
     "output_type": "stream",
     "text": [
      "100%|██████████| 100000/100000 [00:09<00:00, 10004.75it/s]\n",
      "100%|██████████| 100000/100000 [00:07<00:00, 13666.29it/s]\n",
      "  1%|          | 1065/100000 [00:00<00:09, 10645.62it/s]"
     ]
    },
    {
     "name": "stdout",
     "output_type": "stream",
     "text": [
      "-0.039495\n"
     ]
    },
    {
     "name": "stderr",
     "output_type": "stream",
     "text": [
      "100%|██████████| 100000/100000 [00:09<00:00, 10117.13it/s]\n",
      "100%|██████████| 100000/100000 [00:07<00:00, 13522.60it/s]\n",
      "  1%|          | 1077/100000 [00:00<00:09, 10760.57it/s]"
     ]
    },
    {
     "name": "stdout",
     "output_type": "stream",
     "text": [
      "-0.014185\n",
      "Best reward: -0.0142.\n",
      "alpha = 0.0120, epsilon = 0.1500, gamma = 0.05.\n"
     ]
    },
    {
     "name": "stderr",
     "output_type": "stream",
     "text": [
      "100%|██████████| 100000/100000 [00:10<00:00, 9972.77it/s]\n",
      "100%|██████████| 100000/100000 [00:07<00:00, 14007.12it/s]\n",
      "  1%|          | 1068/100000 [00:00<00:09, 10670.65it/s]"
     ]
    },
    {
     "name": "stdout",
     "output_type": "stream",
     "text": [
      "-0.031205\n"
     ]
    },
    {
     "name": "stderr",
     "output_type": "stream",
     "text": [
      "100%|██████████| 100000/100000 [00:09<00:00, 10036.07it/s]\n",
      "100%|██████████| 100000/100000 [00:07<00:00, 13686.21it/s]\n",
      "  1%|          | 1060/100000 [00:00<00:09, 10591.55it/s]"
     ]
    },
    {
     "name": "stdout",
     "output_type": "stream",
     "text": [
      "-0.0386\n"
     ]
    },
    {
     "name": "stderr",
     "output_type": "stream",
     "text": [
      "100%|██████████| 100000/100000 [00:09<00:00, 10120.83it/s]\n",
      "100%|██████████| 100000/100000 [00:07<00:00, 13608.34it/s]\n",
      "  1%|          | 1047/100000 [00:00<00:09, 10460.53it/s]"
     ]
    },
    {
     "name": "stdout",
     "output_type": "stream",
     "text": [
      "-0.0216\n"
     ]
    },
    {
     "name": "stderr",
     "output_type": "stream",
     "text": [
      "100%|██████████| 100000/100000 [00:10<00:00, 9976.86it/s]\n",
      "100%|██████████| 100000/100000 [00:07<00:00, 13755.22it/s]\n",
      "  1%|          | 1077/100000 [00:00<00:09, 10762.88it/s]"
     ]
    },
    {
     "name": "stdout",
     "output_type": "stream",
     "text": [
      "-0.028685\n"
     ]
    },
    {
     "name": "stderr",
     "output_type": "stream",
     "text": [
      "100%|██████████| 100000/100000 [00:10<00:00, 9983.67it/s]\n",
      "100%|██████████| 100000/100000 [00:07<00:00, 13500.33it/s]\n",
      "  1%|          | 1079/100000 [00:00<00:09, 10782.02it/s]"
     ]
    },
    {
     "name": "stdout",
     "output_type": "stream",
     "text": [
      "-0.02546\n"
     ]
    },
    {
     "name": "stderr",
     "output_type": "stream",
     "text": [
      "100%|██████████| 100000/100000 [00:09<00:00, 10030.88it/s]\n",
      "100%|██████████| 100000/100000 [00:07<00:00, 13746.09it/s]\n",
      "  1%|          | 1065/100000 [00:00<00:09, 10639.71it/s]"
     ]
    },
    {
     "name": "stdout",
     "output_type": "stream",
     "text": [
      "-0.02132\n"
     ]
    },
    {
     "name": "stderr",
     "output_type": "stream",
     "text": [
      "100%|██████████| 100000/100000 [00:09<00:00, 10108.79it/s]\n",
      "100%|██████████| 100000/100000 [00:07<00:00, 13766.26it/s]\n",
      "  1%|          | 1061/100000 [00:00<00:09, 10607.43it/s]"
     ]
    },
    {
     "name": "stdout",
     "output_type": "stream",
     "text": [
      "-0.02621\n"
     ]
    },
    {
     "name": "stderr",
     "output_type": "stream",
     "text": [
      "100%|██████████| 100000/100000 [00:09<00:00, 10132.51it/s]\n",
      "100%|██████████| 100000/100000 [00:07<00:00, 13710.73it/s]\n",
      "  1%|          | 1042/100000 [00:00<00:09, 10411.89it/s]"
     ]
    },
    {
     "name": "stdout",
     "output_type": "stream",
     "text": [
      "-0.033905\n"
     ]
    },
    {
     "name": "stderr",
     "output_type": "stream",
     "text": [
      "100%|██████████| 100000/100000 [00:09<00:00, 10130.33it/s]\n",
      "100%|██████████| 100000/100000 [00:07<00:00, 14018.81it/s]\n",
      "  1%|          | 1056/100000 [00:00<00:09, 10559.36it/s]"
     ]
    },
    {
     "name": "stdout",
     "output_type": "stream",
     "text": [
      "-0.02213\n"
     ]
    },
    {
     "name": "stderr",
     "output_type": "stream",
     "text": [
      "100%|██████████| 100000/100000 [00:09<00:00, 10054.20it/s]\n",
      "100%|██████████| 100000/100000 [00:07<00:00, 13917.48it/s]\n",
      "  1%|          | 1049/100000 [00:00<00:09, 10484.01it/s]"
     ]
    },
    {
     "name": "stdout",
     "output_type": "stream",
     "text": [
      "-0.013745\n",
      "Best reward: -0.0137.\n",
      "alpha = 0.0120, epsilon = 0.4500, gamma = 0.20.\n"
     ]
    },
    {
     "name": "stderr",
     "output_type": "stream",
     "text": [
      "100%|██████████| 100000/100000 [00:09<00:00, 10053.36it/s]\n",
      "100%|██████████| 100000/100000 [00:07<00:00, 13615.44it/s]\n",
      "  1%|          | 1017/100000 [00:00<00:09, 10164.34it/s]"
     ]
    },
    {
     "name": "stdout",
     "output_type": "stream",
     "text": [
      "-0.03933\n"
     ]
    },
    {
     "name": "stderr",
     "output_type": "stream",
     "text": [
      "100%|██████████| 100000/100000 [00:09<00:00, 10048.75it/s]\n",
      "100%|██████████| 100000/100000 [00:07<00:00, 13856.61it/s]\n",
      "  1%|          | 1030/100000 [00:00<00:09, 10298.71it/s]"
     ]
    },
    {
     "name": "stdout",
     "output_type": "stream",
     "text": [
      "-0.02193\n"
     ]
    },
    {
     "name": "stderr",
     "output_type": "stream",
     "text": [
      "100%|██████████| 100000/100000 [00:09<00:00, 10095.49it/s]\n",
      "100%|██████████| 100000/100000 [00:07<00:00, 13972.15it/s]\n",
      "  1%|          | 1054/100000 [00:00<00:09, 10538.00it/s]"
     ]
    },
    {
     "name": "stdout",
     "output_type": "stream",
     "text": [
      "-0.021845\n"
     ]
    },
    {
     "name": "stderr",
     "output_type": "stream",
     "text": [
      "100%|██████████| 100000/100000 [00:10<00:00, 9997.34it/s]\n",
      "100%|██████████| 100000/100000 [00:07<00:00, 13707.03it/s]\n",
      "  1%|          | 1024/100000 [00:00<00:09, 10228.91it/s]"
     ]
    },
    {
     "name": "stdout",
     "output_type": "stream",
     "text": [
      "-0.022645\n"
     ]
    },
    {
     "name": "stderr",
     "output_type": "stream",
     "text": [
      "100%|██████████| 100000/100000 [00:09<00:00, 10116.06it/s]\n",
      "100%|██████████| 100000/100000 [00:07<00:00, 13845.00it/s]\n",
      "  1%|          | 1046/100000 [00:00<00:09, 10458.29it/s]"
     ]
    },
    {
     "name": "stdout",
     "output_type": "stream",
     "text": [
      "-0.02308\n"
     ]
    },
    {
     "name": "stderr",
     "output_type": "stream",
     "text": [
      "100%|██████████| 100000/100000 [00:09<00:00, 10157.82it/s]\n",
      "100%|██████████| 100000/100000 [00:07<00:00, 13867.03it/s]\n",
      "  1%|          | 1037/100000 [00:00<00:09, 10356.18it/s]"
     ]
    },
    {
     "name": "stdout",
     "output_type": "stream",
     "text": [
      "-0.025395\n"
     ]
    },
    {
     "name": "stderr",
     "output_type": "stream",
     "text": [
      "100%|██████████| 100000/100000 [00:09<00:00, 10213.61it/s]\n",
      "100%|██████████| 100000/100000 [00:07<00:00, 13436.33it/s]\n",
      "  1%|          | 1080/100000 [00:00<00:09, 10795.87it/s]"
     ]
    },
    {
     "name": "stdout",
     "output_type": "stream",
     "text": [
      "-0.02942\n"
     ]
    },
    {
     "name": "stderr",
     "output_type": "stream",
     "text": [
      "100%|██████████| 100000/100000 [00:09<00:00, 10139.35it/s]\n",
      "100%|██████████| 100000/100000 [00:07<00:00, 13592.00it/s]\n",
      "  1%|          | 1039/100000 [00:00<00:09, 10387.16it/s]"
     ]
    },
    {
     "name": "stdout",
     "output_type": "stream",
     "text": [
      "-0.034225\n"
     ]
    },
    {
     "name": "stderr",
     "output_type": "stream",
     "text": [
      "100%|██████████| 100000/100000 [00:09<00:00, 10010.15it/s]\n",
      "100%|██████████| 100000/100000 [00:07<00:00, 13561.75it/s]\n",
      "  1%|          | 1063/100000 [00:00<00:09, 10626.92it/s]"
     ]
    },
    {
     "name": "stdout",
     "output_type": "stream",
     "text": [
      "-0.038695\n"
     ]
    },
    {
     "name": "stderr",
     "output_type": "stream",
     "text": [
      "100%|██████████| 100000/100000 [00:10<00:00, 9983.11it/s]\n",
      "100%|██████████| 100000/100000 [00:07<00:00, 13527.16it/s]\n",
      "  1%|          | 1055/100000 [00:00<00:09, 10546.51it/s]"
     ]
    },
    {
     "name": "stdout",
     "output_type": "stream",
     "text": [
      "-0.03941\n"
     ]
    },
    {
     "name": "stderr",
     "output_type": "stream",
     "text": [
      "100%|██████████| 100000/100000 [00:09<00:00, 10041.67it/s]\n",
      "100%|██████████| 100000/100000 [00:07<00:00, 13877.09it/s]\n",
      "  1%|          | 1061/100000 [00:00<00:09, 10606.75it/s]"
     ]
    },
    {
     "name": "stdout",
     "output_type": "stream",
     "text": [
      "-0.03562\n"
     ]
    },
    {
     "name": "stderr",
     "output_type": "stream",
     "text": [
      "100%|██████████| 100000/100000 [00:09<00:00, 10072.68it/s]\n",
      "100%|██████████| 100000/100000 [00:07<00:00, 13969.82it/s]\n",
      "  1%|          | 1077/100000 [00:00<00:09, 10763.57it/s]"
     ]
    },
    {
     "name": "stdout",
     "output_type": "stream",
     "text": [
      "-0.032065\n"
     ]
    },
    {
     "name": "stderr",
     "output_type": "stream",
     "text": [
      "100%|██████████| 100000/100000 [00:09<00:00, 10167.80it/s]\n",
      "100%|██████████| 100000/100000 [00:07<00:00, 13822.89it/s]\n",
      "  1%|          | 1057/100000 [00:00<00:09, 10564.29it/s]"
     ]
    },
    {
     "name": "stdout",
     "output_type": "stream",
     "text": [
      "-0.046145\n"
     ]
    },
    {
     "name": "stderr",
     "output_type": "stream",
     "text": [
      "100%|██████████| 100000/100000 [00:10<00:00, 9873.53it/s]\n",
      "100%|██████████| 100000/100000 [00:07<00:00, 13609.14it/s]\n",
      "  1%|          | 1035/100000 [00:00<00:09, 10348.58it/s]"
     ]
    },
    {
     "name": "stdout",
     "output_type": "stream",
     "text": [
      "-0.015455\n"
     ]
    },
    {
     "name": "stderr",
     "output_type": "stream",
     "text": [
      "100%|██████████| 100000/100000 [00:10<00:00, 9996.53it/s]\n",
      "100%|██████████| 100000/100000 [00:07<00:00, 13733.22it/s]\n",
      "  1%|          | 1049/100000 [00:00<00:09, 10485.04it/s]"
     ]
    },
    {
     "name": "stdout",
     "output_type": "stream",
     "text": [
      "-0.0277\n"
     ]
    },
    {
     "name": "stderr",
     "output_type": "stream",
     "text": [
      "100%|██████████| 100000/100000 [00:10<00:00, 9992.56it/s]\n",
      "100%|██████████| 100000/100000 [00:07<00:00, 13754.52it/s]\n",
      "  1%|          | 1068/100000 [00:00<00:09, 10673.32it/s]"
     ]
    },
    {
     "name": "stdout",
     "output_type": "stream",
     "text": [
      "-0.043445\n"
     ]
    },
    {
     "name": "stderr",
     "output_type": "stream",
     "text": [
      "100%|██████████| 100000/100000 [00:09<00:00, 10142.26it/s]\n",
      "100%|██████████| 100000/100000 [00:07<00:00, 13794.08it/s]\n",
      "  1%|          | 1000/100000 [00:00<00:09, 9995.89it/s]"
     ]
    },
    {
     "name": "stdout",
     "output_type": "stream",
     "text": [
      "-0.017945\n"
     ]
    },
    {
     "name": "stderr",
     "output_type": "stream",
     "text": [
      "100%|██████████| 100000/100000 [00:09<00:00, 10002.96it/s]\n",
      "100%|██████████| 100000/100000 [00:07<00:00, 13826.11it/s]\n",
      "  1%|          | 1043/100000 [00:00<00:09, 10419.15it/s]"
     ]
    },
    {
     "name": "stdout",
     "output_type": "stream",
     "text": [
      "-0.027545\n"
     ]
    },
    {
     "name": "stderr",
     "output_type": "stream",
     "text": [
      "100%|██████████| 100000/100000 [00:10<00:00, 9990.01it/s]\n",
      "100%|██████████| 100000/100000 [00:07<00:00, 13791.41it/s]\n",
      "  1%|          | 1051/100000 [00:00<00:09, 10506.40it/s]"
     ]
    },
    {
     "name": "stdout",
     "output_type": "stream",
     "text": [
      "-0.030945\n"
     ]
    },
    {
     "name": "stderr",
     "output_type": "stream",
     "text": [
      "100%|██████████| 100000/100000 [00:10<00:00, 9377.63it/s]\n",
      "100%|██████████| 100000/100000 [00:07<00:00, 13755.37it/s]\n",
      "  1%|          | 1042/100000 [00:00<00:09, 10416.73it/s]"
     ]
    },
    {
     "name": "stdout",
     "output_type": "stream",
     "text": [
      "-0.023985\n"
     ]
    },
    {
     "name": "stderr",
     "output_type": "stream",
     "text": [
      "100%|██████████| 100000/100000 [00:09<00:00, 10067.47it/s]\n",
      "100%|██████████| 100000/100000 [00:07<00:00, 13743.79it/s]\n",
      "  1%|          | 1033/100000 [00:00<00:09, 10321.84it/s]"
     ]
    },
    {
     "name": "stdout",
     "output_type": "stream",
     "text": [
      "-0.02317\n"
     ]
    },
    {
     "name": "stderr",
     "output_type": "stream",
     "text": [
      "100%|██████████| 100000/100000 [00:09<00:00, 10064.35it/s]\n",
      "100%|██████████| 100000/100000 [00:07<00:00, 13717.67it/s]\n",
      "  1%|          | 1031/100000 [00:00<00:09, 10300.06it/s]"
     ]
    },
    {
     "name": "stdout",
     "output_type": "stream",
     "text": [
      "-0.037445\n"
     ]
    },
    {
     "name": "stderr",
     "output_type": "stream",
     "text": [
      "100%|██████████| 100000/100000 [00:09<00:00, 10138.12it/s]\n",
      "100%|██████████| 100000/100000 [00:07<00:00, 14031.79it/s]\n",
      "  1%|          | 1053/100000 [00:00<00:09, 10524.87it/s]"
     ]
    },
    {
     "name": "stdout",
     "output_type": "stream",
     "text": [
      "-0.016945\n"
     ]
    },
    {
     "name": "stderr",
     "output_type": "stream",
     "text": [
      "100%|██████████| 100000/100000 [00:09<00:00, 10179.03it/s]\n",
      "100%|██████████| 100000/100000 [00:07<00:00, 13810.87it/s]\n",
      "  1%|          | 1035/100000 [00:00<00:09, 10342.22it/s]"
     ]
    },
    {
     "name": "stdout",
     "output_type": "stream",
     "text": [
      "-0.023965\n"
     ]
    },
    {
     "name": "stderr",
     "output_type": "stream",
     "text": [
      "100%|██████████| 100000/100000 [00:10<00:00, 9934.05it/s]\n",
      "100%|██████████| 100000/100000 [00:07<00:00, 13904.62it/s]\n",
      "  1%|          | 1050/100000 [00:00<00:09, 10499.51it/s]"
     ]
    },
    {
     "name": "stdout",
     "output_type": "stream",
     "text": [
      "-0.020545\n"
     ]
    },
    {
     "name": "stderr",
     "output_type": "stream",
     "text": [
      "100%|██████████| 100000/100000 [00:09<00:00, 10168.06it/s]\n",
      "100%|██████████| 100000/100000 [00:07<00:00, 13870.09it/s]\n",
      "  1%|          | 1045/100000 [00:00<00:09, 10443.74it/s]"
     ]
    },
    {
     "name": "stdout",
     "output_type": "stream",
     "text": [
      "-0.02146\n"
     ]
    },
    {
     "name": "stderr",
     "output_type": "stream",
     "text": [
      "100%|██████████| 100000/100000 [00:09<00:00, 10155.35it/s]\n",
      "100%|██████████| 100000/100000 [00:07<00:00, 13827.87it/s]\n",
      "  1%|          | 1042/100000 [00:00<00:09, 10417.68it/s]"
     ]
    },
    {
     "name": "stdout",
     "output_type": "stream",
     "text": [
      "-0.019485\n"
     ]
    },
    {
     "name": "stderr",
     "output_type": "stream",
     "text": [
      "100%|██████████| 100000/100000 [00:09<00:00, 10002.79it/s]\n",
      "100%|██████████| 100000/100000 [00:07<00:00, 13755.90it/s]\n",
      "  1%|          | 1048/100000 [00:00<00:09, 10476.81it/s]"
     ]
    },
    {
     "name": "stdout",
     "output_type": "stream",
     "text": [
      "-0.03319\n"
     ]
    },
    {
     "name": "stderr",
     "output_type": "stream",
     "text": [
      "100%|██████████| 100000/100000 [00:09<00:00, 10068.31it/s]\n",
      "100%|██████████| 100000/100000 [00:07<00:00, 13719.30it/s]\n",
      "  1%|          | 1080/100000 [00:00<00:09, 10791.11it/s]"
     ]
    },
    {
     "name": "stdout",
     "output_type": "stream",
     "text": [
      "-0.030805\n"
     ]
    },
    {
     "name": "stderr",
     "output_type": "stream",
     "text": [
      "100%|██████████| 100000/100000 [00:09<00:00, 10011.96it/s]\n",
      "100%|██████████| 100000/100000 [00:07<00:00, 13735.13it/s]\n",
      "  1%|          | 1086/100000 [00:00<00:09, 10852.58it/s]"
     ]
    },
    {
     "name": "stdout",
     "output_type": "stream",
     "text": [
      "-0.03693\n"
     ]
    },
    {
     "name": "stderr",
     "output_type": "stream",
     "text": [
      "100%|██████████| 100000/100000 [00:09<00:00, 10080.86it/s]\n",
      "100%|██████████| 100000/100000 [00:07<00:00, 13605.84it/s]\n",
      "  1%|          | 1057/100000 [00:00<00:09, 10560.19it/s]"
     ]
    },
    {
     "name": "stdout",
     "output_type": "stream",
     "text": [
      "-0.04929\n"
     ]
    },
    {
     "name": "stderr",
     "output_type": "stream",
     "text": [
      "100%|██████████| 100000/100000 [00:09<00:00, 10174.11it/s]\n",
      "100%|██████████| 100000/100000 [00:07<00:00, 13969.82it/s]\n",
      "  2%|▏         | 2144/100000 [00:00<00:09, 10702.73it/s]"
     ]
    },
    {
     "name": "stdout",
     "output_type": "stream",
     "text": [
      "-0.02023\n"
     ]
    },
    {
     "name": "stderr",
     "output_type": "stream",
     "text": [
      "100%|██████████| 100000/100000 [00:09<00:00, 10202.03it/s]\n",
      "100%|██████████| 100000/100000 [00:07<00:00, 13677.66it/s]\n",
      "  1%|          | 1076/100000 [00:00<00:09, 10754.42it/s]"
     ]
    },
    {
     "name": "stdout",
     "output_type": "stream",
     "text": [
      "-0.028375\n"
     ]
    },
    {
     "name": "stderr",
     "output_type": "stream",
     "text": [
      "100%|██████████| 100000/100000 [00:10<00:00, 9945.37it/s]\n",
      "100%|██████████| 100000/100000 [00:07<00:00, 13612.44it/s]\n",
      "  1%|          | 1074/100000 [00:00<00:09, 10736.50it/s]"
     ]
    },
    {
     "name": "stdout",
     "output_type": "stream",
     "text": [
      "-0.04673\n"
     ]
    },
    {
     "name": "stderr",
     "output_type": "stream",
     "text": [
      "100%|██████████| 100000/100000 [00:09<00:00, 10155.22it/s]\n",
      "100%|██████████| 100000/100000 [00:07<00:00, 13710.28it/s]\n",
      "  2%|▏         | 2081/100000 [00:00<00:09, 10401.63it/s]"
     ]
    },
    {
     "name": "stdout",
     "output_type": "stream",
     "text": [
      "-0.017925\n"
     ]
    },
    {
     "name": "stderr",
     "output_type": "stream",
     "text": [
      "100%|██████████| 100000/100000 [00:09<00:00, 10118.90it/s]\n",
      "100%|██████████| 100000/100000 [00:07<00:00, 13736.43it/s]\n",
      "  1%|          | 1038/100000 [00:00<00:09, 10373.48it/s]"
     ]
    },
    {
     "name": "stdout",
     "output_type": "stream",
     "text": [
      "-0.021225\n"
     ]
    },
    {
     "name": "stderr",
     "output_type": "stream",
     "text": [
      "100%|██████████| 100000/100000 [00:10<00:00, 9997.29it/s]\n",
      "100%|██████████| 100000/100000 [00:07<00:00, 13572.55it/s]\n",
      "  1%|          | 1080/100000 [00:00<00:09, 10794.76it/s]"
     ]
    },
    {
     "name": "stdout",
     "output_type": "stream",
     "text": [
      "-0.03624\n"
     ]
    },
    {
     "name": "stderr",
     "output_type": "stream",
     "text": [
      "100%|██████████| 100000/100000 [00:09<00:00, 10096.52it/s]\n",
      "100%|██████████| 100000/100000 [00:07<00:00, 13594.69it/s]\n",
      "  1%|          | 1047/100000 [00:00<00:09, 10468.39it/s]"
     ]
    },
    {
     "name": "stdout",
     "output_type": "stream",
     "text": [
      "-0.01354\n",
      "Best reward: -0.0135.\n",
      "alpha = 0.0160, epsilon = 0.3500, gamma = 0.05.\n"
     ]
    },
    {
     "name": "stderr",
     "output_type": "stream",
     "text": [
      "100%|██████████| 100000/100000 [00:10<00:00, 9973.36it/s]\n",
      "100%|██████████| 100000/100000 [00:07<00:00, 13738.17it/s]\n",
      "  2%|▏         | 2044/100000 [00:00<00:09, 10217.41it/s]"
     ]
    },
    {
     "name": "stdout",
     "output_type": "stream",
     "text": [
      "-0.0292\n"
     ]
    },
    {
     "name": "stderr",
     "output_type": "stream",
     "text": [
      "100%|██████████| 100000/100000 [00:09<00:00, 10088.58it/s]\n",
      "100%|██████████| 100000/100000 [00:07<00:00, 13564.08it/s]\n",
      "  1%|          | 1040/100000 [00:00<00:09, 10390.92it/s]"
     ]
    },
    {
     "name": "stdout",
     "output_type": "stream",
     "text": [
      "-0.03143\n"
     ]
    },
    {
     "name": "stderr",
     "output_type": "stream",
     "text": [
      "100%|██████████| 100000/100000 [00:10<00:00, 9998.00it/s]\n",
      "100%|██████████| 100000/100000 [00:07<00:00, 13881.68it/s]\n",
      "  1%|          | 1056/100000 [00:00<00:09, 10553.17it/s]"
     ]
    },
    {
     "name": "stdout",
     "output_type": "stream",
     "text": [
      "-0.019675\n"
     ]
    },
    {
     "name": "stderr",
     "output_type": "stream",
     "text": [
      "100%|██████████| 100000/100000 [00:10<00:00, 9966.09it/s]\n",
      "100%|██████████| 100000/100000 [00:07<00:00, 13827.26it/s]\n",
      "  1%|          | 1058/100000 [00:00<00:09, 10575.60it/s]"
     ]
    },
    {
     "name": "stdout",
     "output_type": "stream",
     "text": [
      "-0.029985\n"
     ]
    },
    {
     "name": "stderr",
     "output_type": "stream",
     "text": [
      "100%|██████████| 100000/100000 [00:09<00:00, 10094.41it/s]\n",
      "100%|██████████| 100000/100000 [00:07<00:00, 13717.10it/s]\n",
      "  2%|▏         | 2052/100000 [00:00<00:09, 10256.42it/s]"
     ]
    },
    {
     "name": "stdout",
     "output_type": "stream",
     "text": [
      "-0.043315\n"
     ]
    },
    {
     "name": "stderr",
     "output_type": "stream",
     "text": [
      "100%|██████████| 100000/100000 [00:09<00:00, 10175.48it/s]\n",
      "100%|██████████| 100000/100000 [00:07<00:00, 13770.93it/s]\n",
      "  1%|          | 997/100000 [00:00<00:09, 9964.69it/s]"
     ]
    },
    {
     "name": "stdout",
     "output_type": "stream",
     "text": [
      "-0.022225\n"
     ]
    },
    {
     "name": "stderr",
     "output_type": "stream",
     "text": [
      "100%|██████████| 100000/100000 [00:09<00:00, 10125.29it/s]\n",
      "100%|██████████| 100000/100000 [00:07<00:00, 14019.83it/s]\n",
      "  1%|          | 1059/100000 [00:00<00:09, 10587.41it/s]"
     ]
    },
    {
     "name": "stdout",
     "output_type": "stream",
     "text": [
      "-0.02882\n"
     ]
    },
    {
     "name": "stderr",
     "output_type": "stream",
     "text": [
      "100%|██████████| 100000/100000 [00:09<00:00, 10079.04it/s]\n",
      "100%|██████████| 100000/100000 [00:07<00:00, 13806.47it/s]\n",
      "  1%|          | 1036/100000 [00:00<00:09, 10350.73it/s]"
     ]
    },
    {
     "name": "stdout",
     "output_type": "stream",
     "text": [
      "-0.038005\n"
     ]
    },
    {
     "name": "stderr",
     "output_type": "stream",
     "text": [
      "100%|██████████| 100000/100000 [00:09<00:00, 10108.77it/s]\n",
      "100%|██████████| 100000/100000 [00:07<00:00, 13961.99it/s]\n",
      "  1%|          | 1024/100000 [00:00<00:09, 10234.13it/s]"
     ]
    },
    {
     "name": "stdout",
     "output_type": "stream",
     "text": [
      "-0.02222\n"
     ]
    },
    {
     "name": "stderr",
     "output_type": "stream",
     "text": [
      "100%|██████████| 100000/100000 [00:09<00:00, 10060.42it/s]\n",
      "100%|██████████| 100000/100000 [00:07<00:00, 13868.53it/s]\n",
      "  1%|          | 1026/100000 [00:00<00:09, 10255.66it/s]"
     ]
    },
    {
     "name": "stdout",
     "output_type": "stream",
     "text": [
      "-0.020885\n"
     ]
    },
    {
     "name": "stderr",
     "output_type": "stream",
     "text": [
      "100%|██████████| 100000/100000 [00:09<00:00, 10065.89it/s]\n",
      "100%|██████████| 100000/100000 [00:07<00:00, 13759.23it/s]\n",
      "  1%|          | 1054/100000 [00:00<00:09, 10526.76it/s]"
     ]
    },
    {
     "name": "stdout",
     "output_type": "stream",
     "text": [
      "-0.030275\n"
     ]
    },
    {
     "name": "stderr",
     "output_type": "stream",
     "text": [
      "100%|██████████| 100000/100000 [00:09<00:00, 10122.39it/s]\n",
      "100%|██████████| 100000/100000 [00:07<00:00, 13880.89it/s]\n",
      "  1%|          | 1083/100000 [00:00<00:09, 10827.87it/s]"
     ]
    },
    {
     "name": "stdout",
     "output_type": "stream",
     "text": [
      "-0.028585\n"
     ]
    },
    {
     "name": "stderr",
     "output_type": "stream",
     "text": [
      "100%|██████████| 100000/100000 [00:09<00:00, 10000.77it/s]\n",
      "100%|██████████| 100000/100000 [00:07<00:00, 13809.95it/s]\n",
      "  1%|          | 1088/100000 [00:00<00:09, 10870.27it/s]"
     ]
    },
    {
     "name": "stdout",
     "output_type": "stream",
     "text": [
      "-0.02537\n"
     ]
    },
    {
     "name": "stderr",
     "output_type": "stream",
     "text": [
      "100%|██████████| 100000/100000 [00:10<00:00, 9992.86it/s]\n",
      "100%|██████████| 100000/100000 [00:07<00:00, 13461.55it/s]\n",
      "  1%|          | 1079/100000 [00:00<00:09, 10782.86it/s]"
     ]
    },
    {
     "name": "stdout",
     "output_type": "stream",
     "text": [
      "-0.04833\n"
     ]
    },
    {
     "name": "stderr",
     "output_type": "stream",
     "text": [
      "100%|██████████| 100000/100000 [00:09<00:00, 10130.06it/s]\n",
      "100%|██████████| 100000/100000 [00:07<00:00, 13756.30it/s]\n",
      "  1%|          | 1059/100000 [00:00<00:09, 10585.62it/s]"
     ]
    },
    {
     "name": "stdout",
     "output_type": "stream",
     "text": [
      "-0.030125\n"
     ]
    },
    {
     "name": "stderr",
     "output_type": "stream",
     "text": [
      "100%|██████████| 100000/100000 [00:09<00:00, 10003.28it/s]\n",
      "100%|██████████| 100000/100000 [00:07<00:00, 13829.69it/s]\n",
      "  1%|          | 998/100000 [00:00<00:09, 9978.56it/s]"
     ]
    },
    {
     "name": "stdout",
     "output_type": "stream",
     "text": [
      "-0.02588\n"
     ]
    },
    {
     "name": "stderr",
     "output_type": "stream",
     "text": [
      "100%|██████████| 100000/100000 [00:09<00:00, 10068.30it/s]\n",
      "100%|██████████| 100000/100000 [00:07<00:00, 13656.05it/s]\n",
      "  1%|          | 1050/100000 [00:00<00:09, 10491.76it/s]"
     ]
    },
    {
     "name": "stdout",
     "output_type": "stream",
     "text": [
      "-0.03923\n"
     ]
    },
    {
     "name": "stderr",
     "output_type": "stream",
     "text": [
      "100%|██████████| 100000/100000 [00:09<00:00, 10250.73it/s]\n",
      "100%|██████████| 100000/100000 [00:07<00:00, 13935.83it/s]\n",
      "  1%|          | 1076/100000 [00:00<00:09, 10749.43it/s]"
     ]
    },
    {
     "name": "stdout",
     "output_type": "stream",
     "text": [
      "-0.0206\n"
     ]
    },
    {
     "name": "stderr",
     "output_type": "stream",
     "text": [
      "100%|██████████| 100000/100000 [00:09<00:00, 10088.66it/s]\n",
      "100%|██████████| 100000/100000 [00:07<00:00, 13860.53it/s]\n",
      "  1%|          | 1050/100000 [00:00<00:09, 10498.38it/s]"
     ]
    },
    {
     "name": "stdout",
     "output_type": "stream",
     "text": [
      "-0.01455\n"
     ]
    },
    {
     "name": "stderr",
     "output_type": "stream",
     "text": [
      "100%|██████████| 100000/100000 [00:09<00:00, 10022.73it/s]\n",
      "100%|██████████| 100000/100000 [00:07<00:00, 13861.18it/s]\n",
      "  1%|          | 1062/100000 [00:00<00:09, 10617.35it/s]"
     ]
    },
    {
     "name": "stdout",
     "output_type": "stream",
     "text": [
      "-0.03449\n"
     ]
    },
    {
     "name": "stderr",
     "output_type": "stream",
     "text": [
      "100%|██████████| 100000/100000 [00:09<00:00, 10159.24it/s]\n",
      "100%|██████████| 100000/100000 [00:07<00:00, 13759.53it/s]\n",
      "  1%|          | 1047/100000 [00:00<00:09, 10457.79it/s]"
     ]
    },
    {
     "name": "stdout",
     "output_type": "stream",
     "text": [
      "-0.018565\n"
     ]
    },
    {
     "name": "stderr",
     "output_type": "stream",
     "text": [
      "100%|██████████| 100000/100000 [00:09<00:00, 10108.87it/s]\n",
      "100%|██████████| 100000/100000 [00:07<00:00, 13672.70it/s]\n",
      "  1%|          | 1056/100000 [00:00<00:09, 10551.00it/s]"
     ]
    },
    {
     "name": "stdout",
     "output_type": "stream",
     "text": [
      "-0.020245\n"
     ]
    },
    {
     "name": "stderr",
     "output_type": "stream",
     "text": [
      "100%|██████████| 100000/100000 [00:10<00:00, 9967.86it/s]\n",
      "100%|██████████| 100000/100000 [00:07<00:00, 13728.56it/s]\n",
      "  1%|          | 1013/100000 [00:00<00:09, 10125.18it/s]"
     ]
    },
    {
     "name": "stdout",
     "output_type": "stream",
     "text": [
      "-0.04315\n"
     ]
    },
    {
     "name": "stderr",
     "output_type": "stream",
     "text": [
      "100%|██████████| 100000/100000 [00:09<00:00, 10247.28it/s]\n",
      "100%|██████████| 100000/100000 [00:07<00:00, 13977.62it/s]\n",
      "  1%|          | 1061/100000 [00:00<00:09, 10602.07it/s]"
     ]
    },
    {
     "name": "stdout",
     "output_type": "stream",
     "text": [
      "-0.02353\n"
     ]
    },
    {
     "name": "stderr",
     "output_type": "stream",
     "text": [
      "100%|██████████| 100000/100000 [00:09<00:00, 10198.13it/s]\n",
      "100%|██████████| 100000/100000 [00:07<00:00, 13616.00it/s]\n",
      "  1%|          | 1045/100000 [00:00<00:09, 10442.86it/s]"
     ]
    },
    {
     "name": "stdout",
     "output_type": "stream",
     "text": [
      "-0.024845\n"
     ]
    },
    {
     "name": "stderr",
     "output_type": "stream",
     "text": [
      "100%|██████████| 100000/100000 [00:09<00:00, 10058.52it/s]\n",
      "100%|██████████| 100000/100000 [00:07<00:00, 13865.29it/s]\n",
      "  1%|          | 1057/100000 [00:00<00:09, 10561.05it/s]"
     ]
    },
    {
     "name": "stdout",
     "output_type": "stream",
     "text": [
      "-0.0305\n"
     ]
    },
    {
     "name": "stderr",
     "output_type": "stream",
     "text": [
      "100%|██████████| 100000/100000 [00:09<00:00, 10156.40it/s]\n",
      "100%|██████████| 100000/100000 [00:07<00:00, 13926.52it/s]\n",
      "  1%|          | 1049/100000 [00:00<00:09, 10486.78it/s]"
     ]
    },
    {
     "name": "stdout",
     "output_type": "stream",
     "text": [
      "-0.027375\n"
     ]
    },
    {
     "name": "stderr",
     "output_type": "stream",
     "text": [
      "100%|██████████| 100000/100000 [00:09<00:00, 10289.73it/s]\n",
      "100%|██████████| 100000/100000 [00:07<00:00, 13444.58it/s]\n",
      "  1%|          | 1058/100000 [00:00<00:09, 10570.06it/s]"
     ]
    },
    {
     "name": "stdout",
     "output_type": "stream",
     "text": [
      "-0.035\n"
     ]
    },
    {
     "name": "stderr",
     "output_type": "stream",
     "text": [
      "100%|██████████| 100000/100000 [00:09<00:00, 10098.21it/s]\n",
      "100%|██████████| 100000/100000 [00:07<00:00, 13360.79it/s]\n",
      "  1%|          | 1048/100000 [00:00<00:09, 10475.94it/s]"
     ]
    },
    {
     "name": "stdout",
     "output_type": "stream",
     "text": [
      "-0.040495\n"
     ]
    },
    {
     "name": "stderr",
     "output_type": "stream",
     "text": [
      "100%|██████████| 100000/100000 [00:09<00:00, 10163.84it/s]\n",
      "100%|██████████| 100000/100000 [00:07<00:00, 13825.03it/s]\n",
      "  1%|          | 1031/100000 [00:00<00:09, 10303.94it/s]"
     ]
    },
    {
     "name": "stdout",
     "output_type": "stream",
     "text": [
      "-0.028655\n"
     ]
    },
    {
     "name": "stderr",
     "output_type": "stream",
     "text": [
      "100%|██████████| 100000/100000 [00:09<00:00, 10140.32it/s]\n",
      "100%|██████████| 100000/100000 [00:07<00:00, 13896.90it/s]\n",
      "  1%|          | 1022/100000 [00:00<00:09, 10213.17it/s]"
     ]
    },
    {
     "name": "stdout",
     "output_type": "stream",
     "text": [
      "-0.02078\n"
     ]
    },
    {
     "name": "stderr",
     "output_type": "stream",
     "text": [
      "100%|██████████| 100000/100000 [00:09<00:00, 10065.46it/s]\n",
      "100%|██████████| 100000/100000 [00:07<00:00, 13532.38it/s]"
     ]
    },
    {
     "name": "stdout",
     "output_type": "stream",
     "text": [
      "-0.029945\n"
     ]
    },
    {
     "name": "stderr",
     "output_type": "stream",
     "text": [
      "\n"
     ]
    }
   ],
   "source": [
    "best_alpha, best_epsilon, best_gamma = tuning_params(\n",
    "    env=env,\n",
    "    alpha_values=np.arange(0.002, 0.020, 0.002),\n",
    "    epsilon_values=np.arange(0.05, 0.75, 0.1),\n",
    "    gamma_values=np.arange(0.05, 0.45, 0.15),\n",
    "    train_epochs=100000,\n",
    "    eval_epochs=100000\n",
    ")"
   ]
  },
  {
   "cell_type": "code",
   "execution_count": 27,
   "id": "funny-entity",
   "metadata": {},
   "outputs": [
    {
     "name": "stderr",
     "output_type": "stream",
     "text": [
      "100%|██████████| 250001/250001 [00:24<00:00, 10028.73it/s]\n"
     ]
    }
   ],
   "source": [
    "pi, pi_hist = Q_learning(\n",
    "    env, \n",
    "    alpha=best_alpha,\n",
    "    epsilon=best_epsilon, \n",
    "    gamma=best_gamma, \n",
    "    epochs=250001,\n",
    "    track_history=True\n",
    ")"
   ]
  },
  {
   "cell_type": "code",
   "execution_count": 28,
   "id": "statutory-congo",
   "metadata": {},
   "outputs": [
    {
     "name": "stderr",
     "output_type": "stream",
     "text": [
      "100%|██████████| 200000/200000 [00:14<00:00, 13739.27it/s]\n"
     ]
    },
    {
     "data": {
      "text/plain": [
       "-0.0180575"
      ]
     },
     "execution_count": 28,
     "metadata": {},
     "output_type": "execute_result"
    }
   ],
   "source": [
    "avg_reward(env, pi, epochs=200000)"
   ]
  },
  {
   "cell_type": "code",
   "execution_count": 29,
   "id": "respiratory-hebrew",
   "metadata": {},
   "outputs": [
    {
     "name": "stderr",
     "output_type": "stream",
     "text": [
      "100%|██████████| 200000/200000 [00:12<00:00, 15927.13it/s]\n",
      "100%|██████████| 200000/200000 [00:14<00:00, 13885.75it/s]\n",
      "100%|██████████| 200000/200000 [00:14<00:00, 13891.42it/s]\n",
      "100%|██████████| 200000/200000 [00:14<00:00, 13816.81it/s]\n",
      "100%|██████████| 200000/200000 [00:14<00:00, 13632.37it/s]\n",
      "100%|██████████| 200000/200000 [00:14<00:00, 13895.40it/s]\n",
      "100%|██████████| 200000/200000 [00:14<00:00, 13892.93it/s]\n",
      "100%|██████████| 200000/200000 [00:14<00:00, 13668.34it/s]\n",
      "100%|██████████| 200000/200000 [00:14<00:00, 13782.58it/s]\n",
      "100%|██████████| 200000/200000 [00:14<00:00, 13839.45it/s]\n",
      "100%|██████████| 200000/200000 [00:14<00:00, 13989.61it/s]\n"
     ]
    },
    {
     "data": {
      "text/plain": [
       "[<matplotlib.lines.Line2D at 0x7fe5740b6bd0>]"
      ]
     },
     "execution_count": 29,
     "metadata": {},
     "output_type": "execute_result"
    },
    {
     "data": {
      "image/png": "[encoded data removed]",
      "text/plain": [
       "<Figure size 432x288 with 1 Axes>"
      ]
     },
     "metadata": {
      "needs_background": "light"
     },
     "output_type": "display_data"
    }
   ],
   "source": [
    "avg_reward_hist = [avg_reward(env, pi, epochs=200000) for pi in pi_hist]\n",
    "\n",
    "plt.plot(list(range(0, 250001, 25000)), avg_reward_hist)"
   ]
  },
  {
   "cell_type": "code",
   "execution_count": null,
   "id": "hired-velvet",
   "metadata": {},
   "outputs": [],
   "source": []
  },
  {
   "cell_type": "markdown",
   "id": "automated-shipping",
   "metadata": {},
   "source": [
    "## Часть третья, в главной роли — Дастин Хоффман  \n",
    "А теперь давайте вспомним, как играют в блекджек настоящие профессионалы. Дело в том, что в оффлайн-казино обычно не перемешивают колоду после каждой раздачи — это слишком замедляло бы игру. После раздачи карты просто раздаются дальше с верха колоды до тех пор, пока карт не останется слишком мало, и только тогда колода перемешивается; давайте для определённости считать, что наше казино будет перемешивать колоду, в которой осталось меньше 15 карт.\n",
    "\n",
    "Действительно, если вы будете запоминать, какие карты уже вышли, у вас будет информация о том, какие карты ещё остались, а это позволяет лучше понять, когда нужно удваивать ставку или делать split, а когда лучше не стоит. В настоящем казино могут раздавать карты сразу из нескольких колод, и заслуга Rain Man’а была в том, что он смог считать карты в шести колодах одновременно. Но мы с вами вооружены компьютерами, так что подсчёт можно считать автоматическим."
   ]
  },
  {
   "cell_type": "markdown",
   "id": "fourth-movie",
   "metadata": {},
   "source": [
    "### 3.1 Реализуйте вариант окружения Blackjack-v0 из предыдущей части (с удвоением), в котором игрок имеет возможность “считать карты” в колоде. \n",
    "\n",
    "Это можно сделать разными способами; возможно, вам поможет [статья википедии о блекджеке]( https://ru.wikipedia.org/wiki/%D0%91%D0%BB%D1%8D%D0%BA%D0%B4%D0%B6%D0%B5%D0%BA) (а возможно, и нет)."
   ]
  },
  {
   "cell_type": "code",
   "execution_count": 30,
   "id": "charitable-princeton",
   "metadata": {},
   "outputs": [],
   "source": [
    "# https://ru.wikipedia.org/wiki/Блэкджэк#Подсчёт_карт\n",
    "# \"Половинки\" с удвоенным счетом\n",
    "counting_score = {\n",
    "    1: -2,\n",
    "    2: 1,\n",
    "    3: 2,\n",
    "    4: 2,\n",
    "    5: 3,\n",
    "    6: 2,\n",
    "    7: 1,\n",
    "    8: 0,\n",
    "    9: -1,\n",
    "    10: -2,\n",
    "}"
   ]
  },
  {
   "cell_type": "code",
   "execution_count": 31,
   "id": "excellent-butter",
   "metadata": {},
   "outputs": [],
   "source": [
    "class CountingBlackjackEnv(DoubleBlackjackEnv):\n",
    "\n",
    "    def __init__(self, natural=False, sab=False, num_decks=4, reshuffle_limit=15):\n",
    "        \n",
    "        self.decks = deck * num_decks\n",
    "        self.counting_max = 11 * num_decks\n",
    "        self.action_space = spaces.Discrete(3)\n",
    "        self.observation_space = spaces.Tuple(\n",
    "            (\n",
    "                spaces.Discrete(32),\n",
    "                spaces.Discrete(11),\n",
    "                spaces.Discrete(2),\n",
    "                spaces.Box(\n",
    "                    -self.counting_max,\n",
    "                    self.counting_max, shape=(1, 1)\n",
    "                )\n",
    "            )\n",
    "        )\n",
    "\n",
    "        self.seed()\n",
    "\n",
    "        # Flag to payout 1.5 on a \"natural\" blackjack win, like casino rules\n",
    "        # Ref: http://www.bicyclecards.com/how-to-play/blackjack/\n",
    "        self.natural = natural\n",
    "\n",
    "        # Flag for full agreement with the (Sutton and Barto, 2018) definition. Overrides self.natural\n",
    "        self.sab = sab\n",
    "\n",
    "        # Active decks for card drawing\n",
    "        self.num_decks = num_decks\n",
    "\n",
    "        # Minimal cards in deck to start reshuffling\n",
    "        self.reshuffle_limit = reshuffle_limit\n",
    "\n",
    "        self.reshuffle_decks()\n",
    "\n",
    "    def draw_card(self, np_random):\n",
    "        card = int(self.decks.pop(np_random.choice(len(self.decks))))\n",
    "        self.count += counting_score[card]\n",
    "        return card\n",
    "\n",
    "    def reshuffle_decks(self):\n",
    "        # Stored decks\n",
    "        self.decks = deck * self.num_decks\n",
    "        # Stored count\n",
    "        self.count = 0\n",
    "\n",
    "    def _get_obs(self):\n",
    "        return (self.sum_hand(self.player), self.dealer[0],\n",
    "                self.usable_ace(self.player), self.count)\n",
    "\n",
    "    def reset(self):\n",
    "        if len(self.decks) < self.reshuffle_limit:\n",
    "            self.reshuffle_decks()\n",
    "        self.dealer = self.draw_hand(self.np_random)\n",
    "        self.player = self.draw_hand(self.np_random)\n",
    "        return self._get_obs()"
   ]
  },
  {
   "cell_type": "markdown",
   "id": "aboriginal-conditioning",
   "metadata": {},
   "source": [
    "### 3.2 Реализуйте метод обучения с подкреплением без модели для этого варианта, постройте графики, аналогичные п.2."
   ]
  },
  {
   "cell_type": "code",
   "execution_count": 32,
   "id": "fossil-adapter",
   "metadata": {},
   "outputs": [],
   "source": [
    "env = CountingBlackjackEnv(natural=True)"
   ]
  },
  {
   "cell_type": "code",
   "execution_count": 33,
   "id": "similar-updating",
   "metadata": {},
   "outputs": [],
   "source": [
    "# в дискретном пространстве состояний можно записать стратегию \n",
    "# как словарь состоягие -> действие\n",
    "\n",
    "states_list = list(\n",
    "    itertools.product(\n",
    "        range(2, 33), # the players current sum, 32 для Q learning !!!!!!!!\n",
    "        range(1, 11), # the dealer's one showing card (1-10 where 1 is ace),\n",
    "        (True, False), # the player holds a usable ace\n",
    "        range(-env.counting_max, env.counting_max) # counting cards\n",
    "    )\n",
    ")\n",
    "\n",
    "states_to_idx = {state: i for i, state in enumerate(states_list)}"
   ]
  },
  {
   "cell_type": "code",
   "execution_count": 34,
   "id": "nasty-survival",
   "metadata": {},
   "outputs": [
    {
     "name": "stderr",
     "output_type": "stream",
     "text": [
      "100%|██████████| 100000/100000 [00:28<00:00, 3549.69it/s]\n",
      "100%|██████████| 100000/100000 [00:06<00:00, 15876.11it/s]\n",
      "  0%|          | 429/100000 [00:00<00:23, 4280.70it/s]"
     ]
    },
    {
     "name": "stdout",
     "output_type": "stream",
     "text": [
      "-0.12844\n",
      "Best reward: -0.1284.\n",
      "alpha = 0.0020, epsilon = 0.0500, gamma = 0.05.\n"
     ]
    },
    {
     "name": "stderr",
     "output_type": "stream",
     "text": [
      "100%|██████████| 100000/100000 [00:28<00:00, 3543.69it/s]\n",
      "100%|██████████| 100000/100000 [00:06<00:00, 15964.79it/s]\n",
      "  0%|          | 408/100000 [00:00<00:24, 4078.35it/s]"
     ]
    },
    {
     "name": "stdout",
     "output_type": "stream",
     "text": [
      "-0.131015\n"
     ]
    },
    {
     "name": "stderr",
     "output_type": "stream",
     "text": [
      "100%|██████████| 100000/100000 [00:28<00:00, 3520.88it/s]\n",
      "100%|██████████| 100000/100000 [00:06<00:00, 15951.95it/s]\n",
      "  0%|          | 432/100000 [00:00<00:23, 4317.32it/s]"
     ]
    },
    {
     "name": "stdout",
     "output_type": "stream",
     "text": [
      "-0.132645\n"
     ]
    },
    {
     "name": "stderr",
     "output_type": "stream",
     "text": [
      "100%|██████████| 100000/100000 [00:28<00:00, 3540.05it/s]\n",
      "100%|██████████| 100000/100000 [00:06<00:00, 15872.51it/s]\n",
      "  0%|          | 414/100000 [00:00<00:24, 4137.58it/s]"
     ]
    },
    {
     "name": "stdout",
     "output_type": "stream",
     "text": [
      "-0.115585\n",
      "Best reward: -0.1156.\n",
      "alpha = 0.0020, epsilon = 0.1500, gamma = 0.05.\n"
     ]
    },
    {
     "name": "stderr",
     "output_type": "stream",
     "text": [
      "100%|██████████| 100000/100000 [00:28<00:00, 3529.98it/s]\n",
      "100%|██████████| 100000/100000 [00:06<00:00, 16012.84it/s]\n",
      "  0%|          | 417/100000 [00:00<00:23, 4167.04it/s]"
     ]
    },
    {
     "name": "stdout",
     "output_type": "stream",
     "text": [
      "-0.12896\n"
     ]
    },
    {
     "name": "stderr",
     "output_type": "stream",
     "text": [
      "100%|██████████| 100000/100000 [00:28<00:00, 3502.35it/s]\n",
      "100%|██████████| 100000/100000 [00:06<00:00, 15688.68it/s]\n",
      "  0%|          | 421/100000 [00:00<00:23, 4204.10it/s]"
     ]
    },
    {
     "name": "stdout",
     "output_type": "stream",
     "text": [
      "-0.11927\n"
     ]
    },
    {
     "name": "stderr",
     "output_type": "stream",
     "text": [
      "100%|██████████| 100000/100000 [00:28<00:00, 3514.17it/s]\n",
      "100%|██████████| 100000/100000 [00:06<00:00, 15978.90it/s]\n",
      "  0%|          | 416/100000 [00:00<00:23, 4151.90it/s]"
     ]
    },
    {
     "name": "stdout",
     "output_type": "stream",
     "text": [
      "-0.114825\n",
      "Best reward: -0.1148.\n",
      "alpha = 0.0020, epsilon = 0.2500, gamma = 0.05.\n"
     ]
    },
    {
     "name": "stderr",
     "output_type": "stream",
     "text": [
      "100%|██████████| 100000/100000 [00:28<00:00, 3524.58it/s]\n",
      "100%|██████████| 100000/100000 [00:06<00:00, 16095.86it/s]\n",
      "  0%|          | 421/100000 [00:00<00:23, 4204.29it/s]"
     ]
    },
    {
     "name": "stdout",
     "output_type": "stream",
     "text": [
      "-0.107565\n",
      "Best reward: -0.1076.\n",
      "alpha = 0.0020, epsilon = 0.2500, gamma = 0.20.\n"
     ]
    },
    {
     "name": "stderr",
     "output_type": "stream",
     "text": [
      "100%|██████████| 100000/100000 [00:28<00:00, 3546.42it/s]\n",
      "100%|██████████| 100000/100000 [00:06<00:00, 15807.38it/s]\n",
      "  0%|          | 429/100000 [00:00<00:23, 4279.66it/s]"
     ]
    },
    {
     "name": "stdout",
     "output_type": "stream",
     "text": [
      "-0.111455\n"
     ]
    },
    {
     "name": "stderr",
     "output_type": "stream",
     "text": [
      "100%|██████████| 100000/100000 [00:28<00:00, 3476.86it/s]\n",
      "100%|██████████| 100000/100000 [00:06<00:00, 16084.54it/s]\n",
      "  0%|          | 425/100000 [00:00<00:23, 4248.02it/s]"
     ]
    },
    {
     "name": "stdout",
     "output_type": "stream",
     "text": [
      "-0.11219\n"
     ]
    },
    {
     "name": "stderr",
     "output_type": "stream",
     "text": [
      "100%|██████████| 100000/100000 [00:28<00:00, 3525.61it/s]\n",
      "100%|██████████| 100000/100000 [00:06<00:00, 16052.25it/s]\n",
      "  0%|          | 423/100000 [00:00<00:23, 4224.98it/s]"
     ]
    },
    {
     "name": "stdout",
     "output_type": "stream",
     "text": [
      "-0.10282\n",
      "Best reward: -0.1028.\n",
      "alpha = 0.0020, epsilon = 0.3500, gamma = 0.20.\n"
     ]
    },
    {
     "name": "stderr",
     "output_type": "stream",
     "text": [
      "100%|██████████| 100000/100000 [00:28<00:00, 3514.46it/s]\n",
      "100%|██████████| 100000/100000 [00:06<00:00, 16159.83it/s]\n",
      "  0%|          | 414/100000 [00:00<00:24, 4132.28it/s]"
     ]
    },
    {
     "name": "stdout",
     "output_type": "stream",
     "text": [
      "-0.105985\n"
     ]
    },
    {
     "name": "stderr",
     "output_type": "stream",
     "text": [
      "100%|██████████| 100000/100000 [00:28<00:00, 3503.80it/s]\n",
      "100%|██████████| 100000/100000 [00:06<00:00, 15852.94it/s]\n",
      "  0%|          | 427/100000 [00:00<00:23, 4267.40it/s]"
     ]
    },
    {
     "name": "stdout",
     "output_type": "stream",
     "text": [
      "-0.09184\n",
      "Best reward: -0.0918.\n",
      "alpha = 0.0020, epsilon = 0.4500, gamma = 0.05.\n"
     ]
    },
    {
     "name": "stderr",
     "output_type": "stream",
     "text": [
      "100%|██████████| 100000/100000 [00:28<00:00, 3529.02it/s]\n",
      "100%|██████████| 100000/100000 [00:06<00:00, 15976.71it/s]\n",
      "  0%|          | 400/100000 [00:00<00:24, 3992.38it/s]"
     ]
    },
    {
     "name": "stdout",
     "output_type": "stream",
     "text": [
      "-0.098725\n"
     ]
    },
    {
     "name": "stderr",
     "output_type": "stream",
     "text": [
      "100%|██████████| 100000/100000 [00:28<00:00, 3467.27it/s]\n",
      "100%|██████████| 100000/100000 [00:06<00:00, 15726.41it/s]\n",
      "  0%|          | 420/100000 [00:00<00:23, 4199.04it/s]"
     ]
    },
    {
     "name": "stdout",
     "output_type": "stream",
     "text": [
      "-0.09721\n"
     ]
    },
    {
     "name": "stderr",
     "output_type": "stream",
     "text": [
      "100%|██████████| 100000/100000 [00:28<00:00, 3495.46it/s]\n",
      "100%|██████████| 100000/100000 [00:06<00:00, 15944.51it/s]\n",
      "  0%|          | 423/100000 [00:00<00:23, 4229.56it/s]"
     ]
    },
    {
     "name": "stdout",
     "output_type": "stream",
     "text": [
      "-0.09833\n"
     ]
    },
    {
     "name": "stderr",
     "output_type": "stream",
     "text": [
      "100%|██████████| 100000/100000 [00:28<00:00, 3506.88it/s]\n",
      "100%|██████████| 100000/100000 [00:06<00:00, 15980.47it/s]\n",
      "  0%|          | 405/100000 [00:00<00:24, 4043.43it/s]"
     ]
    },
    {
     "name": "stdout",
     "output_type": "stream",
     "text": [
      "-0.092975\n"
     ]
    },
    {
     "name": "stderr",
     "output_type": "stream",
     "text": [
      "100%|██████████| 100000/100000 [00:28<00:00, 3492.22it/s]\n",
      "100%|██████████| 100000/100000 [00:06<00:00, 15836.89it/s]\n",
      "  0%|          | 422/100000 [00:00<00:23, 4219.80it/s]"
     ]
    },
    {
     "name": "stdout",
     "output_type": "stream",
     "text": [
      "-0.10041\n"
     ]
    },
    {
     "name": "stderr",
     "output_type": "stream",
     "text": [
      "100%|██████████| 100000/100000 [00:28<00:00, 3472.20it/s]\n",
      "100%|██████████| 100000/100000 [00:06<00:00, 15968.05it/s]\n",
      "  0%|          | 408/100000 [00:00<00:24, 4075.85it/s]"
     ]
    },
    {
     "name": "stdout",
     "output_type": "stream",
     "text": [
      "-0.08891\n",
      "Best reward: -0.0889.\n",
      "alpha = 0.0020, epsilon = 0.6500, gamma = 0.05.\n"
     ]
    },
    {
     "name": "stderr",
     "output_type": "stream",
     "text": [
      "100%|██████████| 100000/100000 [00:28<00:00, 3503.14it/s]\n",
      "100%|██████████| 100000/100000 [00:06<00:00, 15823.64it/s]\n",
      "  0%|          | 416/100000 [00:00<00:23, 4158.16it/s]"
     ]
    },
    {
     "name": "stdout",
     "output_type": "stream",
     "text": [
      "-0.089885\n"
     ]
    },
    {
     "name": "stderr",
     "output_type": "stream",
     "text": [
      "100%|██████████| 100000/100000 [00:28<00:00, 3493.98it/s]\n",
      "100%|██████████| 100000/100000 [00:06<00:00, 16034.82it/s]\n",
      "  0%|          | 433/100000 [00:00<00:23, 4320.76it/s]"
     ]
    },
    {
     "name": "stdout",
     "output_type": "stream",
     "text": [
      "-0.09587\n"
     ]
    },
    {
     "name": "stderr",
     "output_type": "stream",
     "text": [
      "100%|██████████| 100000/100000 [00:28<00:00, 3531.76it/s]\n",
      "100%|██████████| 100000/100000 [00:06<00:00, 15730.12it/s]\n",
      "  0%|          | 421/100000 [00:00<00:23, 4204.70it/s]"
     ]
    },
    {
     "name": "stdout",
     "output_type": "stream",
     "text": [
      "-0.11437\n"
     ]
    },
    {
     "name": "stderr",
     "output_type": "stream",
     "text": [
      "100%|██████████| 100000/100000 [00:27<00:00, 3577.92it/s]\n",
      "100%|██████████| 100000/100000 [00:06<00:00, 15864.86it/s]\n",
      "  0%|          | 433/100000 [00:00<00:23, 4328.35it/s]"
     ]
    },
    {
     "name": "stdout",
     "output_type": "stream",
     "text": [
      "-0.131195\n"
     ]
    },
    {
     "name": "stderr",
     "output_type": "stream",
     "text": [
      "100%|██████████| 100000/100000 [00:28<00:00, 3548.39it/s]\n",
      "100%|██████████| 100000/100000 [00:06<00:00, 16225.23it/s]\n",
      "  0%|          | 420/100000 [00:00<00:23, 4199.26it/s]"
     ]
    },
    {
     "name": "stdout",
     "output_type": "stream",
     "text": [
      "-0.131605\n"
     ]
    },
    {
     "name": "stderr",
     "output_type": "stream",
     "text": [
      "100%|██████████| 100000/100000 [00:28<00:00, 3556.45it/s]\n",
      "100%|██████████| 100000/100000 [00:06<00:00, 16065.31it/s]\n",
      "  1%|          | 842/100000 [00:00<00:23, 4206.76it/s]"
     ]
    },
    {
     "name": "stdout",
     "output_type": "stream",
     "text": [
      "-0.117045\n"
     ]
    },
    {
     "name": "stderr",
     "output_type": "stream",
     "text": [
      "100%|██████████| 100000/100000 [00:28<00:00, 3568.11it/s]\n",
      "100%|██████████| 100000/100000 [00:06<00:00, 16072.89it/s]\n",
      "  0%|          | 426/100000 [00:00<00:23, 4257.78it/s]"
     ]
    },
    {
     "name": "stdout",
     "output_type": "stream",
     "text": [
      "-0.116745\n"
     ]
    },
    {
     "name": "stderr",
     "output_type": "stream",
     "text": [
      "100%|██████████| 100000/100000 [00:28<00:00, 3538.94it/s]\n",
      "100%|██████████| 100000/100000 [00:06<00:00, 16136.10it/s]\n",
      "  0%|          | 421/100000 [00:00<00:23, 4207.16it/s]"
     ]
    },
    {
     "name": "stdout",
     "output_type": "stream",
     "text": [
      "-0.11435\n"
     ]
    },
    {
     "name": "stderr",
     "output_type": "stream",
     "text": [
      "100%|██████████| 100000/100000 [00:28<00:00, 3539.50it/s]\n",
      "100%|██████████| 100000/100000 [00:06<00:00, 15810.34it/s]\n",
      "  0%|          | 431/100000 [00:00<00:23, 4306.28it/s]"
     ]
    },
    {
     "name": "stdout",
     "output_type": "stream",
     "text": [
      "-0.11307\n"
     ]
    },
    {
     "name": "stderr",
     "output_type": "stream",
     "text": [
      "100%|██████████| 100000/100000 [00:28<00:00, 3560.08it/s]\n",
      "100%|██████████| 100000/100000 [00:06<00:00, 15945.36it/s]\n",
      "  0%|          | 415/100000 [00:00<00:24, 4145.46it/s]"
     ]
    },
    {
     "name": "stdout",
     "output_type": "stream",
     "text": [
      "-0.10789\n"
     ]
    },
    {
     "name": "stderr",
     "output_type": "stream",
     "text": [
      "100%|██████████| 100000/100000 [00:28<00:00, 3529.83it/s]\n",
      "100%|██████████| 100000/100000 [00:06<00:00, 15971.74it/s]\n",
      "  0%|          | 426/100000 [00:00<00:23, 4256.87it/s]"
     ]
    },
    {
     "name": "stdout",
     "output_type": "stream",
     "text": [
      "-0.111745\n"
     ]
    },
    {
     "name": "stderr",
     "output_type": "stream",
     "text": [
      "100%|██████████| 100000/100000 [00:28<00:00, 3514.04it/s]\n",
      "100%|██████████| 100000/100000 [00:06<00:00, 15987.36it/s]\n",
      "  0%|          | 429/100000 [00:00<00:23, 4281.17it/s]"
     ]
    },
    {
     "name": "stdout",
     "output_type": "stream",
     "text": [
      "-0.113525\n"
     ]
    },
    {
     "name": "stderr",
     "output_type": "stream",
     "text": [
      "100%|██████████| 100000/100000 [00:28<00:00, 3524.91it/s]\n",
      "100%|██████████| 100000/100000 [00:06<00:00, 16072.23it/s]\n",
      "  0%|          | 417/100000 [00:00<00:23, 4162.48it/s]"
     ]
    },
    {
     "name": "stdout",
     "output_type": "stream",
     "text": [
      "-0.10233\n"
     ]
    },
    {
     "name": "stderr",
     "output_type": "stream",
     "text": [
      "100%|██████████| 100000/100000 [00:28<00:00, 3515.92it/s]\n",
      "100%|██████████| 100000/100000 [00:06<00:00, 15862.91it/s]\n",
      "  0%|          | 419/100000 [00:00<00:23, 4180.66it/s]"
     ]
    },
    {
     "name": "stdout",
     "output_type": "stream",
     "text": [
      "-0.111725\n"
     ]
    },
    {
     "name": "stderr",
     "output_type": "stream",
     "text": [
      "100%|██████████| 100000/100000 [00:28<00:00, 3506.76it/s]\n",
      "100%|██████████| 100000/100000 [00:06<00:00, 15848.93it/s]\n",
      "  0%|          | 407/100000 [00:00<00:24, 4069.70it/s]"
     ]
    },
    {
     "name": "stdout",
     "output_type": "stream",
     "text": [
      "-0.097225\n"
     ]
    },
    {
     "name": "stderr",
     "output_type": "stream",
     "text": [
      "100%|██████████| 100000/100000 [00:28<00:00, 3491.31it/s]\n",
      "100%|██████████| 100000/100000 [00:06<00:00, 15974.18it/s]\n",
      "  0%|          | 422/100000 [00:00<00:23, 4210.11it/s]"
     ]
    },
    {
     "name": "stdout",
     "output_type": "stream",
     "text": [
      "-0.09366\n"
     ]
    },
    {
     "name": "stderr",
     "output_type": "stream",
     "text": [
      "100%|██████████| 100000/100000 [00:28<00:00, 3489.09it/s]\n",
      "100%|██████████| 100000/100000 [00:06<00:00, 15837.14it/s]\n",
      "  0%|          | 417/100000 [00:00<00:23, 4162.82it/s]"
     ]
    },
    {
     "name": "stdout",
     "output_type": "stream",
     "text": [
      "-0.106515\n"
     ]
    },
    {
     "name": "stderr",
     "output_type": "stream",
     "text": [
      "100%|██████████| 100000/100000 [00:28<00:00, 3510.11it/s]\n",
      "100%|██████████| 100000/100000 [00:06<00:00, 15664.21it/s]\n",
      "  0%|          | 412/100000 [00:00<00:24, 4110.59it/s]"
     ]
    },
    {
     "name": "stdout",
     "output_type": "stream",
     "text": [
      "-0.085385\n",
      "Best reward: -0.0854.\n",
      "alpha = 0.0040, epsilon = 0.5500, gamma = 0.05.\n"
     ]
    },
    {
     "name": "stderr",
     "output_type": "stream",
     "text": [
      "100%|██████████| 100000/100000 [00:28<00:00, 3492.53it/s]\n",
      "100%|██████████| 100000/100000 [00:06<00:00, 16009.00it/s]\n",
      "  0%|          | 426/100000 [00:00<00:23, 4250.85it/s]"
     ]
    },
    {
     "name": "stdout",
     "output_type": "stream",
     "text": [
      "-0.0874\n"
     ]
    },
    {
     "name": "stderr",
     "output_type": "stream",
     "text": [
      "100%|██████████| 100000/100000 [00:28<00:00, 3476.95it/s]\n",
      "100%|██████████| 100000/100000 [00:07<00:00, 14248.82it/s]\n",
      "  0%|          | 352/100000 [00:00<00:28, 3512.99it/s]"
     ]
    },
    {
     "name": "stdout",
     "output_type": "stream",
     "text": [
      "-0.09011\n"
     ]
    },
    {
     "name": "stderr",
     "output_type": "stream",
     "text": [
      "100%|██████████| 100000/100000 [00:31<00:00, 3198.76it/s]\n",
      "100%|██████████| 100000/100000 [00:06<00:00, 15384.13it/s]\n",
      "  0%|          | 389/100000 [00:00<00:25, 3880.67it/s]"
     ]
    },
    {
     "name": "stdout",
     "output_type": "stream",
     "text": [
      "-0.091255\n"
     ]
    },
    {
     "name": "stderr",
     "output_type": "stream",
     "text": [
      "100%|██████████| 100000/100000 [00:29<00:00, 3354.35it/s]\n",
      "100%|██████████| 100000/100000 [00:06<00:00, 15622.35it/s]\n",
      "  0%|          | 395/100000 [00:00<00:25, 3948.53it/s]"
     ]
    },
    {
     "name": "stdout",
     "output_type": "stream",
     "text": [
      "-0.0959\n"
     ]
    },
    {
     "name": "stderr",
     "output_type": "stream",
     "text": [
      "100%|██████████| 100000/100000 [00:29<00:00, 3386.78it/s]\n",
      "100%|██████████| 100000/100000 [00:06<00:00, 15640.25it/s]\n",
      "  0%|          | 408/100000 [00:00<00:24, 4070.29it/s]"
     ]
    },
    {
     "name": "stdout",
     "output_type": "stream",
     "text": [
      "-0.09961\n"
     ]
    },
    {
     "name": "stderr",
     "output_type": "stream",
     "text": [
      "100%|██████████| 100000/100000 [00:29<00:00, 3446.47it/s]\n",
      "100%|██████████| 100000/100000 [00:06<00:00, 15589.90it/s]\n",
      "  0%|          | 411/100000 [00:00<00:24, 4103.20it/s]"
     ]
    },
    {
     "name": "stdout",
     "output_type": "stream",
     "text": [
      "-0.122115\n"
     ]
    },
    {
     "name": "stderr",
     "output_type": "stream",
     "text": [
      "100%|██████████| 100000/100000 [00:28<00:00, 3460.61it/s]\n",
      "100%|██████████| 100000/100000 [00:06<00:00, 14390.29it/s]\n",
      "  0%|          | 382/100000 [00:00<00:26, 3814.87it/s]"
     ]
    },
    {
     "name": "stdout",
     "output_type": "stream",
     "text": [
      "-0.12978\n"
     ]
    },
    {
     "name": "stderr",
     "output_type": "stream",
     "text": [
      "100%|██████████| 100000/100000 [00:29<00:00, 3355.92it/s]\n",
      "100%|██████████| 100000/100000 [00:06<00:00, 15014.87it/s]\n",
      "  0%|          | 401/100000 [00:00<00:24, 4005.39it/s]"
     ]
    },
    {
     "name": "stdout",
     "output_type": "stream",
     "text": [
      "-0.12488\n"
     ]
    },
    {
     "name": "stderr",
     "output_type": "stream",
     "text": [
      "100%|██████████| 100000/100000 [00:28<00:00, 3505.14it/s]\n",
      "100%|██████████| 100000/100000 [00:06<00:00, 15517.35it/s]\n",
      "  0%|          | 410/100000 [00:00<00:24, 4091.29it/s]"
     ]
    },
    {
     "name": "stdout",
     "output_type": "stream",
     "text": [
      "-0.11682\n"
     ]
    },
    {
     "name": "stderr",
     "output_type": "stream",
     "text": [
      "100%|██████████| 100000/100000 [00:29<00:00, 3435.29it/s]\n",
      "100%|██████████| 100000/100000 [00:06<00:00, 15532.16it/s]\n",
      "  0%|          | 393/100000 [00:00<00:25, 3927.36it/s]"
     ]
    },
    {
     "name": "stdout",
     "output_type": "stream",
     "text": [
      "-0.112605\n"
     ]
    },
    {
     "name": "stderr",
     "output_type": "stream",
     "text": [
      "100%|██████████| 100000/100000 [00:29<00:00, 3442.01it/s]\n",
      "100%|██████████| 100000/100000 [00:06<00:00, 15320.49it/s]\n",
      "  0%|          | 389/100000 [00:00<00:25, 3881.52it/s]"
     ]
    },
    {
     "name": "stdout",
     "output_type": "stream",
     "text": [
      "-0.128195\n"
     ]
    },
    {
     "name": "stderr",
     "output_type": "stream",
     "text": [
      "100%|██████████| 100000/100000 [00:29<00:00, 3415.79it/s]\n",
      "100%|██████████| 100000/100000 [00:06<00:00, 14985.81it/s]\n",
      "  1%|          | 808/100000 [00:00<00:24, 4037.87it/s]"
     ]
    },
    {
     "name": "stdout",
     "output_type": "stream",
     "text": [
      "-0.099465\n"
     ]
    },
    {
     "name": "stderr",
     "output_type": "stream",
     "text": [
      "100%|██████████| 100000/100000 [00:29<00:00, 3426.04it/s]\n",
      "100%|██████████| 100000/100000 [00:06<00:00, 15542.11it/s]\n",
      "  0%|          | 407/100000 [00:00<00:24, 4068.59it/s]"
     ]
    },
    {
     "name": "stdout",
     "output_type": "stream",
     "text": [
      "-0.10828\n"
     ]
    },
    {
     "name": "stderr",
     "output_type": "stream",
     "text": [
      "100%|██████████| 100000/100000 [00:29<00:00, 3429.14it/s]\n",
      "100%|██████████| 100000/100000 [00:06<00:00, 15474.61it/s]\n",
      "  0%|          | 401/100000 [00:00<00:24, 4002.97it/s]"
     ]
    },
    {
     "name": "stdout",
     "output_type": "stream",
     "text": [
      "-0.112925\n"
     ]
    },
    {
     "name": "stderr",
     "output_type": "stream",
     "text": [
      "100%|██████████| 100000/100000 [00:29<00:00, 3417.91it/s]\n",
      "100%|██████████| 100000/100000 [00:06<00:00, 15608.93it/s]\n",
      "  0%|          | 408/100000 [00:00<00:24, 4072.28it/s]"
     ]
    },
    {
     "name": "stdout",
     "output_type": "stream",
     "text": [
      "-0.103405\n"
     ]
    },
    {
     "name": "stderr",
     "output_type": "stream",
     "text": [
      "100%|██████████| 100000/100000 [00:29<00:00, 3426.93it/s]\n",
      "100%|██████████| 100000/100000 [00:06<00:00, 15508.30it/s]\n",
      "  0%|          | 400/100000 [00:00<00:24, 3995.13it/s]"
     ]
    },
    {
     "name": "stdout",
     "output_type": "stream",
     "text": [
      "-0.104735\n"
     ]
    },
    {
     "name": "stderr",
     "output_type": "stream",
     "text": [
      "100%|██████████| 100000/100000 [00:29<00:00, 3433.41it/s]\n",
      "100%|██████████| 100000/100000 [00:06<00:00, 16124.73it/s]\n",
      "  0%|          | 427/100000 [00:00<00:23, 4267.52it/s]"
     ]
    },
    {
     "name": "stdout",
     "output_type": "stream",
     "text": [
      "-0.09687\n"
     ]
    },
    {
     "name": "stderr",
     "output_type": "stream",
     "text": [
      "100%|██████████| 100000/100000 [00:28<00:00, 3559.99it/s]\n",
      "100%|██████████| 100000/100000 [00:06<00:00, 16092.11it/s]\n",
      "  0%|          | 417/100000 [00:00<00:23, 4167.01it/s]"
     ]
    },
    {
     "name": "stdout",
     "output_type": "stream",
     "text": [
      "-0.09839\n"
     ]
    },
    {
     "name": "stderr",
     "output_type": "stream",
     "text": [
      "100%|██████████| 100000/100000 [00:28<00:00, 3526.60it/s]\n",
      "100%|██████████| 100000/100000 [00:06<00:00, 16060.05it/s]\n",
      "  0%|          | 411/100000 [00:00<00:24, 4108.40it/s]"
     ]
    },
    {
     "name": "stdout",
     "output_type": "stream",
     "text": [
      "-0.093325\n"
     ]
    },
    {
     "name": "stderr",
     "output_type": "stream",
     "text": [
      "100%|██████████| 100000/100000 [00:28<00:00, 3519.08it/s]\n",
      "100%|██████████| 100000/100000 [00:06<00:00, 16223.33it/s]\n",
      "  0%|          | 421/100000 [00:00<00:23, 4203.98it/s]"
     ]
    },
    {
     "name": "stdout",
     "output_type": "stream",
     "text": [
      "-0.113335\n"
     ]
    },
    {
     "name": "stderr",
     "output_type": "stream",
     "text": [
      "100%|██████████| 100000/100000 [00:28<00:00, 3530.09it/s]\n",
      "100%|██████████| 100000/100000 [00:06<00:00, 15905.29it/s]\n",
      "  0%|          | 425/100000 [00:00<00:23, 4242.44it/s]"
     ]
    },
    {
     "name": "stdout",
     "output_type": "stream",
     "text": [
      "-0.086795\n"
     ]
    },
    {
     "name": "stderr",
     "output_type": "stream",
     "text": [
      "100%|██████████| 100000/100000 [00:28<00:00, 3526.44it/s]\n",
      "100%|██████████| 100000/100000 [00:06<00:00, 16136.91it/s]\n",
      "  0%|          | 424/100000 [00:00<00:23, 4233.48it/s]"
     ]
    },
    {
     "name": "stdout",
     "output_type": "stream",
     "text": [
      "-0.09994\n"
     ]
    },
    {
     "name": "stderr",
     "output_type": "stream",
     "text": [
      "100%|██████████| 100000/100000 [00:28<00:00, 3526.30it/s]\n",
      "100%|██████████| 100000/100000 [00:06<00:00, 16173.78it/s]\n",
      "  0%|          | 416/100000 [00:00<00:23, 4154.08it/s]"
     ]
    },
    {
     "name": "stdout",
     "output_type": "stream",
     "text": [
      "-0.09748\n"
     ]
    },
    {
     "name": "stderr",
     "output_type": "stream",
     "text": [
      "100%|██████████| 100000/100000 [00:28<00:00, 3507.14it/s]\n",
      "100%|██████████| 100000/100000 [00:06<00:00, 16072.21it/s]\n",
      "  0%|          | 422/100000 [00:00<00:23, 4213.03it/s]"
     ]
    },
    {
     "name": "stdout",
     "output_type": "stream",
     "text": [
      "-0.08729\n"
     ]
    },
    {
     "name": "stderr",
     "output_type": "stream",
     "text": [
      "100%|██████████| 100000/100000 [00:28<00:00, 3517.18it/s]\n",
      "100%|██████████| 100000/100000 [00:06<00:00, 16293.55it/s]\n",
      "  0%|          | 422/100000 [00:00<00:23, 4214.61it/s]"
     ]
    },
    {
     "name": "stdout",
     "output_type": "stream",
     "text": [
      "-0.09709\n"
     ]
    },
    {
     "name": "stderr",
     "output_type": "stream",
     "text": [
      "100%|██████████| 100000/100000 [00:28<00:00, 3504.92it/s]\n",
      "100%|██████████| 100000/100000 [00:06<00:00, 16045.30it/s]\n",
      "  0%|          | 432/100000 [00:00<00:23, 4319.30it/s]"
     ]
    },
    {
     "name": "stdout",
     "output_type": "stream",
     "text": [
      "-0.093165\n"
     ]
    },
    {
     "name": "stderr",
     "output_type": "stream",
     "text": [
      "100%|██████████| 100000/100000 [00:28<00:00, 3570.65it/s]\n",
      "100%|██████████| 100000/100000 [00:06<00:00, 15883.79it/s]\n",
      "  0%|          | 433/100000 [00:00<00:23, 4324.07it/s]"
     ]
    },
    {
     "name": "stdout",
     "output_type": "stream",
     "text": [
      "-0.125555\n"
     ]
    },
    {
     "name": "stderr",
     "output_type": "stream",
     "text": [
      "100%|██████████| 100000/100000 [00:27<00:00, 3577.90it/s]\n",
      "100%|██████████| 100000/100000 [00:06<00:00, 16086.01it/s]\n",
      "  0%|          | 421/100000 [00:00<00:23, 4203.61it/s]"
     ]
    },
    {
     "name": "stdout",
     "output_type": "stream",
     "text": [
      "-0.12856\n"
     ]
    },
    {
     "name": "stderr",
     "output_type": "stream",
     "text": [
      "100%|██████████| 100000/100000 [00:28<00:00, 3567.28it/s]\n",
      "100%|██████████| 100000/100000 [00:06<00:00, 15995.58it/s]\n",
      "  0%|          | 434/100000 [00:00<00:22, 4331.39it/s]"
     ]
    },
    {
     "name": "stdout",
     "output_type": "stream",
     "text": [
      "-0.12654\n"
     ]
    },
    {
     "name": "stderr",
     "output_type": "stream",
     "text": [
      "100%|██████████| 100000/100000 [00:28<00:00, 3496.76it/s]\n",
      "100%|██████████| 100000/100000 [00:06<00:00, 16002.68it/s]\n",
      "  0%|          | 427/100000 [00:00<00:23, 4265.52it/s]"
     ]
    },
    {
     "name": "stdout",
     "output_type": "stream",
     "text": [
      "-0.112615\n"
     ]
    },
    {
     "name": "stderr",
     "output_type": "stream",
     "text": [
      "100%|██████████| 100000/100000 [00:28<00:00, 3545.68it/s]\n",
      "100%|██████████| 100000/100000 [00:06<00:00, 15944.08it/s]\n",
      "  0%|          | 421/100000 [00:00<00:23, 4205.65it/s]"
     ]
    },
    {
     "name": "stdout",
     "output_type": "stream",
     "text": [
      "-0.115675\n"
     ]
    },
    {
     "name": "stderr",
     "output_type": "stream",
     "text": [
      "100%|██████████| 100000/100000 [00:28<00:00, 3554.45it/s]\n",
      "100%|██████████| 100000/100000 [00:06<00:00, 15811.61it/s]\n",
      "  0%|          | 424/100000 [00:00<00:23, 4236.92it/s]"
     ]
    },
    {
     "name": "stdout",
     "output_type": "stream",
     "text": [
      "-0.1229\n"
     ]
    },
    {
     "name": "stderr",
     "output_type": "stream",
     "text": [
      "100%|██████████| 100000/100000 [00:28<00:00, 3514.46it/s]\n",
      "100%|██████████| 100000/100000 [00:06<00:00, 16073.68it/s]\n",
      "  0%|          | 427/100000 [00:00<00:23, 4264.76it/s]"
     ]
    },
    {
     "name": "stdout",
     "output_type": "stream",
     "text": [
      "-0.10248\n"
     ]
    },
    {
     "name": "stderr",
     "output_type": "stream",
     "text": [
      "100%|██████████| 100000/100000 [00:28<00:00, 3538.59it/s]\n",
      "100%|██████████| 100000/100000 [00:06<00:00, 15826.68it/s]\n",
      "  0%|          | 422/100000 [00:00<00:23, 4210.82it/s]"
     ]
    },
    {
     "name": "stdout",
     "output_type": "stream",
     "text": [
      "-0.105225\n"
     ]
    },
    {
     "name": "stderr",
     "output_type": "stream",
     "text": [
      "100%|██████████| 100000/100000 [00:28<00:00, 3564.52it/s]\n",
      "100%|██████████| 100000/100000 [00:06<00:00, 15992.65it/s]\n",
      "  0%|          | 423/100000 [00:00<00:23, 4221.13it/s]"
     ]
    },
    {
     "name": "stdout",
     "output_type": "stream",
     "text": [
      "-0.101435\n"
     ]
    },
    {
     "name": "stderr",
     "output_type": "stream",
     "text": [
      "100%|██████████| 100000/100000 [00:29<00:00, 3421.87it/s]\n",
      "100%|██████████| 100000/100000 [00:06<00:00, 16092.35it/s]\n",
      "  0%|          | 412/100000 [00:00<00:24, 4114.92it/s]"
     ]
    },
    {
     "name": "stdout",
     "output_type": "stream",
     "text": [
      "-0.09881\n"
     ]
    },
    {
     "name": "stderr",
     "output_type": "stream",
     "text": [
      "100%|██████████| 100000/100000 [00:28<00:00, 3542.91it/s]\n",
      "100%|██████████| 100000/100000 [00:06<00:00, 16178.24it/s]\n",
      "  0%|          | 431/100000 [00:00<00:23, 4301.78it/s]"
     ]
    },
    {
     "name": "stdout",
     "output_type": "stream",
     "text": [
      "-0.103405\n"
     ]
    },
    {
     "name": "stderr",
     "output_type": "stream",
     "text": [
      "100%|██████████| 100000/100000 [00:28<00:00, 3508.41it/s]\n",
      "100%|██████████| 100000/100000 [00:06<00:00, 15818.02it/s]\n",
      "  0%|          | 408/100000 [00:00<00:24, 4070.87it/s]"
     ]
    },
    {
     "name": "stdout",
     "output_type": "stream",
     "text": [
      "-0.103965\n"
     ]
    },
    {
     "name": "stderr",
     "output_type": "stream",
     "text": [
      "100%|██████████| 100000/100000 [00:28<00:00, 3498.42it/s]\n",
      "100%|██████████| 100000/100000 [00:06<00:00, 16043.09it/s]\n",
      "  0%|          | 425/100000 [00:00<00:23, 4248.53it/s]"
     ]
    },
    {
     "name": "stdout",
     "output_type": "stream",
     "text": [
      "-0.09982\n"
     ]
    },
    {
     "name": "stderr",
     "output_type": "stream",
     "text": [
      "100%|██████████| 100000/100000 [00:28<00:00, 3539.82it/s]\n",
      "100%|██████████| 100000/100000 [00:06<00:00, 16035.87it/s]\n",
      "  0%|          | 417/100000 [00:00<00:23, 4168.52it/s]"
     ]
    },
    {
     "name": "stdout",
     "output_type": "stream",
     "text": [
      "-0.0891\n"
     ]
    },
    {
     "name": "stderr",
     "output_type": "stream",
     "text": [
      "100%|██████████| 100000/100000 [00:28<00:00, 3529.91it/s]\n",
      "100%|██████████| 100000/100000 [00:06<00:00, 16133.86it/s]\n",
      "  0%|          | 422/100000 [00:00<00:23, 4219.35it/s]"
     ]
    },
    {
     "name": "stdout",
     "output_type": "stream",
     "text": [
      "-0.090105\n"
     ]
    },
    {
     "name": "stderr",
     "output_type": "stream",
     "text": [
      "100%|██████████| 100000/100000 [00:28<00:00, 3541.22it/s]\n",
      "100%|██████████| 100000/100000 [00:06<00:00, 16127.62it/s]\n",
      "  0%|          | 410/100000 [00:00<00:24, 4089.85it/s]"
     ]
    },
    {
     "name": "stdout",
     "output_type": "stream",
     "text": [
      "-0.092005\n"
     ]
    },
    {
     "name": "stderr",
     "output_type": "stream",
     "text": [
      "100%|██████████| 100000/100000 [00:28<00:00, 3519.73it/s]\n",
      "100%|██████████| 100000/100000 [00:06<00:00, 15935.65it/s]\n",
      "  0%|          | 421/100000 [00:00<00:23, 4209.73it/s]"
     ]
    },
    {
     "name": "stdout",
     "output_type": "stream",
     "text": [
      "-0.101125\n"
     ]
    },
    {
     "name": "stderr",
     "output_type": "stream",
     "text": [
      "100%|██████████| 100000/100000 [00:28<00:00, 3509.55it/s]\n",
      "100%|██████████| 100000/100000 [00:06<00:00, 16235.39it/s]\n",
      "  0%|          | 419/100000 [00:00<00:23, 4187.85it/s]"
     ]
    },
    {
     "name": "stdout",
     "output_type": "stream",
     "text": [
      "-0.09419\n"
     ]
    },
    {
     "name": "stderr",
     "output_type": "stream",
     "text": [
      "100%|██████████| 100000/100000 [00:28<00:00, 3505.23it/s]\n",
      "100%|██████████| 100000/100000 [00:06<00:00, 15710.43it/s]\n",
      "  0%|          | 422/100000 [00:00<00:23, 4211.53it/s]"
     ]
    },
    {
     "name": "stdout",
     "output_type": "stream",
     "text": [
      "-0.08501\n",
      "Best reward: -0.0850.\n",
      "alpha = 0.0080, epsilon = 0.6500, gamma = 0.05.\n"
     ]
    },
    {
     "name": "stderr",
     "output_type": "stream",
     "text": [
      "100%|██████████| 100000/100000 [00:28<00:00, 3478.44it/s]\n",
      "100%|██████████| 100000/100000 [00:06<00:00, 16211.85it/s]\n",
      "  0%|          | 412/100000 [00:00<00:24, 4115.87it/s]"
     ]
    },
    {
     "name": "stdout",
     "output_type": "stream",
     "text": [
      "-0.09831\n"
     ]
    },
    {
     "name": "stderr",
     "output_type": "stream",
     "text": [
      "100%|██████████| 100000/100000 [00:28<00:00, 3506.86it/s]\n",
      "100%|██████████| 100000/100000 [00:06<00:00, 16107.86it/s]\n",
      "  0%|          | 434/100000 [00:00<00:22, 4336.97it/s]"
     ]
    },
    {
     "name": "stdout",
     "output_type": "stream",
     "text": [
      "-0.089035\n"
     ]
    },
    {
     "name": "stderr",
     "output_type": "stream",
     "text": [
      "100%|██████████| 100000/100000 [00:27<00:00, 3576.93it/s]\n",
      "100%|██████████| 100000/100000 [00:06<00:00, 16078.69it/s]\n",
      "  0%|          | 437/100000 [00:00<00:22, 4361.99it/s]"
     ]
    },
    {
     "name": "stdout",
     "output_type": "stream",
     "text": [
      "-0.124545\n"
     ]
    },
    {
     "name": "stderr",
     "output_type": "stream",
     "text": [
      "100%|██████████| 100000/100000 [00:28<00:00, 3554.28it/s]\n",
      "100%|██████████| 100000/100000 [00:06<00:00, 15902.79it/s]\n",
      "  0%|          | 434/100000 [00:00<00:22, 4334.88it/s]"
     ]
    },
    {
     "name": "stdout",
     "output_type": "stream",
     "text": [
      "-0.115995\n"
     ]
    },
    {
     "name": "stderr",
     "output_type": "stream",
     "text": [
      "100%|██████████| 100000/100000 [00:28<00:00, 3569.38it/s]\n",
      "100%|██████████| 100000/100000 [00:06<00:00, 15928.83it/s]\n",
      "  0%|          | 421/100000 [00:00<00:23, 4202.12it/s]"
     ]
    },
    {
     "name": "stdout",
     "output_type": "stream",
     "text": [
      "-0.11954\n"
     ]
    },
    {
     "name": "stderr",
     "output_type": "stream",
     "text": [
      "100%|██████████| 100000/100000 [00:28<00:00, 3544.28it/s]\n",
      "100%|██████████| 100000/100000 [00:06<00:00, 15716.94it/s]\n",
      "  0%|          | 432/100000 [00:00<00:23, 4317.91it/s]"
     ]
    },
    {
     "name": "stdout",
     "output_type": "stream",
     "text": [
      "-0.123515\n"
     ]
    },
    {
     "name": "stderr",
     "output_type": "stream",
     "text": [
      "100%|██████████| 100000/100000 [00:27<00:00, 3579.49it/s]\n",
      "100%|██████████| 100000/100000 [00:06<00:00, 15944.80it/s]\n",
      "  0%|          | 431/100000 [00:00<00:23, 4306.23it/s]"
     ]
    },
    {
     "name": "stdout",
     "output_type": "stream",
     "text": [
      "-0.105735\n"
     ]
    },
    {
     "name": "stderr",
     "output_type": "stream",
     "text": [
      "100%|██████████| 100000/100000 [00:28<00:00, 3538.47it/s]\n",
      "100%|██████████| 100000/100000 [00:06<00:00, 15740.61it/s]\n",
      "  0%|          | 411/100000 [00:00<00:24, 4100.14it/s]"
     ]
    },
    {
     "name": "stdout",
     "output_type": "stream",
     "text": [
      "-0.116275\n"
     ]
    },
    {
     "name": "stderr",
     "output_type": "stream",
     "text": [
      "100%|██████████| 100000/100000 [00:28<00:00, 3543.42it/s]\n",
      "100%|██████████| 100000/100000 [00:06<00:00, 15846.41it/s]\n",
      "  0%|          | 425/100000 [00:00<00:23, 4248.36it/s]"
     ]
    },
    {
     "name": "stdout",
     "output_type": "stream",
     "text": [
      "-0.106735\n"
     ]
    },
    {
     "name": "stderr",
     "output_type": "stream",
     "text": [
      "100%|██████████| 100000/100000 [00:28<00:00, 3540.59it/s]\n",
      "100%|██████████| 100000/100000 [00:06<00:00, 15985.24it/s]\n",
      "  1%|          | 858/100000 [00:00<00:23, 4279.46it/s]"
     ]
    },
    {
     "name": "stdout",
     "output_type": "stream",
     "text": [
      "-0.105655\n"
     ]
    },
    {
     "name": "stderr",
     "output_type": "stream",
     "text": [
      "100%|██████████| 100000/100000 [00:28<00:00, 3499.70it/s]\n",
      "100%|██████████| 100000/100000 [00:06<00:00, 15943.65it/s]\n",
      "  0%|          | 411/100000 [00:00<00:24, 4109.15it/s]"
     ]
    },
    {
     "name": "stdout",
     "output_type": "stream",
     "text": [
      "-0.096895\n"
     ]
    },
    {
     "name": "stderr",
     "output_type": "stream",
     "text": [
      "100%|██████████| 100000/100000 [00:28<00:00, 3516.97it/s]\n",
      "100%|██████████| 100000/100000 [00:06<00:00, 15860.72it/s]\n",
      "  0%|          | 415/100000 [00:00<00:24, 4139.71it/s]"
     ]
    },
    {
     "name": "stdout",
     "output_type": "stream",
     "text": [
      "-0.09922\n"
     ]
    },
    {
     "name": "stderr",
     "output_type": "stream",
     "text": [
      "100%|██████████| 100000/100000 [00:28<00:00, 3518.72it/s]\n",
      "100%|██████████| 100000/100000 [00:06<00:00, 16164.49it/s]\n",
      "  0%|          | 424/100000 [00:00<00:23, 4235.89it/s]"
     ]
    },
    {
     "name": "stdout",
     "output_type": "stream",
     "text": [
      "-0.087785\n"
     ]
    },
    {
     "name": "stderr",
     "output_type": "stream",
     "text": [
      "100%|██████████| 100000/100000 [00:28<00:00, 3544.81it/s]\n",
      "100%|██████████| 100000/100000 [00:06<00:00, 15907.73it/s]\n",
      "  0%|          | 416/100000 [00:00<00:23, 4151.44it/s]"
     ]
    },
    {
     "name": "stdout",
     "output_type": "stream",
     "text": [
      "-0.09997\n"
     ]
    },
    {
     "name": "stderr",
     "output_type": "stream",
     "text": [
      "100%|██████████| 100000/100000 [00:28<00:00, 3550.48it/s]\n",
      "100%|██████████| 100000/100000 [00:06<00:00, 16022.49it/s]\n",
      "  0%|          | 421/100000 [00:00<00:23, 4205.23it/s]"
     ]
    },
    {
     "name": "stdout",
     "output_type": "stream",
     "text": [
      "-0.09165\n"
     ]
    },
    {
     "name": "stderr",
     "output_type": "stream",
     "text": [
      "100%|██████████| 100000/100000 [00:28<00:00, 3515.56it/s]\n",
      "100%|██████████| 100000/100000 [00:06<00:00, 15973.53it/s]\n",
      "  0%|          | 425/100000 [00:00<00:23, 4245.21it/s]"
     ]
    },
    {
     "name": "stdout",
     "output_type": "stream",
     "text": [
      "-0.095305\n"
     ]
    },
    {
     "name": "stderr",
     "output_type": "stream",
     "text": [
      "100%|██████████| 100000/100000 [00:28<00:00, 3518.49it/s]\n",
      "100%|██████████| 100000/100000 [00:06<00:00, 16066.70it/s]\n",
      "  0%|          | 428/100000 [00:00<00:23, 4278.14it/s]"
     ]
    },
    {
     "name": "stdout",
     "output_type": "stream",
     "text": [
      "-0.087105\n"
     ]
    },
    {
     "name": "stderr",
     "output_type": "stream",
     "text": [
      "100%|██████████| 100000/100000 [00:28<00:00, 3517.90it/s]\n",
      "100%|██████████| 100000/100000 [00:06<00:00, 16020.39it/s]\n",
      "  0%|          | 425/100000 [00:00<00:23, 4242.68it/s]"
     ]
    },
    {
     "name": "stdout",
     "output_type": "stream",
     "text": [
      "-0.089165\n"
     ]
    },
    {
     "name": "stderr",
     "output_type": "stream",
     "text": [
      "100%|██████████| 100000/100000 [00:28<00:00, 3511.22it/s]\n",
      "100%|██████████| 100000/100000 [00:06<00:00, 15882.05it/s]\n",
      "  0%|          | 388/100000 [00:00<00:25, 3875.72it/s]"
     ]
    },
    {
     "name": "stdout",
     "output_type": "stream",
     "text": [
      "-0.084305\n",
      "Best reward: -0.0843.\n",
      "alpha = 0.0100, epsilon = 0.5500, gamma = 0.20.\n"
     ]
    },
    {
     "name": "stderr",
     "output_type": "stream",
     "text": [
      "100%|██████████| 100000/100000 [00:28<00:00, 3502.64it/s]\n",
      "100%|██████████| 100000/100000 [00:06<00:00, 16065.62it/s]\n",
      "  0%|          | 418/100000 [00:00<00:23, 4174.31it/s]"
     ]
    },
    {
     "name": "stdout",
     "output_type": "stream",
     "text": [
      "-0.090815\n"
     ]
    },
    {
     "name": "stderr",
     "output_type": "stream",
     "text": [
      "100%|██████████| 100000/100000 [00:28<00:00, 3531.63it/s]\n",
      "100%|██████████| 100000/100000 [00:06<00:00, 16324.44it/s]\n",
      "  0%|          | 426/100000 [00:00<00:23, 4254.86it/s]"
     ]
    },
    {
     "name": "stdout",
     "output_type": "stream",
     "text": [
      "-0.09612\n"
     ]
    },
    {
     "name": "stderr",
     "output_type": "stream",
     "text": [
      "100%|██████████| 100000/100000 [00:28<00:00, 3496.25it/s]\n",
      "100%|██████████| 100000/100000 [00:06<00:00, 16015.63it/s]\n",
      "  0%|          | 421/100000 [00:00<00:23, 4207.12it/s]"
     ]
    },
    {
     "name": "stdout",
     "output_type": "stream",
     "text": [
      "-0.082405\n",
      "Best reward: -0.0824.\n",
      "alpha = 0.0100, epsilon = 0.6500, gamma = 0.20.\n"
     ]
    },
    {
     "name": "stderr",
     "output_type": "stream",
     "text": [
      "100%|██████████| 100000/100000 [00:28<00:00, 3524.26it/s]\n",
      "100%|██████████| 100000/100000 [00:06<00:00, 16131.25it/s]\n",
      "  0%|          | 437/100000 [00:00<00:22, 4362.16it/s]"
     ]
    },
    {
     "name": "stdout",
     "output_type": "stream",
     "text": [
      "-0.090715\n"
     ]
    },
    {
     "name": "stderr",
     "output_type": "stream",
     "text": [
      "100%|██████████| 100000/100000 [00:27<00:00, 3575.95it/s]\n",
      "100%|██████████| 100000/100000 [00:06<00:00, 16297.59it/s]\n",
      "  0%|          | 437/100000 [00:00<00:22, 4369.00it/s]"
     ]
    },
    {
     "name": "stdout",
     "output_type": "stream",
     "text": [
      "-0.12517\n"
     ]
    },
    {
     "name": "stderr",
     "output_type": "stream",
     "text": [
      "100%|██████████| 100000/100000 [00:27<00:00, 3600.74it/s]\n",
      "100%|██████████| 100000/100000 [00:06<00:00, 15966.97it/s]\n",
      "  0%|          | 435/100000 [00:00<00:22, 4342.40it/s]"
     ]
    },
    {
     "name": "stdout",
     "output_type": "stream",
     "text": [
      "-0.11996\n"
     ]
    },
    {
     "name": "stderr",
     "output_type": "stream",
     "text": [
      "100%|██████████| 100000/100000 [00:28<00:00, 3465.07it/s]\n",
      "100%|██████████| 100000/100000 [00:06<00:00, 16017.17it/s]\n",
      "  0%|          | 416/100000 [00:00<00:23, 4155.76it/s]"
     ]
    },
    {
     "name": "stdout",
     "output_type": "stream",
     "text": [
      "-0.115055\n"
     ]
    },
    {
     "name": "stderr",
     "output_type": "stream",
     "text": [
      "100%|██████████| 100000/100000 [00:28<00:00, 3555.35it/s]\n",
      "100%|██████████| 100000/100000 [00:06<00:00, 16134.28it/s]\n",
      "  0%|          | 431/100000 [00:00<00:23, 4305.06it/s]"
     ]
    },
    {
     "name": "stdout",
     "output_type": "stream",
     "text": [
      "-0.12104\n"
     ]
    },
    {
     "name": "stderr",
     "output_type": "stream",
     "text": [
      "100%|██████████| 100000/100000 [00:28<00:00, 3562.22it/s]\n",
      "100%|██████████| 100000/100000 [00:06<00:00, 16095.20it/s]\n",
      "  0%|          | 434/100000 [00:00<00:22, 4331.98it/s]"
     ]
    },
    {
     "name": "stdout",
     "output_type": "stream",
     "text": [
      "-0.102415\n"
     ]
    },
    {
     "name": "stderr",
     "output_type": "stream",
     "text": [
      "100%|██████████| 100000/100000 [00:28<00:00, 3553.07it/s]\n",
      "100%|██████████| 100000/100000 [00:06<00:00, 15767.62it/s]\n",
      "  0%|          | 417/100000 [00:00<00:23, 4162.08it/s]"
     ]
    },
    {
     "name": "stdout",
     "output_type": "stream",
     "text": [
      "-0.118775\n"
     ]
    },
    {
     "name": "stderr",
     "output_type": "stream",
     "text": [
      "100%|██████████| 100000/100000 [00:28<00:00, 3530.64it/s]\n",
      "100%|██████████| 100000/100000 [00:06<00:00, 15711.18it/s]\n",
      "  0%|          | 428/100000 [00:00<00:23, 4270.11it/s]"
     ]
    },
    {
     "name": "stdout",
     "output_type": "stream",
     "text": [
      "-0.10354\n"
     ]
    },
    {
     "name": "stderr",
     "output_type": "stream",
     "text": [
      "100%|██████████| 100000/100000 [00:28<00:00, 3489.95it/s]\n",
      "100%|██████████| 100000/100000 [00:06<00:00, 16015.43it/s]\n",
      "  0%|          | 348/100000 [00:00<00:28, 3471.68it/s]"
     ]
    },
    {
     "name": "stdout",
     "output_type": "stream",
     "text": [
      "-0.11286\n"
     ]
    },
    {
     "name": "stderr",
     "output_type": "stream",
     "text": [
      "100%|██████████| 100000/100000 [00:28<00:00, 3491.47it/s]\n",
      "100%|██████████| 100000/100000 [00:06<00:00, 15837.28it/s]\n",
      "  0%|          | 423/100000 [00:00<00:23, 4224.89it/s]"
     ]
    },
    {
     "name": "stdout",
     "output_type": "stream",
     "text": [
      "-0.107555\n"
     ]
    },
    {
     "name": "stderr",
     "output_type": "stream",
     "text": [
      "100%|██████████| 100000/100000 [00:28<00:00, 3530.36it/s]\n",
      "100%|██████████| 100000/100000 [00:06<00:00, 15977.21it/s]\n",
      "  0%|          | 428/100000 [00:00<00:23, 4273.14it/s]"
     ]
    },
    {
     "name": "stdout",
     "output_type": "stream",
     "text": [
      "-0.10069\n"
     ]
    },
    {
     "name": "stderr",
     "output_type": "stream",
     "text": [
      "100%|██████████| 100000/100000 [00:28<00:00, 3558.01it/s]\n",
      "100%|██████████| 100000/100000 [00:06<00:00, 15899.31it/s]\n",
      "  0%|          | 426/100000 [00:00<00:23, 4258.90it/s]"
     ]
    },
    {
     "name": "stdout",
     "output_type": "stream",
     "text": [
      "-0.098845\n"
     ]
    },
    {
     "name": "stderr",
     "output_type": "stream",
     "text": [
      "100%|██████████| 100000/100000 [00:28<00:00, 3537.63it/s]\n",
      "100%|██████████| 100000/100000 [00:06<00:00, 15926.09it/s]\n",
      "  0%|          | 426/100000 [00:00<00:23, 4255.07it/s]"
     ]
    },
    {
     "name": "stdout",
     "output_type": "stream",
     "text": [
      "-0.113085\n"
     ]
    },
    {
     "name": "stderr",
     "output_type": "stream",
     "text": [
      "100%|██████████| 100000/100000 [00:28<00:00, 3510.50it/s]\n",
      "100%|██████████| 100000/100000 [00:06<00:00, 15974.04it/s]\n",
      "  0%|          | 397/100000 [00:00<00:25, 3965.67it/s]"
     ]
    },
    {
     "name": "stdout",
     "output_type": "stream",
     "text": [
      "-0.085265\n"
     ]
    },
    {
     "name": "stderr",
     "output_type": "stream",
     "text": [
      "100%|██████████| 100000/100000 [00:28<00:00, 3503.63it/s]\n",
      "100%|██████████| 100000/100000 [00:06<00:00, 16089.55it/s]\n",
      "  0%|          | 427/100000 [00:00<00:23, 4265.94it/s]"
     ]
    },
    {
     "name": "stdout",
     "output_type": "stream",
     "text": [
      "-0.09476\n"
     ]
    },
    {
     "name": "stderr",
     "output_type": "stream",
     "text": [
      "100%|██████████| 100000/100000 [00:28<00:00, 3530.06it/s]\n",
      "100%|██████████| 100000/100000 [00:06<00:00, 15654.32it/s]\n",
      "  0%|          | 414/100000 [00:00<00:24, 4134.00it/s]"
     ]
    },
    {
     "name": "stdout",
     "output_type": "stream",
     "text": [
      "-0.10655\n"
     ]
    },
    {
     "name": "stderr",
     "output_type": "stream",
     "text": [
      "100%|██████████| 100000/100000 [00:28<00:00, 3488.06it/s]\n",
      "100%|██████████| 100000/100000 [00:06<00:00, 15720.30it/s]\n",
      "  0%|          | 404/100000 [00:00<00:24, 4039.75it/s]"
     ]
    },
    {
     "name": "stdout",
     "output_type": "stream",
     "text": [
      "-0.093955\n"
     ]
    },
    {
     "name": "stderr",
     "output_type": "stream",
     "text": [
      "100%|██████████| 100000/100000 [00:28<00:00, 3476.55it/s]\n",
      "100%|██████████| 100000/100000 [00:06<00:00, 15882.78it/s]\n",
      "  0%|          | 419/100000 [00:00<00:23, 4184.55it/s]"
     ]
    },
    {
     "name": "stdout",
     "output_type": "stream",
     "text": [
      "-0.09187\n"
     ]
    },
    {
     "name": "stderr",
     "output_type": "stream",
     "text": [
      "100%|██████████| 100000/100000 [00:28<00:00, 3517.05it/s]\n",
      "100%|██████████| 100000/100000 [00:06<00:00, 16027.01it/s]\n",
      "  0%|          | 421/100000 [00:00<00:23, 4203.64it/s]"
     ]
    },
    {
     "name": "stdout",
     "output_type": "stream",
     "text": [
      "-0.095915\n"
     ]
    },
    {
     "name": "stderr",
     "output_type": "stream",
     "text": [
      "100%|██████████| 100000/100000 [00:28<00:00, 3507.69it/s]\n",
      "100%|██████████| 100000/100000 [00:06<00:00, 16107.99it/s]\n",
      "  0%|          | 411/100000 [00:00<00:24, 4109.69it/s]"
     ]
    },
    {
     "name": "stdout",
     "output_type": "stream",
     "text": [
      "-0.083305\n"
     ]
    },
    {
     "name": "stderr",
     "output_type": "stream",
     "text": [
      "100%|██████████| 100000/100000 [00:28<00:00, 3529.24it/s]\n",
      "100%|██████████| 100000/100000 [00:06<00:00, 16013.60it/s]\n",
      "  0%|          | 420/100000 [00:00<00:23, 4194.25it/s]"
     ]
    },
    {
     "name": "stdout",
     "output_type": "stream",
     "text": [
      "-0.087565\n"
     ]
    },
    {
     "name": "stderr",
     "output_type": "stream",
     "text": [
      "100%|██████████| 100000/100000 [00:28<00:00, 3525.01it/s]\n",
      "100%|██████████| 100000/100000 [00:06<00:00, 15789.51it/s]\n",
      "  0%|          | 436/100000 [00:00<00:22, 4359.48it/s]"
     ]
    },
    {
     "name": "stdout",
     "output_type": "stream",
     "text": [
      "-0.087365\n"
     ]
    },
    {
     "name": "stderr",
     "output_type": "stream",
     "text": [
      "100%|██████████| 100000/100000 [00:27<00:00, 3575.10it/s]\n",
      "100%|██████████| 100000/100000 [00:06<00:00, 15932.49it/s]\n",
      "  0%|          | 434/100000 [00:00<00:22, 4337.88it/s]"
     ]
    },
    {
     "name": "stdout",
     "output_type": "stream",
     "text": [
      "-0.113285\n"
     ]
    },
    {
     "name": "stderr",
     "output_type": "stream",
     "text": [
      "100%|██████████| 100000/100000 [00:27<00:00, 3582.82it/s]\n",
      "100%|██████████| 100000/100000 [00:06<00:00, 15952.27it/s]\n",
      "  0%|          | 429/100000 [00:00<00:23, 4283.76it/s]"
     ]
    },
    {
     "name": "stdout",
     "output_type": "stream",
     "text": [
      "-0.105175\n"
     ]
    },
    {
     "name": "stderr",
     "output_type": "stream",
     "text": [
      "100%|██████████| 100000/100000 [00:28<00:00, 3551.18it/s]\n",
      "100%|██████████| 100000/100000 [00:06<00:00, 15832.38it/s]\n",
      "  0%|          | 437/100000 [00:00<00:22, 4367.80it/s]"
     ]
    },
    {
     "name": "stdout",
     "output_type": "stream",
     "text": [
      "-0.12604\n"
     ]
    },
    {
     "name": "stderr",
     "output_type": "stream",
     "text": [
      "100%|██████████| 100000/100000 [00:28<00:00, 3552.29it/s]\n",
      "100%|██████████| 100000/100000 [00:06<00:00, 16060.63it/s]\n",
      "  0%|          | 431/100000 [00:00<00:23, 4304.81it/s]"
     ]
    },
    {
     "name": "stdout",
     "output_type": "stream",
     "text": [
      "-0.101645\n"
     ]
    },
    {
     "name": "stderr",
     "output_type": "stream",
     "text": [
      "100%|██████████| 100000/100000 [00:28<00:00, 3551.11it/s]\n",
      "100%|██████████| 100000/100000 [00:06<00:00, 15965.55it/s]\n",
      "  0%|          | 429/100000 [00:00<00:23, 4272.77it/s]"
     ]
    },
    {
     "name": "stdout",
     "output_type": "stream",
     "text": [
      "-0.108825\n"
     ]
    },
    {
     "name": "stderr",
     "output_type": "stream",
     "text": [
      "100%|██████████| 100000/100000 [00:28<00:00, 3565.24it/s]\n",
      "100%|██████████| 100000/100000 [00:06<00:00, 16042.94it/s]\n",
      "  0%|          | 432/100000 [00:00<00:23, 4310.42it/s]"
     ]
    },
    {
     "name": "stdout",
     "output_type": "stream",
     "text": [
      "-0.108195\n"
     ]
    },
    {
     "name": "stderr",
     "output_type": "stream",
     "text": [
      "100%|██████████| 100000/100000 [00:28<00:00, 3562.76it/s]\n",
      "100%|██████████| 100000/100000 [00:06<00:00, 15655.64it/s]\n",
      "  0%|          | 430/100000 [00:00<00:23, 4289.83it/s]"
     ]
    },
    {
     "name": "stdout",
     "output_type": "stream",
     "text": [
      "-0.09438\n"
     ]
    },
    {
     "name": "stderr",
     "output_type": "stream",
     "text": [
      "100%|██████████| 100000/100000 [00:28<00:00, 3526.61it/s]\n",
      "100%|██████████| 100000/100000 [00:06<00:00, 15680.13it/s]\n",
      "  0%|          | 428/100000 [00:00<00:23, 4270.28it/s]"
     ]
    },
    {
     "name": "stdout",
     "output_type": "stream",
     "text": [
      "-0.108775\n"
     ]
    },
    {
     "name": "stderr",
     "output_type": "stream",
     "text": [
      "100%|██████████| 100000/100000 [00:28<00:00, 3544.40it/s]\n",
      "100%|██████████| 100000/100000 [00:06<00:00, 16119.52it/s]\n",
      "  0%|          | 426/100000 [00:00<00:23, 4249.95it/s]"
     ]
    },
    {
     "name": "stdout",
     "output_type": "stream",
     "text": [
      "-0.10335\n"
     ]
    },
    {
     "name": "stderr",
     "output_type": "stream",
     "text": [
      "100%|██████████| 100000/100000 [00:28<00:00, 3550.38it/s]\n",
      "100%|██████████| 100000/100000 [00:06<00:00, 15976.39it/s]\n",
      "  0%|          | 426/100000 [00:00<00:23, 4254.97it/s]"
     ]
    },
    {
     "name": "stdout",
     "output_type": "stream",
     "text": [
      "-0.103935\n"
     ]
    },
    {
     "name": "stderr",
     "output_type": "stream",
     "text": [
      "100%|██████████| 100000/100000 [00:28<00:00, 3517.87it/s]\n",
      "100%|██████████| 100000/100000 [00:06<00:00, 16162.90it/s]\n",
      "  0%|          | 428/100000 [00:00<00:23, 4276.26it/s]"
     ]
    },
    {
     "name": "stdout",
     "output_type": "stream",
     "text": [
      "-0.089325\n"
     ]
    },
    {
     "name": "stderr",
     "output_type": "stream",
     "text": [
      "100%|██████████| 100000/100000 [00:28<00:00, 3514.49it/s]\n",
      "100%|██████████| 100000/100000 [00:06<00:00, 16036.18it/s]\n",
      "  0%|          | 427/100000 [00:00<00:23, 4262.20it/s]"
     ]
    },
    {
     "name": "stdout",
     "output_type": "stream",
     "text": [
      "-0.103125\n"
     ]
    },
    {
     "name": "stderr",
     "output_type": "stream",
     "text": [
      "100%|██████████| 100000/100000 [00:28<00:00, 3547.56it/s]\n",
      "100%|██████████| 100000/100000 [00:06<00:00, 16231.49it/s]\n",
      "  0%|          | 420/100000 [00:00<00:23, 4193.69it/s]"
     ]
    },
    {
     "name": "stdout",
     "output_type": "stream",
     "text": [
      "-0.09469\n"
     ]
    },
    {
     "name": "stderr",
     "output_type": "stream",
     "text": [
      "100%|██████████| 100000/100000 [00:28<00:00, 3534.35it/s]\n",
      "100%|██████████| 100000/100000 [00:06<00:00, 16071.10it/s]\n",
      "  0%|          | 413/100000 [00:00<00:24, 4120.41it/s]"
     ]
    },
    {
     "name": "stdout",
     "output_type": "stream",
     "text": [
      "-0.08543\n"
     ]
    },
    {
     "name": "stderr",
     "output_type": "stream",
     "text": [
      "100%|██████████| 100000/100000 [00:28<00:00, 3547.10it/s]\n",
      "100%|██████████| 100000/100000 [00:06<00:00, 16202.55it/s]\n",
      "  0%|          | 423/100000 [00:00<00:23, 4221.64it/s]"
     ]
    },
    {
     "name": "stdout",
     "output_type": "stream",
     "text": [
      "-0.08649\n"
     ]
    },
    {
     "name": "stderr",
     "output_type": "stream",
     "text": [
      "100%|██████████| 100000/100000 [00:28<00:00, 3539.61it/s]\n",
      "100%|██████████| 100000/100000 [00:06<00:00, 15982.37it/s]\n",
      "  0%|          | 422/100000 [00:00<00:23, 4214.72it/s]"
     ]
    },
    {
     "name": "stdout",
     "output_type": "stream",
     "text": [
      "-0.090305\n"
     ]
    },
    {
     "name": "stderr",
     "output_type": "stream",
     "text": [
      "100%|██████████| 100000/100000 [00:28<00:00, 3528.76it/s]\n",
      "100%|██████████| 100000/100000 [00:06<00:00, 15832.53it/s]\n",
      "  0%|          | 400/100000 [00:00<00:24, 3997.68it/s]"
     ]
    },
    {
     "name": "stdout",
     "output_type": "stream",
     "text": [
      "-0.08229\n",
      "Best reward: -0.0823.\n",
      "alpha = 0.0140, epsilon = 0.5500, gamma = 0.20.\n"
     ]
    },
    {
     "name": "stderr",
     "output_type": "stream",
     "text": [
      "100%|██████████| 100000/100000 [00:28<00:00, 3514.30it/s]\n",
      "100%|██████████| 100000/100000 [00:06<00:00, 15967.46it/s]\n",
      "  0%|          | 417/100000 [00:00<00:23, 4169.83it/s]"
     ]
    },
    {
     "name": "stdout",
     "output_type": "stream",
     "text": [
      "-0.085465\n"
     ]
    },
    {
     "name": "stderr",
     "output_type": "stream",
     "text": [
      "100%|██████████| 100000/100000 [00:28<00:00, 3528.49it/s]\n",
      "100%|██████████| 100000/100000 [00:06<00:00, 15876.90it/s]\n",
      "  0%|          | 420/100000 [00:00<00:23, 4195.19it/s]"
     ]
    },
    {
     "name": "stdout",
     "output_type": "stream",
     "text": [
      "-0.08645\n"
     ]
    },
    {
     "name": "stderr",
     "output_type": "stream",
     "text": [
      "100%|██████████| 100000/100000 [00:28<00:00, 3521.43it/s]\n",
      "100%|██████████| 100000/100000 [00:06<00:00, 16147.08it/s]\n",
      "  0%|          | 420/100000 [00:00<00:23, 4190.29it/s]"
     ]
    },
    {
     "name": "stdout",
     "output_type": "stream",
     "text": [
      "-0.09026\n"
     ]
    },
    {
     "name": "stderr",
     "output_type": "stream",
     "text": [
      "100%|██████████| 100000/100000 [00:28<00:00, 3506.72it/s]\n",
      "100%|██████████| 100000/100000 [00:06<00:00, 15965.56it/s]\n",
      "  0%|          | 410/100000 [00:00<00:24, 4089.49it/s]"
     ]
    },
    {
     "name": "stdout",
     "output_type": "stream",
     "text": [
      "-0.092035\n"
     ]
    },
    {
     "name": "stderr",
     "output_type": "stream",
     "text": [
      "100%|██████████| 100000/100000 [00:28<00:00, 3549.56it/s]\n",
      "100%|██████████| 100000/100000 [00:06<00:00, 15946.26it/s]\n",
      "  0%|          | 429/100000 [00:00<00:23, 4288.09it/s]"
     ]
    },
    {
     "name": "stdout",
     "output_type": "stream",
     "text": [
      "-0.119445\n"
     ]
    },
    {
     "name": "stderr",
     "output_type": "stream",
     "text": [
      "100%|██████████| 100000/100000 [00:27<00:00, 3576.94it/s]\n",
      "100%|██████████| 100000/100000 [00:06<00:00, 15903.46it/s]\n",
      "  0%|          | 437/100000 [00:00<00:22, 4366.90it/s]"
     ]
    },
    {
     "name": "stdout",
     "output_type": "stream",
     "text": [
      "-0.11176\n"
     ]
    },
    {
     "name": "stderr",
     "output_type": "stream",
     "text": [
      "100%|██████████| 100000/100000 [00:28<00:00, 3566.44it/s]\n",
      "100%|██████████| 100000/100000 [00:06<00:00, 15929.00it/s]\n",
      "  0%|          | 431/100000 [00:00<00:23, 4309.03it/s]"
     ]
    },
    {
     "name": "stdout",
     "output_type": "stream",
     "text": [
      "-0.120535\n"
     ]
    },
    {
     "name": "stderr",
     "output_type": "stream",
     "text": [
      "100%|██████████| 100000/100000 [00:28<00:00, 3570.55it/s]\n",
      "100%|██████████| 100000/100000 [00:06<00:00, 15554.95it/s]\n",
      "  0%|          | 420/100000 [00:00<00:23, 4194.87it/s]"
     ]
    },
    {
     "name": "stdout",
     "output_type": "stream",
     "text": [
      "-0.10684\n"
     ]
    },
    {
     "name": "stderr",
     "output_type": "stream",
     "text": [
      "100%|██████████| 100000/100000 [00:28<00:00, 3533.63it/s]\n",
      "100%|██████████| 100000/100000 [00:06<00:00, 15966.05it/s]\n",
      "  0%|          | 431/100000 [00:00<00:23, 4309.50it/s]"
     ]
    },
    {
     "name": "stdout",
     "output_type": "stream",
     "text": [
      "-0.10772\n"
     ]
    },
    {
     "name": "stderr",
     "output_type": "stream",
     "text": [
      "100%|██████████| 100000/100000 [00:28<00:00, 3551.07it/s]\n",
      "100%|██████████| 100000/100000 [00:06<00:00, 15477.01it/s]\n",
      "  0%|          | 422/100000 [00:00<00:23, 4215.94it/s]"
     ]
    },
    {
     "name": "stdout",
     "output_type": "stream",
     "text": [
      "-0.103395\n"
     ]
    },
    {
     "name": "stderr",
     "output_type": "stream",
     "text": [
      "100%|██████████| 100000/100000 [00:28<00:00, 3506.48it/s]\n",
      "100%|██████████| 100000/100000 [00:06<00:00, 15788.06it/s]\n",
      "  0%|          | 420/100000 [00:00<00:23, 4190.06it/s]"
     ]
    },
    {
     "name": "stdout",
     "output_type": "stream",
     "text": [
      "-0.094285\n"
     ]
    },
    {
     "name": "stderr",
     "output_type": "stream",
     "text": [
      "100%|██████████| 100000/100000 [00:28<00:00, 3565.47it/s]\n",
      "100%|██████████| 100000/100000 [00:06<00:00, 16123.03it/s]\n",
      "  0%|          | 432/100000 [00:00<00:23, 4317.34it/s]"
     ]
    },
    {
     "name": "stdout",
     "output_type": "stream",
     "text": [
      "-0.102005\n"
     ]
    },
    {
     "name": "stderr",
     "output_type": "stream",
     "text": [
      "100%|██████████| 100000/100000 [00:28<00:00, 3555.28it/s]\n",
      "100%|██████████| 100000/100000 [00:06<00:00, 15821.14it/s]\n",
      "  0%|          | 425/100000 [00:00<00:23, 4249.85it/s]"
     ]
    },
    {
     "name": "stdout",
     "output_type": "stream",
     "text": [
      "-0.094535\n"
     ]
    },
    {
     "name": "stderr",
     "output_type": "stream",
     "text": [
      "100%|██████████| 100000/100000 [00:28<00:00, 3564.64it/s]\n",
      "100%|██████████| 100000/100000 [00:06<00:00, 16013.62it/s]\n",
      "  0%|          | 425/100000 [00:00<00:23, 4248.95it/s]"
     ]
    },
    {
     "name": "stdout",
     "output_type": "stream",
     "text": [
      "-0.088705\n"
     ]
    },
    {
     "name": "stderr",
     "output_type": "stream",
     "text": [
      "100%|██████████| 100000/100000 [00:28<00:00, 3550.10it/s]\n",
      "100%|██████████| 100000/100000 [00:06<00:00, 15951.98it/s]\n",
      "  0%|          | 429/100000 [00:00<00:23, 4285.15it/s]"
     ]
    },
    {
     "name": "stdout",
     "output_type": "stream",
     "text": [
      "-0.087585\n"
     ]
    },
    {
     "name": "stderr",
     "output_type": "stream",
     "text": [
      "100%|██████████| 100000/100000 [00:28<00:00, 3535.40it/s]\n",
      "100%|██████████| 100000/100000 [00:06<00:00, 16109.20it/s]\n",
      "  0%|          | 417/100000 [00:00<00:23, 4162.36it/s]"
     ]
    },
    {
     "name": "stdout",
     "output_type": "stream",
     "text": [
      "-0.100185\n"
     ]
    },
    {
     "name": "stderr",
     "output_type": "stream",
     "text": [
      "100%|██████████| 100000/100000 [00:28<00:00, 3546.64it/s]\n",
      "100%|██████████| 100000/100000 [00:06<00:00, 15959.18it/s]\n",
      "  0%|          | 424/100000 [00:00<00:23, 4233.09it/s]"
     ]
    },
    {
     "name": "stdout",
     "output_type": "stream",
     "text": [
      "-0.08892\n"
     ]
    },
    {
     "name": "stderr",
     "output_type": "stream",
     "text": [
      "100%|██████████| 100000/100000 [00:28<00:00, 3535.93it/s]\n",
      "100%|██████████| 100000/100000 [00:06<00:00, 16007.47it/s]\n",
      "  0%|          | 422/100000 [00:00<00:23, 4217.08it/s]"
     ]
    },
    {
     "name": "stdout",
     "output_type": "stream",
     "text": [
      "-0.089745\n"
     ]
    },
    {
     "name": "stderr",
     "output_type": "stream",
     "text": [
      "100%|██████████| 100000/100000 [00:28<00:00, 3532.87it/s]\n",
      "100%|██████████| 100000/100000 [00:06<00:00, 15894.17it/s]\n",
      "  0%|          | 419/100000 [00:00<00:23, 4183.07it/s]"
     ]
    },
    {
     "name": "stdout",
     "output_type": "stream",
     "text": [
      "-0.10297\n"
     ]
    },
    {
     "name": "stderr",
     "output_type": "stream",
     "text": [
      "100%|██████████| 100000/100000 [00:28<00:00, 3517.70it/s]\n",
      "100%|██████████| 100000/100000 [00:06<00:00, 15997.11it/s]\n",
      "  0%|          | 421/100000 [00:00<00:23, 4200.30it/s]"
     ]
    },
    {
     "name": "stdout",
     "output_type": "stream",
     "text": [
      "-0.09009\n"
     ]
    },
    {
     "name": "stderr",
     "output_type": "stream",
     "text": [
      "100%|██████████| 100000/100000 [00:28<00:00, 3528.91it/s]\n",
      "100%|██████████| 100000/100000 [00:06<00:00, 16102.15it/s]\n",
      "  0%|          | 414/100000 [00:00<00:24, 4134.39it/s]"
     ]
    },
    {
     "name": "stdout",
     "output_type": "stream",
     "text": [
      "-0.091285\n"
     ]
    },
    {
     "name": "stderr",
     "output_type": "stream",
     "text": [
      "100%|██████████| 100000/100000 [00:28<00:00, 3531.61it/s]\n",
      "100%|██████████| 100000/100000 [00:06<00:00, 16075.70it/s]\n",
      "  0%|          | 420/100000 [00:00<00:23, 4194.55it/s]"
     ]
    },
    {
     "name": "stdout",
     "output_type": "stream",
     "text": [
      "-0.099235\n"
     ]
    },
    {
     "name": "stderr",
     "output_type": "stream",
     "text": [
      "100%|██████████| 100000/100000 [00:28<00:00, 3508.84it/s]\n",
      "100%|██████████| 100000/100000 [00:06<00:00, 15900.73it/s]\n",
      "  0%|          | 423/100000 [00:00<00:23, 4224.48it/s]"
     ]
    },
    {
     "name": "stdout",
     "output_type": "stream",
     "text": [
      "-0.080475\n",
      "Best reward: -0.0805.\n",
      "alpha = 0.0160, epsilon = 0.6500, gamma = 0.05.\n"
     ]
    },
    {
     "name": "stderr",
     "output_type": "stream",
     "text": [
      "100%|██████████| 100000/100000 [00:28<00:00, 3492.06it/s]\n",
      "100%|██████████| 100000/100000 [00:06<00:00, 16032.67it/s]\n",
      "  0%|          | 407/100000 [00:00<00:24, 4061.93it/s]"
     ]
    },
    {
     "name": "stdout",
     "output_type": "stream",
     "text": [
      "-0.094375\n"
     ]
    },
    {
     "name": "stderr",
     "output_type": "stream",
     "text": [
      "100%|██████████| 100000/100000 [00:28<00:00, 3520.97it/s]\n",
      "100%|██████████| 100000/100000 [00:06<00:00, 16092.99it/s]\n",
      "  0%|          | 439/100000 [00:00<00:22, 4389.76it/s]"
     ]
    },
    {
     "name": "stdout",
     "output_type": "stream",
     "text": [
      "-0.086085\n"
     ]
    },
    {
     "name": "stderr",
     "output_type": "stream",
     "text": [
      "100%|██████████| 100000/100000 [00:27<00:00, 3576.00it/s]\n",
      "100%|██████████| 100000/100000 [00:06<00:00, 16239.00it/s]\n",
      "  0%|          | 438/100000 [00:00<00:22, 4376.65it/s]"
     ]
    },
    {
     "name": "stdout",
     "output_type": "stream",
     "text": [
      "-0.119605\n"
     ]
    },
    {
     "name": "stderr",
     "output_type": "stream",
     "text": [
      "100%|██████████| 100000/100000 [00:27<00:00, 3586.90it/s]\n",
      "100%|██████████| 100000/100000 [00:06<00:00, 16149.76it/s]\n",
      "  0%|          | 416/100000 [00:00<00:23, 4151.45it/s]"
     ]
    },
    {
     "name": "stdout",
     "output_type": "stream",
     "text": [
      "-0.121615\n"
     ]
    },
    {
     "name": "stderr",
     "output_type": "stream",
     "text": [
      "100%|██████████| 100000/100000 [00:28<00:00, 3568.97it/s]\n",
      "100%|██████████| 100000/100000 [00:06<00:00, 16118.15it/s]\n",
      "  0%|          | 430/100000 [00:00<00:23, 4291.32it/s]"
     ]
    },
    {
     "name": "stdout",
     "output_type": "stream",
     "text": [
      "-0.111955\n"
     ]
    },
    {
     "name": "stderr",
     "output_type": "stream",
     "text": [
      "100%|██████████| 100000/100000 [00:28<00:00, 3569.92it/s]\n",
      "100%|██████████| 100000/100000 [00:06<00:00, 15880.26it/s]\n",
      "  0%|          | 422/100000 [00:00<00:23, 4219.75it/s]"
     ]
    },
    {
     "name": "stdout",
     "output_type": "stream",
     "text": [
      "-0.099955\n"
     ]
    },
    {
     "name": "stderr",
     "output_type": "stream",
     "text": [
      "100%|██████████| 100000/100000 [00:28<00:00, 3539.18it/s]\n",
      "100%|██████████| 100000/100000 [00:06<00:00, 16008.87it/s]\n",
      "  0%|          | 409/100000 [00:00<00:24, 4083.46it/s]"
     ]
    },
    {
     "name": "stdout",
     "output_type": "stream",
     "text": [
      "-0.096765\n"
     ]
    },
    {
     "name": "stderr",
     "output_type": "stream",
     "text": [
      "100%|██████████| 100000/100000 [00:28<00:00, 3525.00it/s]\n",
      "100%|██████████| 100000/100000 [00:06<00:00, 15795.62it/s]\n",
      "  0%|          | 431/100000 [00:00<00:23, 4306.17it/s]"
     ]
    },
    {
     "name": "stdout",
     "output_type": "stream",
     "text": [
      "-0.10703\n"
     ]
    },
    {
     "name": "stderr",
     "output_type": "stream",
     "text": [
      "100%|██████████| 100000/100000 [00:28<00:00, 3565.31it/s]\n",
      "100%|██████████| 100000/100000 [00:06<00:00, 15291.08it/s]\n",
      "  0%|          | 419/100000 [00:00<00:23, 4184.90it/s]"
     ]
    },
    {
     "name": "stdout",
     "output_type": "stream",
     "text": [
      "-0.10205\n"
     ]
    },
    {
     "name": "stderr",
     "output_type": "stream",
     "text": [
      "100%|██████████| 100000/100000 [00:28<00:00, 3547.77it/s]\n",
      "100%|██████████| 100000/100000 [00:06<00:00, 15872.93it/s]\n",
      "  0%|          | 432/100000 [00:00<00:23, 4313.35it/s]"
     ]
    },
    {
     "name": "stdout",
     "output_type": "stream",
     "text": [
      "-0.109905\n"
     ]
    },
    {
     "name": "stderr",
     "output_type": "stream",
     "text": [
      "100%|██████████| 100000/100000 [00:29<00:00, 3436.62it/s]\n",
      "100%|██████████| 100000/100000 [00:06<00:00, 15903.70it/s]\n",
      "  0%|          | 425/100000 [00:00<00:23, 4248.22it/s]"
     ]
    },
    {
     "name": "stdout",
     "output_type": "stream",
     "text": [
      "-0.09502\n"
     ]
    },
    {
     "name": "stderr",
     "output_type": "stream",
     "text": [
      "100%|██████████| 100000/100000 [00:28<00:00, 3564.39it/s]\n",
      "100%|██████████| 100000/100000 [00:06<00:00, 15799.02it/s]\n",
      "  0%|          | 425/100000 [00:00<00:23, 4246.02it/s]"
     ]
    },
    {
     "name": "stdout",
     "output_type": "stream",
     "text": [
      "-0.09169\n"
     ]
    },
    {
     "name": "stderr",
     "output_type": "stream",
     "text": [
      "100%|██████████| 100000/100000 [00:28<00:00, 3532.55it/s]\n",
      "100%|██████████| 100000/100000 [00:06<00:00, 16174.07it/s]\n",
      "  0%|          | 423/100000 [00:00<00:23, 4226.08it/s]"
     ]
    },
    {
     "name": "stdout",
     "output_type": "stream",
     "text": [
      "-0.09793\n"
     ]
    },
    {
     "name": "stderr",
     "output_type": "stream",
     "text": [
      "100%|██████████| 100000/100000 [00:28<00:00, 3542.29it/s]\n",
      "100%|██████████| 100000/100000 [00:06<00:00, 16098.14it/s]\n",
      "  0%|          | 415/100000 [00:00<00:24, 4141.97it/s]"
     ]
    },
    {
     "name": "stdout",
     "output_type": "stream",
     "text": [
      "-0.09426\n"
     ]
    },
    {
     "name": "stderr",
     "output_type": "stream",
     "text": [
      "100%|██████████| 100000/100000 [00:28<00:00, 3518.71it/s]\n",
      "100%|██████████| 100000/100000 [00:06<00:00, 15711.27it/s]\n",
      "  0%|          | 419/100000 [00:00<00:23, 4183.46it/s]"
     ]
    },
    {
     "name": "stdout",
     "output_type": "stream",
     "text": [
      "-0.08799\n"
     ]
    },
    {
     "name": "stderr",
     "output_type": "stream",
     "text": [
      "100%|██████████| 100000/100000 [00:28<00:00, 3530.70it/s]\n",
      "100%|██████████| 100000/100000 [00:06<00:00, 15925.20it/s]\n",
      "  0%|          | 422/100000 [00:00<00:23, 4212.67it/s]"
     ]
    },
    {
     "name": "stdout",
     "output_type": "stream",
     "text": [
      "-0.090135\n"
     ]
    },
    {
     "name": "stderr",
     "output_type": "stream",
     "text": [
      "100%|██████████| 100000/100000 [00:28<00:00, 3513.69it/s]\n",
      "100%|██████████| 100000/100000 [00:06<00:00, 16116.18it/s]\n",
      "  0%|          | 423/100000 [00:00<00:23, 4223.28it/s]"
     ]
    },
    {
     "name": "stdout",
     "output_type": "stream",
     "text": [
      "-0.097025\n"
     ]
    },
    {
     "name": "stderr",
     "output_type": "stream",
     "text": [
      "100%|██████████| 100000/100000 [00:28<00:00, 3524.90it/s]\n",
      "100%|██████████| 100000/100000 [00:06<00:00, 15887.42it/s]\n",
      "  0%|          | 415/100000 [00:00<00:24, 4143.68it/s]"
     ]
    },
    {
     "name": "stdout",
     "output_type": "stream",
     "text": [
      "-0.09258\n"
     ]
    },
    {
     "name": "stderr",
     "output_type": "stream",
     "text": [
      "100%|██████████| 100000/100000 [00:28<00:00, 3498.89it/s]\n",
      "100%|██████████| 100000/100000 [00:06<00:00, 15622.01it/s]\n",
      "  0%|          | 420/100000 [00:00<00:23, 4194.85it/s]"
     ]
    },
    {
     "name": "stdout",
     "output_type": "stream",
     "text": [
      "-0.086475\n"
     ]
    },
    {
     "name": "stderr",
     "output_type": "stream",
     "text": [
      "100%|██████████| 100000/100000 [00:28<00:00, 3511.55it/s]\n",
      "100%|██████████| 100000/100000 [00:06<00:00, 15668.71it/s]\n",
      "  0%|          | 419/100000 [00:00<00:23, 4180.14it/s]"
     ]
    },
    {
     "name": "stdout",
     "output_type": "stream",
     "text": [
      "-0.088565\n"
     ]
    },
    {
     "name": "stderr",
     "output_type": "stream",
     "text": [
      "100%|██████████| 100000/100000 [00:28<00:00, 3528.47it/s]\n",
      "100%|██████████| 100000/100000 [00:06<00:00, 15870.68it/s]\n",
      "  0%|          | 415/100000 [00:00<00:24, 4148.89it/s]"
     ]
    },
    {
     "name": "stdout",
     "output_type": "stream",
     "text": [
      "-0.080505\n"
     ]
    },
    {
     "name": "stderr",
     "output_type": "stream",
     "text": [
      "100%|██████████| 100000/100000 [00:28<00:00, 3471.88it/s]\n",
      "100%|██████████| 100000/100000 [00:06<00:00, 15852.64it/s]\n",
      "  0%|          | 417/100000 [00:00<00:23, 4162.93it/s]"
     ]
    },
    {
     "name": "stdout",
     "output_type": "stream",
     "text": [
      "-0.085185\n"
     ]
    },
    {
     "name": "stderr",
     "output_type": "stream",
     "text": [
      "100%|██████████| 100000/100000 [00:28<00:00, 3515.59it/s]\n",
      "100%|██████████| 100000/100000 [00:06<00:00, 15911.49it/s]"
     ]
    },
    {
     "name": "stdout",
     "output_type": "stream",
     "text": [
      "-0.08273\n"
     ]
    },
    {
     "name": "stderr",
     "output_type": "stream",
     "text": [
      "\n"
     ]
    }
   ],
   "source": [
    "best_alpha, best_epsilon, best_gamma = tuning_params(\n",
    "    env=env,\n",
    "    alpha_values=np.arange(0.002, 0.020, 0.002),\n",
    "    epsilon_values=np.arange(0.05, 0.75, 0.1),\n",
    "    gamma_values=np.arange(0.05, 0.45, 0.15),\n",
    "    train_epochs=100000,\n",
    "    eval_epochs=100000\n",
    ")"
   ]
  },
  {
   "cell_type": "code",
   "execution_count": 35,
   "id": "exterior-benchmark",
   "metadata": {},
   "outputs": [
    {
     "name": "stderr",
     "output_type": "stream",
     "text": [
      "100%|██████████| 1000001/1000001 [04:53<00:00, 3411.74it/s]\n"
     ]
    }
   ],
   "source": [
    "pi, pi_hist = Q_learning(\n",
    "    env, \n",
    "    alpha=best_alpha,\n",
    "    epsilon=best_epsilon, \n",
    "    gamma=best_gamma, \n",
    "    epochs=1000001,\n",
    "    track_history=True\n",
    ")"
   ]
  },
  {
   "cell_type": "code",
   "execution_count": 36,
   "id": "sticky-gibson",
   "metadata": {},
   "outputs": [
    {
     "name": "stderr",
     "output_type": "stream",
     "text": [
      "100%|██████████| 200000/200000 [00:12<00:00, 15858.23it/s]\n"
     ]
    },
    {
     "data": {
      "text/plain": [
       "-0.0125675"
      ]
     },
     "execution_count": 36,
     "metadata": {},
     "output_type": "execute_result"
    }
   ],
   "source": [
    "avg_reward(env, pi, epochs=200000)"
   ]
  },
  {
   "cell_type": "code",
   "execution_count": 37,
   "id": "abroad-platinum",
   "metadata": {},
   "outputs": [
    {
     "name": "stderr",
     "output_type": "stream",
     "text": [
      "100%|██████████| 200000/200000 [00:10<00:00, 18267.72it/s]\n",
      "100%|██████████| 200000/200000 [00:12<00:00, 16297.82it/s]\n",
      "100%|██████████| 200000/200000 [00:12<00:00, 16143.06it/s]\n",
      "100%|██████████| 200000/200000 [00:12<00:00, 16128.40it/s]\n",
      "100%|██████████| 200000/200000 [00:12<00:00, 16222.55it/s]\n",
      "100%|██████████| 200000/200000 [00:12<00:00, 16232.77it/s]\n",
      "100%|██████████| 200000/200000 [00:12<00:00, 16223.94it/s]\n",
      "100%|██████████| 200000/200000 [00:12<00:00, 15965.09it/s]\n",
      "100%|██████████| 200000/200000 [00:12<00:00, 15961.53it/s]\n",
      "100%|██████████| 200000/200000 [00:12<00:00, 15914.68it/s]\n",
      "100%|██████████| 200000/200000 [00:12<00:00, 16027.23it/s]\n",
      "100%|██████████| 200000/200000 [00:12<00:00, 16100.90it/s]\n",
      "100%|██████████| 200000/200000 [00:12<00:00, 15953.73it/s]\n",
      "100%|██████████| 200000/200000 [00:13<00:00, 14607.55it/s]\n",
      "100%|██████████| 200000/200000 [00:12<00:00, 16048.17it/s]\n",
      "100%|██████████| 200000/200000 [00:12<00:00, 15954.45it/s]\n",
      "100%|██████████| 200000/200000 [00:12<00:00, 15944.67it/s]\n",
      "100%|██████████| 200000/200000 [00:12<00:00, 15972.73it/s]\n",
      "100%|██████████| 200000/200000 [00:12<00:00, 16124.31it/s]\n",
      "100%|██████████| 200000/200000 [00:12<00:00, 15817.25it/s]\n",
      "100%|██████████| 200000/200000 [00:12<00:00, 16033.64it/s]\n",
      "100%|██████████| 200000/200000 [00:12<00:00, 16047.59it/s]\n",
      "100%|██████████| 200000/200000 [00:12<00:00, 15967.99it/s]\n",
      "100%|██████████| 200000/200000 [00:12<00:00, 16061.29it/s]\n",
      "100%|██████████| 200000/200000 [00:12<00:00, 16153.93it/s]\n",
      "100%|██████████| 200000/200000 [00:12<00:00, 16057.84it/s]\n",
      "100%|██████████| 200000/200000 [00:12<00:00, 16019.63it/s]\n",
      "100%|██████████| 200000/200000 [00:12<00:00, 16013.34it/s]\n",
      "100%|██████████| 200000/200000 [00:12<00:00, 15897.43it/s]\n",
      "100%|██████████| 200000/200000 [00:12<00:00, 15768.84it/s]\n",
      "100%|██████████| 200000/200000 [00:12<00:00, 16060.91it/s]\n",
      "100%|██████████| 200000/200000 [00:12<00:00, 15781.98it/s]\n",
      "100%|██████████| 200000/200000 [00:12<00:00, 15901.22it/s]\n",
      "100%|██████████| 200000/200000 [00:12<00:00, 15845.93it/s]\n",
      "100%|██████████| 200000/200000 [00:12<00:00, 16099.02it/s]\n",
      "100%|██████████| 200000/200000 [00:12<00:00, 16162.15it/s]\n",
      "100%|██████████| 200000/200000 [00:12<00:00, 15905.19it/s]\n",
      "100%|██████████| 200000/200000 [00:12<00:00, 15936.60it/s]\n",
      "100%|██████████| 200000/200000 [00:12<00:00, 15956.27it/s]\n",
      "100%|██████████| 200000/200000 [00:12<00:00, 15899.36it/s]\n",
      "100%|██████████| 200000/200000 [00:12<00:00, 15570.85it/s]\n"
     ]
    },
    {
     "data": {
      "text/plain": [
       "[<matplotlib.lines.Line2D at 0x7fe5676e4350>]"
      ]
     },
     "execution_count": 37,
     "metadata": {},
     "output_type": "execute_result"
    },
    {
     "data": {
      "image/png": "[encoded data removed]",
      "text/plain": [
       "<Figure size 432x288 with 1 Axes>"
      ]
     },
     "metadata": {
      "needs_background": "light"
     },
     "output_type": "display_data"
    }
   ],
   "source": [
    "avg_reward_hist = [avg_reward(env, pi, epochs=200000) for pi in pi_hist]\n",
    "\n",
    "plt.plot(list(range(0, 1000001, 25000)), avg_reward_hist)"
   ]
  },
  {
   "cell_type": "code",
   "execution_count": null,
   "id": "armed-pickup",
   "metadata": {},
   "outputs": [],
   "source": []
  },
  {
   "cell_type": "code",
   "execution_count": null,
   "id": "brief-semiconductor",
   "metadata": {},
   "outputs": [],
   "source": []
  }
 ],
 "metadata": {
  "kernelspec": {
   "display_name": "Python 3 (ipykernel)",
   "language": "python",
   "name": "python3"
  },
  "language_info": {
   "codemirror_mode": {
    "name": "ipython",
    "version": 3
   },
   "file_extension": ".py",
   "mimetype": "text/x-python",
   "name": "python",
   "nbconvert_exporter": "python",
   "pygments_lexer": "ipython3",
   "version": "3.9.7"
  }
 },
 "nbformat": 4,
 "nbformat_minor": 5
}

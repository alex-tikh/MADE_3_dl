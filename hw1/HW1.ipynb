{
 "cells": [
  {
   "cell_type": "markdown",
   "id": "another-stomach",
   "metadata": {},
   "source": [
    "# RL and Advanced DL: Домашнее задание 1"
   ]
  },
  {
   "cell_type": "markdown",
   "id": "disciplinary-bracelet",
   "metadata": {},
   "source": [
    "Первое ДЗ связано с обучением с подкреплением, и оно придумано для ситуации, когда\n",
    "нейронные сети ещё не нужны, и пространство состояний в целом достаточно маленькое,\n",
    "чтобы можно было обучить хорошую стратегию методами TD-обучения или другими\n",
    "методами обучения с подкреплением. Задание получилось, надеюсь, интересное, но в том\n",
    "числе и достаточно техническое, так что для решения придётся немножко\n",
    "попрограммировать. Поэтому в качестве решения ожидается ссылка на jupyter-ноутбук\n",
    "на вашем github (или публичный, или с доступом для snikolenko); ссылку\n",
    "обязательно нужно прислать в виде сданного домашнего задания на портале\n",
    "Академии. Любые комментарии, новые идеи и рассуждения на тему, как всегда,\n",
    "категорически приветствуются."
   ]
  },
  {
   "cell_type": "markdown",
   "id": "seven-shoulder",
   "metadata": {},
   "source": [
    "## Часть первая, с блекджеком и стратегиями"
   ]
  },
  {
   "cell_type": "markdown",
   "id": "polyphonic-brook",
   "metadata": {},
   "source": [
    "Мы будем обучаться играть в очень простую, но знаменитую и популярную игру: блекджек. Правила блекджека достаточно просты; давайте начнём с самой базовой версии, которая\n",
    "реализована в OpenAI Gym:\n",
    "\n",
    "* численные значения карт равны от 2 до 10 для карт от двойки до десятки, 10 для\n",
    "валетов, дам и королей;\n",
    "* туз считается за 11 очков, если общая сумма карт на руке при этом не превосходит\n",
    "21 (по-английски в этом случае говорят, что на руке есть usable ace), и за 1 очко,\n",
    "если превосходит;\n",
    "* игроку раздаются две карты, дилеру — одна в открытую и одна в закрытую;\n",
    "* игрок может совершать одно из двух действий:\n",
    "    * hit — взять ещё одну карту;\n",
    "    * stand — не брать больше карт;\n",
    "* если сумма очков у игрока на руках больше 21, он проигрывает (bust);\n",
    "* если игрок выбирает stand с суммой не больше 21, дилер добирает карты, пока\n",
    "сумма карт в его руке меньше 17;\n",
    "*  после этого игрок выигрывает, если дилер либо превышает 21, либо получает\n",
    "сумму очков меньше, чем сумма очков у игрока; при равенстве очков объявляется\n",
    "ничья (ставка возвращается);\n",
    "*  в исходных правилах есть ещё дополнительный бонус за natural blackjack: если\n",
    "игрок набирает 21 очко с раздачи, двумя картами, он выигрывает не +1, а +1.5\n",
    "(полторы ставки).\n",
    "\n",
    "\n",
    "Именно этот простейший вариант блекджека реализован в OpenAI Gym:\n",
    "https://github.com/openai/gym/blob/master/gym/envs/toy_text/blackjack.py"
   ]
  },
  {
   "cell_type": "code",
   "execution_count": 259,
   "id": "ultimate-clear",
   "metadata": {},
   "outputs": [],
   "source": [
    "import gym\n",
    "from collections import defaultdict\n",
    "import tqdm\n",
    "import numpy as np\n",
    "import itertools\n",
    "import matplotlib.pyplot as plt"
   ]
  },
  {
   "cell_type": "code",
   "execution_count": 260,
   "id": "expired-custody",
   "metadata": {},
   "outputs": [],
   "source": [
    "env = gym.make('Blackjack-v0', natural=True)"
   ]
  },
  {
   "cell_type": "code",
   "execution_count": 261,
   "id": "trained-heart",
   "metadata": {},
   "outputs": [
    {
     "name": "stdout",
     "output_type": "stream",
     "text": [
      "observation: (7, 10, False)\n",
      "observation: (13, 10, False), reward: 0.0, done: False\n",
      "observation: (18, 10, False), reward: 0.0, done: False\n",
      "observation: (27, 10, False), reward: -1.0, done: True\n"
     ]
    }
   ],
   "source": [
    "observation = env.reset()\n",
    "print(f'observation: {observation}')\n",
    "done = False\n",
    "while not done:\n",
    "    if observation[0] < 19:\n",
    "        observation, reward, done, _ = env.step(1)\n",
    "        print(f\"observation: {observation}, reward: {reward}, done: {done}\")\n",
    "    else:\n",
    "        observation, reward, done, _ = env.step(0)\n",
    "        print(f\"observation: {observation}, reward: {reward}, done: {done}\")\n",
    "    "
   ]
  },
  {
   "cell_type": "code",
   "execution_count": 262,
   "id": "creative-casting",
   "metadata": {},
   "outputs": [],
   "source": [
    "def run_episode(env, pi, eps=.01):\n",
    "    observation = env.reset()\n",
    "    s_id = states_to_idx[observation]\n",
    "    # states, rewards, actions = [], [], []\n",
    "    done = False\n",
    "    \n",
    "    while not done:\n",
    "        # epsilon policy\n",
    "        action = pi[s_id] if np.random.rand() > eps else env.action_space.sample()\n",
    "        # states.append(observation)\n",
    "        # actions.append(action)\n",
    "        observation, reward, done, _ = env.step(action)\n",
    "        s_id = states_to_idx[observation]\n",
    "        # rewards.append(reward)\n",
    "\n",
    "    return reward"
   ]
  },
  {
   "cell_type": "markdown",
   "id": "plastic-helen",
   "metadata": {},
   "source": [
    "### 1.1 Рассмотрим очень простую стратегию: говорить stand, если у нас на руках комбинация в 19, 20 или 21 очко, во всех остальных случаях говорить hit. Используйте методы Монте-Карло, чтобы оценить выигрыш от этой стратегии."
   ]
  },
  {
   "cell_type": "code",
   "execution_count": 269,
   "id": "surprised-monte",
   "metadata": {},
   "outputs": [],
   "source": [
    "# в дискретном пространстве состояний можно записать стратегию \n",
    "# как словарь состоягие -> действие\n",
    "\n",
    "states_list = list(\n",
    "    itertools.product(\n",
    "        range(2, 33), # the players current sum, 32 для Q learning !!!!!!!!\n",
    "        range(1, 11), # the dealer's one showing card (1-10 where 1 is ace),\n",
    "        (True, False) # the player holds a usable ace\n",
    "    )\n",
    ")"
   ]
  },
  {
   "cell_type": "code",
   "execution_count": 270,
   "id": "moved-florida",
   "metadata": {},
   "outputs": [],
   "source": [
    "states_to_idx = {state: i for i, state in enumerate(states_list)}"
   ]
  },
  {
   "cell_type": "code",
   "execution_count": 272,
   "id": "opposite-salad",
   "metadata": {},
   "outputs": [],
   "source": [
    "# если сумма меньше 19, то hit\n",
    "pi = {\n",
    "    states_to_idx[state]: int(state[0] < 19)\n",
    "    for state in states_list\n",
    "}"
   ]
  },
  {
   "cell_type": "code",
   "execution_count": 274,
   "id": "under-creation",
   "metadata": {},
   "outputs": [],
   "source": [
    "def avg_reward(env, pi, epochs=100000):\n",
    "    sum_reward = 0\n",
    "    cnt = 0\n",
    "    for _ in tqdm.tqdm(range(epochs)):\n",
    "        cnt += 1\n",
    "        reward = run_episode(env, pi, eps=0.)\n",
    "        sum_reward += reward\n",
    "    return sum_reward / cnt"
   ]
  },
  {
   "cell_type": "code",
   "execution_count": 275,
   "id": "light-possibility",
   "metadata": {},
   "outputs": [
    {
     "name": "stderr",
     "output_type": "stream",
     "text": [
      "100%|██████████| 100000/100000 [00:06<00:00, 15401.56it/s]\n"
     ]
    },
    {
     "data": {
      "text/plain": [
       "-0.177805"
      ]
     },
     "execution_count": 275,
     "metadata": {},
     "output_type": "execute_result"
    }
   ],
   "source": [
    "avg_reward(env, pi)"
   ]
  },
  {
   "cell_type": "markdown",
   "id": "understood-stevens",
   "metadata": {},
   "source": [
    "### 1.2 Реализуйте метод обучения с подкреплением без модели (можно Q-обучение, но рекомендую попробовать и другие, например Monte Carlo control) для обучения стратегии в блекджеке, используя окружение Blackjack-v0 из OpenAI Gym."
   ]
  },
  {
   "cell_type": "code",
   "execution_count": 276,
   "id": "metric-dance",
   "metadata": {},
   "outputs": [],
   "source": [
    "def get_random_Q(env):\n",
    "#     # инициализируем случайным образом\n",
    "#     Q = {\n",
    "#         state: np.zeros(env.action_space.n) #np.random.random(env.action_space.n)\n",
    "#         for state in states_list\n",
    "#     }\n",
    "#     for state in states_list:\n",
    "#         if state[0] == 21:\n",
    "#             Q[state] = np.zeros(env.action_space.n)   \n",
    "#    return defaultdict(lambda: np.zeros(env.action_space.n))\n",
    "    return np.zeros((len(states_list), env.action_space.n))\n",
    "\n",
    "def compute_policy_by_Q(env, Q, gamma=1.0):\n",
    "#     d = {key: np.argmax(value) for key, value in Q.items()}\n",
    "#     return defaultdict(int, d)\n",
    "    return np.argmax(Q, axis=1)"
   ]
  },
  {
   "cell_type": "code",
   "execution_count": 277,
   "id": "cooked-terrace",
   "metadata": {},
   "outputs": [],
   "source": [
    "def Q_learning_episode(env, pi, Q, alpha=0.1, epsilon=0.1, gamma=0.9):\n",
    "    done = False\n",
    "    observation = env.reset()\n",
    "    while not done:\n",
    "        s_id = states_to_idx[observation]\n",
    "        a = pi[s_id] if np.random.rand() > epsilon else env.action_space.sample()\n",
    "        observation_prime, reward, done, _ = env.step(a)\n",
    "        s_id_prime = states_to_idx[observation_prime]\n",
    "        # print(observation_prime, reward, done)\n",
    "        Q[s_id][a] += alpha * (\n",
    "            reward + gamma * np.max(Q[s_id_prime]) - Q[s_id][a]\n",
    "        )\n",
    "        observation = observation_prime\n",
    "    return Q"
   ]
  },
  {
   "cell_type": "code",
   "execution_count": 278,
   "id": "necessary-cylinder",
   "metadata": {},
   "outputs": [],
   "source": [
    "env.close()\n",
    "env = gym.make('Blackjack-v0', natural=True)\n",
    "\n",
    "def Q_learning(env, alpha=0.005, epsilon=0.05, gamma=0.1, epochs=500000, track_history=False):\n",
    "    # Q_hist_Qlearn = [ ]\n",
    "    pi_hist = []\n",
    "\n",
    "    Q = get_random_Q(env)\n",
    "    pi = compute_policy_by_Q(env, Q)\n",
    "\n",
    "    for n in tqdm.tqdm(range(epochs)):\n",
    "        Q = Q_learning_episode(env, pi, Q, alpha=alpha, epsilon=epsilon, gamma=gamma)\n",
    "        pi = compute_policy_by_Q(env, Q)\n",
    "        # Q_hist_Qlearn.append(copy.deepcopy(Q))\n",
    "        if n % 25000 == 0 and track_history:\n",
    "            pi_hist.append(pi)\n",
    "            \n",
    "    return pi, pi_hist"
   ]
  },
  {
   "cell_type": "code",
   "execution_count": 279,
   "id": "fourth-mentor",
   "metadata": {},
   "outputs": [
    {
     "name": "stderr",
     "output_type": "stream",
     "text": [
      "100%|██████████| 500000/500000 [00:46<00:00, 10692.44it/s]\n"
     ]
    }
   ],
   "source": [
    "pi, pi_hist = Q_learning(env, track_history=True)"
   ]
  },
  {
   "cell_type": "code",
   "execution_count": 280,
   "id": "intermediate-fireplace",
   "metadata": {},
   "outputs": [
    {
     "name": "stderr",
     "output_type": "stream",
     "text": [
      "100%|██████████| 100000/100000 [00:07<00:00, 13653.47it/s]\n"
     ]
    },
    {
     "data": {
      "text/plain": [
       "-0.024785"
      ]
     },
     "execution_count": 280,
     "metadata": {},
     "output_type": "execute_result"
    }
   ],
   "source": [
    "avg_reward(env, pi)"
   ]
  },
  {
   "cell_type": "markdown",
   "id": "numerical-insured",
   "metadata": {},
   "source": [
    "### 1.3 Сколько выигрывает казино у вашей стратегии? Нарисуйте графики среднего дохода вашего метода (усреднённого по крайней мере по 100000 раздач, а лучше больше) по ходу обучения. Попробуйте подобрать оптимальные гиперпараметры."
   ]
  },
  {
   "cell_type": "code",
   "execution_count": 281,
   "id": "lightweight-mission",
   "metadata": {},
   "outputs": [
    {
     "name": "stderr",
     "output_type": "stream",
     "text": [
      "100%|██████████| 200000/200000 [00:12<00:00, 15856.65it/s]\n",
      "100%|██████████| 200000/200000 [00:14<00:00, 14050.71it/s]\n",
      "100%|██████████| 200000/200000 [00:14<00:00, 14012.69it/s]\n",
      "100%|██████████| 200000/200000 [00:14<00:00, 14024.24it/s]\n",
      "100%|██████████| 200000/200000 [00:14<00:00, 14251.96it/s]\n",
      "100%|██████████| 200000/200000 [00:14<00:00, 13884.77it/s]\n",
      "100%|██████████| 200000/200000 [00:14<00:00, 13866.01it/s]\n",
      "100%|██████████| 200000/200000 [00:14<00:00, 13802.62it/s]\n",
      "100%|██████████| 200000/200000 [00:14<00:00, 14035.45it/s]\n",
      "100%|██████████| 200000/200000 [00:14<00:00, 13933.02it/s]\n",
      "100%|██████████| 200000/200000 [00:14<00:00, 14064.10it/s]\n",
      "100%|██████████| 200000/200000 [00:14<00:00, 13834.12it/s]\n",
      "100%|██████████| 200000/200000 [00:14<00:00, 14042.76it/s]\n",
      "100%|██████████| 200000/200000 [00:14<00:00, 13936.40it/s]\n",
      "100%|██████████| 200000/200000 [00:13<00:00, 14318.87it/s]\n",
      "100%|██████████| 200000/200000 [00:13<00:00, 14293.07it/s]\n",
      "100%|██████████| 200000/200000 [00:14<00:00, 14276.79it/s]\n",
      "100%|██████████| 200000/200000 [00:13<00:00, 14309.60it/s]\n",
      "100%|██████████| 200000/200000 [00:14<00:00, 14114.21it/s]\n",
      "100%|██████████| 200000/200000 [00:14<00:00, 14148.79it/s]\n"
     ]
    }
   ],
   "source": [
    "avg_reward_hist = [avg_reward(env, pi, epochs=200000) for pi in pi_hist]"
   ]
  },
  {
   "cell_type": "code",
   "execution_count": 282,
   "id": "maritime-commons",
   "metadata": {},
   "outputs": [
    {
     "data": {
      "text/plain": [
       "[<matplotlib.lines.Line2D at 0x7feab4160190>]"
      ]
     },
     "execution_count": 282,
     "metadata": {},
     "output_type": "execute_result"
    },
    {
     "data": {
      "image/png": "[encoded data removed]",
      "text/plain": [
       "<Figure size 432x288 with 1 Axes>"
      ]
     },
     "metadata": {
      "needs_background": "light"
     },
     "output_type": "display_data"
    }
   ],
   "source": [
    "plt.plot(list(range(0, 500000, 25000)), avg_reward_hist)"
   ]
  },
  {
   "cell_type": "markdown",
   "id": "motivated-uncle",
   "metadata": {},
   "source": [
    "### 1.3 Сколько выигрывает казино у вашей стратегии? Нарисуйте графики среднего дохода вашего метода (усреднённого по крайней мере по 100000 раздач, а лучше больше) по ходу обучения. Попробуйте подобрать оптимальные гиперпараметры."
   ]
  },
  {
   "cell_type": "code",
   "execution_count": 121,
   "id": "based-insight",
   "metadata": {},
   "outputs": [],
   "source": [
    "def tuning_params(\n",
    "    env,\n",
    "    alpha_values,\n",
    "    epsilon_values,\n",
    "    gamma_values,\n",
    "    train_epochs=500000,\n",
    "    eval_epochs=200000\n",
    "):\n",
    "    best_reward, best_pi, best_alpha, best_epsilon, best_gamma = -np.inf, None, None, None, None\n",
    "    for i, (alpha, epsilon, gamma) in enumerate(\n",
    "        itertools.product(alpha_values, epsilon_values, gamma_values)\n",
    "    ):\n",
    "        pi, _ = Q_learning(\n",
    "            env=env,\n",
    "            alpha=alpha,\n",
    "            epsilon=epsilon,\n",
    "            gamma=gamma,\n",
    "            epochs=train_epochs,\n",
    "        )\n",
    "        reward = avg_reward(env, pi, epochs=eval_epochs)\n",
    "        print(reward)\n",
    "        if reward > best_reward:\n",
    "            best_reward = reward\n",
    "            best_pi = pi\n",
    "            best_alpha = alpha\n",
    "            best_epsilon = epsilon\n",
    "            best_gamma = gamma\n",
    "            \n",
    "        print(f'Best reward: {best_reward:.4f}.')\n",
    "        print(f'alpha = {best_alpha:.4f}, epsilon = {best_epsilon:.4f}, gamma = {best_gamma:.2f}.')\n",
    "\n",
    "    return best_alpha, best_epsilon, best_gamma"
   ]
  },
  {
   "cell_type": "code",
   "execution_count": 122,
   "id": "foster-introduction",
   "metadata": {},
   "outputs": [
    {
     "name": "stderr",
     "output_type": "stream",
     "text": [
      "100%|██████████| 100000/100000 [01:30<00:00, 1099.49it/s]\n",
      "100%|██████████| 100000/100000 [00:06<00:00, 14685.02it/s]\n",
      "  0%|          | 103/100000 [00:00<01:37, 1025.39it/s]"
     ]
    },
    {
     "name": "stdout",
     "output_type": "stream",
     "text": [
      "-0.04695\n",
      "Best reward: -0.0469.\n",
      "alpha = 0.0020, epsilon = 0.0500, gamma = 0.05.\n"
     ]
    },
    {
     "name": "stderr",
     "output_type": "stream",
     "text": [
      "100%|██████████| 100000/100000 [01:33<00:00, 1066.72it/s]\n",
      "100%|██████████| 100000/100000 [00:06<00:00, 15092.03it/s]\n",
      "  0%|          | 117/100000 [00:00<01:25, 1163.64it/s]"
     ]
    },
    {
     "name": "stdout",
     "output_type": "stream",
     "text": [
      "-0.04036\n",
      "Best reward: -0.0404.\n",
      "alpha = 0.0020, epsilon = 0.0500, gamma = 0.10.\n"
     ]
    },
    {
     "name": "stderr",
     "output_type": "stream",
     "text": [
      "100%|██████████| 100000/100000 [01:33<00:00, 1067.19it/s]\n",
      "100%|██████████| 100000/100000 [00:07<00:00, 13133.31it/s]\n",
      "  0%|          | 102/100000 [00:00<01:39, 1007.66it/s]"
     ]
    },
    {
     "name": "stdout",
     "output_type": "stream",
     "text": [
      "-0.037615\n",
      "Best reward: -0.0376.\n",
      "alpha = 0.0020, epsilon = 0.1000, gamma = 0.05.\n"
     ]
    },
    {
     "name": "stderr",
     "output_type": "stream",
     "text": [
      "100%|██████████| 100000/100000 [01:35<00:00, 1052.26it/s]\n",
      "100%|██████████| 100000/100000 [00:06<00:00, 14426.02it/s]\n",
      "  0%|          | 99/100000 [00:00<01:41, 987.93it/s]"
     ]
    },
    {
     "name": "stdout",
     "output_type": "stream",
     "text": [
      "-0.03359\n",
      "Best reward: -0.0336.\n",
      "alpha = 0.0020, epsilon = 0.1000, gamma = 0.10.\n"
     ]
    },
    {
     "name": "stderr",
     "output_type": "stream",
     "text": [
      "100%|██████████| 100000/100000 [01:32<00:00, 1084.10it/s]\n",
      "100%|██████████| 100000/100000 [00:06<00:00, 14517.78it/s]\n",
      "  0%|          | 103/100000 [00:00<01:37, 1026.68it/s]"
     ]
    },
    {
     "name": "stdout",
     "output_type": "stream",
     "text": [
      "-0.03821\n",
      "Best reward: -0.0336.\n",
      "alpha = 0.0020, epsilon = 0.1000, gamma = 0.10.\n"
     ]
    },
    {
     "name": "stderr",
     "output_type": "stream",
     "text": [
      "100%|██████████| 100000/100000 [01:32<00:00, 1085.70it/s]\n",
      "100%|██████████| 100000/100000 [00:07<00:00, 14031.88it/s]\n",
      "  0%|          | 104/100000 [00:00<01:36, 1035.16it/s]"
     ]
    },
    {
     "name": "stdout",
     "output_type": "stream",
     "text": [
      "-0.034985\n",
      "Best reward: -0.0336.\n",
      "alpha = 0.0020, epsilon = 0.1000, gamma = 0.10.\n"
     ]
    },
    {
     "name": "stderr",
     "output_type": "stream",
     "text": [
      "100%|██████████| 100000/100000 [01:32<00:00, 1082.78it/s]\n",
      "100%|██████████| 100000/100000 [00:06<00:00, 14584.31it/s]\n",
      "  0%|          | 107/100000 [00:00<01:33, 1067.68it/s]"
     ]
    },
    {
     "name": "stdout",
     "output_type": "stream",
     "text": [
      "-0.038505\n",
      "Best reward: -0.0336.\n",
      "alpha = 0.0020, epsilon = 0.1000, gamma = 0.10.\n"
     ]
    },
    {
     "name": "stderr",
     "output_type": "stream",
     "text": [
      "100%|██████████| 100000/100000 [01:32<00:00, 1086.91it/s]\n",
      "100%|██████████| 100000/100000 [00:06<00:00, 14562.47it/s]\n",
      "  0%|          | 104/100000 [00:00<01:36, 1035.20it/s]"
     ]
    },
    {
     "name": "stdout",
     "output_type": "stream",
     "text": [
      "-0.028355\n",
      "Best reward: -0.0284.\n",
      "alpha = 0.0030, epsilon = 0.1000, gamma = 0.10.\n"
     ]
    },
    {
     "name": "stderr",
     "output_type": "stream",
     "text": [
      "100%|██████████| 100000/100000 [01:32<00:00, 1083.99it/s]\n",
      "100%|██████████| 100000/100000 [00:06<00:00, 14493.81it/s]\n",
      "  0%|          | 99/100000 [00:00<01:41, 982.29it/s]"
     ]
    },
    {
     "name": "stdout",
     "output_type": "stream",
     "text": [
      "-0.045945\n",
      "Best reward: -0.0284.\n",
      "alpha = 0.0030, epsilon = 0.1000, gamma = 0.10.\n"
     ]
    },
    {
     "name": "stderr",
     "output_type": "stream",
     "text": [
      "100%|██████████| 100000/100000 [01:31<00:00, 1087.89it/s]\n",
      "100%|██████████| 100000/100000 [00:06<00:00, 15008.64it/s]\n",
      "  0%|          | 116/100000 [00:00<01:26, 1153.81it/s]"
     ]
    },
    {
     "name": "stdout",
     "output_type": "stream",
     "text": [
      "-0.036985\n",
      "Best reward: -0.0284.\n",
      "alpha = 0.0030, epsilon = 0.1000, gamma = 0.10.\n"
     ]
    },
    {
     "name": "stderr",
     "output_type": "stream",
     "text": [
      "100%|██████████| 100000/100000 [01:29<00:00, 1117.27it/s]\n",
      "100%|██████████| 100000/100000 [00:06<00:00, 14919.25it/s]\n",
      "  0%|          | 107/100000 [00:00<01:33, 1064.17it/s]"
     ]
    },
    {
     "name": "stdout",
     "output_type": "stream",
     "text": [
      "-0.029135\n",
      "Best reward: -0.0284.\n",
      "alpha = 0.0030, epsilon = 0.1000, gamma = 0.10.\n"
     ]
    },
    {
     "name": "stderr",
     "output_type": "stream",
     "text": [
      "100%|██████████| 100000/100000 [01:34<00:00, 1058.28it/s]\n",
      "100%|██████████| 100000/100000 [00:07<00:00, 13417.87it/s]\n",
      "  0%|          | 117/100000 [00:00<01:25, 1163.95it/s]"
     ]
    },
    {
     "name": "stdout",
     "output_type": "stream",
     "text": [
      "-0.03607\n",
      "Best reward: -0.0284.\n",
      "alpha = 0.0030, epsilon = 0.1000, gamma = 0.10.\n"
     ]
    },
    {
     "name": "stderr",
     "output_type": "stream",
     "text": [
      "100%|██████████| 100000/100000 [01:31<00:00, 1092.20it/s]\n",
      "100%|██████████| 100000/100000 [00:06<00:00, 14654.39it/s]\n",
      "  0%|          | 116/100000 [00:00<01:26, 1155.89it/s]"
     ]
    },
    {
     "name": "stdout",
     "output_type": "stream",
     "text": [
      "-0.031955\n",
      "Best reward: -0.0284.\n",
      "alpha = 0.0030, epsilon = 0.1000, gamma = 0.10.\n"
     ]
    },
    {
     "name": "stderr",
     "output_type": "stream",
     "text": [
      "100%|██████████| 100000/100000 [01:31<00:00, 1096.68it/s]\n",
      "100%|██████████| 100000/100000 [00:07<00:00, 14209.94it/s]\n",
      "  0%|          | 105/100000 [00:00<01:35, 1042.26it/s]"
     ]
    },
    {
     "name": "stdout",
     "output_type": "stream",
     "text": [
      "-0.027525\n",
      "Best reward: -0.0275.\n",
      "alpha = 0.0050, epsilon = 0.0500, gamma = 0.10.\n"
     ]
    },
    {
     "name": "stderr",
     "output_type": "stream",
     "text": [
      "100%|██████████| 100000/100000 [01:33<00:00, 1072.44it/s]\n",
      "100%|██████████| 100000/100000 [00:06<00:00, 14574.30it/s]\n",
      "  0%|          | 101/100000 [00:00<01:38, 1009.58it/s]"
     ]
    },
    {
     "name": "stdout",
     "output_type": "stream",
     "text": [
      "-0.036795\n",
      "Best reward: -0.0275.\n",
      "alpha = 0.0050, epsilon = 0.0500, gamma = 0.10.\n"
     ]
    },
    {
     "name": "stderr",
     "output_type": "stream",
     "text": [
      "100%|██████████| 100000/100000 [01:31<00:00, 1090.64it/s]\n",
      "100%|██████████| 100000/100000 [00:06<00:00, 14614.50it/s]\n",
      "  0%|          | 107/100000 [00:00<01:33, 1064.95it/s]"
     ]
    },
    {
     "name": "stdout",
     "output_type": "stream",
     "text": [
      "-0.038425\n",
      "Best reward: -0.0275.\n",
      "alpha = 0.0050, epsilon = 0.0500, gamma = 0.10.\n"
     ]
    },
    {
     "name": "stderr",
     "output_type": "stream",
     "text": [
      "100%|██████████| 100000/100000 [01:31<00:00, 1088.21it/s]\n",
      "100%|██████████| 100000/100000 [00:06<00:00, 14609.76it/s]\n",
      "  0%|          | 109/100000 [00:00<01:32, 1085.10it/s]"
     ]
    },
    {
     "name": "stdout",
     "output_type": "stream",
     "text": [
      "-0.03265\n",
      "Best reward: -0.0275.\n",
      "alpha = 0.0050, epsilon = 0.0500, gamma = 0.10.\n"
     ]
    },
    {
     "name": "stderr",
     "output_type": "stream",
     "text": [
      "100%|██████████| 100000/100000 [01:30<00:00, 1109.23it/s]\n",
      "100%|██████████| 100000/100000 [00:06<00:00, 14938.61it/s]\n",
      "  0%|          | 115/100000 [00:00<01:26, 1149.95it/s]"
     ]
    },
    {
     "name": "stdout",
     "output_type": "stream",
     "text": [
      "-0.030205\n",
      "Best reward: -0.0275.\n",
      "alpha = 0.0050, epsilon = 0.0500, gamma = 0.10.\n"
     ]
    },
    {
     "name": "stderr",
     "output_type": "stream",
     "text": [
      "100%|██████████| 100000/100000 [01:28<00:00, 1125.24it/s]\n",
      "100%|██████████| 100000/100000 [00:06<00:00, 14882.46it/s]\n",
      "  0%|          | 113/100000 [00:00<01:28, 1129.87it/s]"
     ]
    },
    {
     "name": "stdout",
     "output_type": "stream",
     "text": [
      "-0.03426\n",
      "Best reward: -0.0275.\n",
      "alpha = 0.0050, epsilon = 0.0500, gamma = 0.10.\n"
     ]
    },
    {
     "name": "stderr",
     "output_type": "stream",
     "text": [
      "100%|██████████| 100000/100000 [01:28<00:00, 1124.95it/s]\n",
      "100%|██████████| 100000/100000 [00:06<00:00, 14991.94it/s]\n",
      "  0%|          | 116/100000 [00:00<01:26, 1151.96it/s]"
     ]
    },
    {
     "name": "stdout",
     "output_type": "stream",
     "text": [
      "-0.03496\n",
      "Best reward: -0.0275.\n",
      "alpha = 0.0050, epsilon = 0.0500, gamma = 0.10.\n"
     ]
    },
    {
     "name": "stderr",
     "output_type": "stream",
     "text": [
      "100%|██████████| 100000/100000 [01:29<00:00, 1122.41it/s]\n",
      "100%|██████████| 100000/100000 [00:06<00:00, 14970.37it/s]\n",
      "  0%|          | 116/100000 [00:00<01:26, 1154.71it/s]"
     ]
    },
    {
     "name": "stdout",
     "output_type": "stream",
     "text": [
      "-0.03469\n",
      "Best reward: -0.0275.\n",
      "alpha = 0.0050, epsilon = 0.0500, gamma = 0.10.\n"
     ]
    },
    {
     "name": "stderr",
     "output_type": "stream",
     "text": [
      "100%|██████████| 100000/100000 [01:28<00:00, 1128.09it/s]\n",
      "100%|██████████| 100000/100000 [00:06<00:00, 15020.78it/s]\n",
      "  0%|          | 116/100000 [00:00<01:26, 1157.58it/s]"
     ]
    },
    {
     "name": "stdout",
     "output_type": "stream",
     "text": [
      "-0.031275\n",
      "Best reward: -0.0275.\n",
      "alpha = 0.0050, epsilon = 0.0500, gamma = 0.10.\n"
     ]
    },
    {
     "name": "stderr",
     "output_type": "stream",
     "text": [
      "100%|██████████| 100000/100000 [01:28<00:00, 1129.78it/s]\n",
      "100%|██████████| 100000/100000 [00:06<00:00, 14856.27it/s]\n",
      "  0%|          | 115/100000 [00:00<01:27, 1144.42it/s]"
     ]
    },
    {
     "name": "stdout",
     "output_type": "stream",
     "text": [
      "-0.035995\n",
      "Best reward: -0.0275.\n",
      "alpha = 0.0050, epsilon = 0.0500, gamma = 0.10.\n"
     ]
    },
    {
     "name": "stderr",
     "output_type": "stream",
     "text": [
      "100%|██████████| 100000/100000 [01:28<00:00, 1128.79it/s]\n",
      "100%|██████████| 100000/100000 [00:06<00:00, 14860.55it/s]\n",
      "  0%|          | 114/100000 [00:00<01:27, 1138.30it/s]"
     ]
    },
    {
     "name": "stdout",
     "output_type": "stream",
     "text": [
      "-0.034215\n",
      "Best reward: -0.0275.\n",
      "alpha = 0.0050, epsilon = 0.0500, gamma = 0.10.\n"
     ]
    },
    {
     "name": "stderr",
     "output_type": "stream",
     "text": [
      "100%|██████████| 100000/100000 [01:28<00:00, 1127.30it/s]\n",
      "100%|██████████| 100000/100000 [00:06<00:00, 14931.74it/s]\n",
      "  0%|          | 115/100000 [00:00<01:27, 1143.68it/s]"
     ]
    },
    {
     "name": "stdout",
     "output_type": "stream",
     "text": [
      "-0.040145\n",
      "Best reward: -0.0275.\n",
      "alpha = 0.0050, epsilon = 0.0500, gamma = 0.10.\n"
     ]
    },
    {
     "name": "stderr",
     "output_type": "stream",
     "text": [
      " 97%|█████████▋| 96654/100000 [01:30<00:03, 1067.22it/s]\n"
     ]
    },
    {
     "ename": "KeyboardInterrupt",
     "evalue": "",
     "output_type": "error",
     "traceback": [
      "\u001b[0;31m---------------------------------------------------------------------------\u001b[0m",
      "\u001b[0;31mKeyboardInterrupt\u001b[0m                         Traceback (most recent call last)",
      "\u001b[0;32m<ipython-input-122-af37aec81cd6>\u001b[0m in \u001b[0;36m<module>\u001b[0;34m\u001b[0m\n\u001b[1;32m      8\u001b[0m     \u001b[0mgamma_values\u001b[0m\u001b[0;34m=\u001b[0m\u001b[0mnp\u001b[0m\u001b[0;34m.\u001b[0m\u001b[0marange\u001b[0m\u001b[0;34m(\u001b[0m\u001b[0;36m0.05\u001b[0m\u001b[0;34m,\u001b[0m \u001b[0;36m0.15\u001b[0m\u001b[0;34m,\u001b[0m \u001b[0;36m0.05\u001b[0m\u001b[0;34m)\u001b[0m\u001b[0;34m,\u001b[0m\u001b[0;34m\u001b[0m\u001b[0;34m\u001b[0m\u001b[0m\n\u001b[1;32m      9\u001b[0m     \u001b[0mtrain_epochs\u001b[0m\u001b[0;34m=\u001b[0m\u001b[0;36m100000\u001b[0m\u001b[0;34m,\u001b[0m\u001b[0;34m\u001b[0m\u001b[0;34m\u001b[0m\u001b[0m\n\u001b[0;32m---> 10\u001b[0;31m     \u001b[0meval_epochs\u001b[0m\u001b[0;34m=\u001b[0m\u001b[0;36m100000\u001b[0m\u001b[0;34m\u001b[0m\u001b[0;34m\u001b[0m\u001b[0m\n\u001b[0m\u001b[1;32m     11\u001b[0m )\n",
      "\u001b[0;32m<ipython-input-121-d9cfb917d62a>\u001b[0m in \u001b[0;36mtuning_params\u001b[0;34m(env, alpha_values, epsilon_values, gamma_values, train_epochs, eval_epochs)\u001b[0m\n\u001b[1;32m     16\u001b[0m             \u001b[0mepsilon\u001b[0m\u001b[0;34m=\u001b[0m\u001b[0mepsilon\u001b[0m\u001b[0;34m,\u001b[0m\u001b[0;34m\u001b[0m\u001b[0;34m\u001b[0m\u001b[0m\n\u001b[1;32m     17\u001b[0m             \u001b[0mgamma\u001b[0m\u001b[0;34m=\u001b[0m\u001b[0mgamma\u001b[0m\u001b[0;34m,\u001b[0m\u001b[0;34m\u001b[0m\u001b[0;34m\u001b[0m\u001b[0m\n\u001b[0;32m---> 18\u001b[0;31m             \u001b[0mepochs\u001b[0m\u001b[0;34m=\u001b[0m\u001b[0mtrain_epochs\u001b[0m\u001b[0;34m,\u001b[0m\u001b[0;34m\u001b[0m\u001b[0;34m\u001b[0m\u001b[0m\n\u001b[0m\u001b[1;32m     19\u001b[0m         )\n\u001b[1;32m     20\u001b[0m         \u001b[0mreward\u001b[0m \u001b[0;34m=\u001b[0m \u001b[0mavg_reward\u001b[0m\u001b[0;34m(\u001b[0m\u001b[0menv\u001b[0m\u001b[0;34m,\u001b[0m \u001b[0mpi\u001b[0m\u001b[0;34m,\u001b[0m \u001b[0mepochs\u001b[0m\u001b[0;34m=\u001b[0m\u001b[0meval_epochs\u001b[0m\u001b[0;34m)\u001b[0m\u001b[0;34m\u001b[0m\u001b[0;34m\u001b[0m\u001b[0m\n",
      "\u001b[0;32m<ipython-input-109-9e77352111df>\u001b[0m in \u001b[0;36mQ_learning\u001b[0;34m(env, alpha, epsilon, gamma, epochs, track_history)\u001b[0m\n\u001b[1;32m     11\u001b[0m     \u001b[0;32mfor\u001b[0m \u001b[0mn\u001b[0m \u001b[0;32min\u001b[0m \u001b[0mtqdm\u001b[0m\u001b[0;34m.\u001b[0m\u001b[0mtqdm\u001b[0m\u001b[0;34m(\u001b[0m\u001b[0mrange\u001b[0m\u001b[0;34m(\u001b[0m\u001b[0mepochs\u001b[0m\u001b[0;34m)\u001b[0m\u001b[0;34m)\u001b[0m\u001b[0;34m:\u001b[0m\u001b[0;34m\u001b[0m\u001b[0;34m\u001b[0m\u001b[0m\n\u001b[1;32m     12\u001b[0m         \u001b[0mQ\u001b[0m \u001b[0;34m=\u001b[0m \u001b[0mQ_learning_episode\u001b[0m\u001b[0;34m(\u001b[0m\u001b[0menv\u001b[0m\u001b[0;34m,\u001b[0m \u001b[0mpi\u001b[0m\u001b[0;34m,\u001b[0m \u001b[0mQ\u001b[0m\u001b[0;34m,\u001b[0m \u001b[0malpha\u001b[0m\u001b[0;34m=\u001b[0m\u001b[0malpha\u001b[0m\u001b[0;34m,\u001b[0m \u001b[0mepsilon\u001b[0m\u001b[0;34m=\u001b[0m\u001b[0mepsilon\u001b[0m\u001b[0;34m,\u001b[0m \u001b[0mgamma\u001b[0m\u001b[0;34m=\u001b[0m\u001b[0mgamma\u001b[0m\u001b[0;34m)\u001b[0m\u001b[0;34m\u001b[0m\u001b[0;34m\u001b[0m\u001b[0m\n\u001b[0;32m---> 13\u001b[0;31m         \u001b[0mpi\u001b[0m \u001b[0;34m=\u001b[0m \u001b[0mcompute_policy_by_Q\u001b[0m\u001b[0;34m(\u001b[0m\u001b[0menv\u001b[0m\u001b[0;34m,\u001b[0m \u001b[0mQ\u001b[0m\u001b[0;34m)\u001b[0m\u001b[0;34m\u001b[0m\u001b[0;34m\u001b[0m\u001b[0m\n\u001b[0m\u001b[1;32m     14\u001b[0m         \u001b[0;31m# Q_hist_Qlearn.append(copy.deepcopy(Q))\u001b[0m\u001b[0;34m\u001b[0m\u001b[0;34m\u001b[0m\u001b[0;34m\u001b[0m\u001b[0m\n\u001b[1;32m     15\u001b[0m         \u001b[0;32mif\u001b[0m \u001b[0mn\u001b[0m \u001b[0;34m%\u001b[0m \u001b[0;36m25000\u001b[0m \u001b[0;34m==\u001b[0m \u001b[0;36m0\u001b[0m \u001b[0;32mand\u001b[0m \u001b[0mtrack_history\u001b[0m\u001b[0;34m:\u001b[0m\u001b[0;34m\u001b[0m\u001b[0;34m\u001b[0m\u001b[0m\n",
      "\u001b[0;32m<ipython-input-85-a34fcf8dde1f>\u001b[0m in \u001b[0;36mcompute_policy_by_Q\u001b[0;34m(env, Q, gamma)\u001b[0m\n\u001b[1;32m      1\u001b[0m \u001b[0;32mdef\u001b[0m \u001b[0mcompute_policy_by_Q\u001b[0m\u001b[0;34m(\u001b[0m\u001b[0menv\u001b[0m\u001b[0;34m,\u001b[0m \u001b[0mQ\u001b[0m\u001b[0;34m,\u001b[0m \u001b[0mgamma\u001b[0m\u001b[0;34m=\u001b[0m\u001b[0;36m1.0\u001b[0m\u001b[0;34m)\u001b[0m\u001b[0;34m:\u001b[0m\u001b[0;34m\u001b[0m\u001b[0;34m\u001b[0m\u001b[0m\n\u001b[0;32m----> 2\u001b[0;31m     \u001b[0;32mreturn\u001b[0m \u001b[0;34m{\u001b[0m\u001b[0mkey\u001b[0m\u001b[0;34m:\u001b[0m \u001b[0mnp\u001b[0m\u001b[0;34m.\u001b[0m\u001b[0margmax\u001b[0m\u001b[0;34m(\u001b[0m\u001b[0mvalue\u001b[0m\u001b[0;34m)\u001b[0m \u001b[0;32mfor\u001b[0m \u001b[0mkey\u001b[0m\u001b[0;34m,\u001b[0m \u001b[0mvalue\u001b[0m \u001b[0;32min\u001b[0m \u001b[0mQ\u001b[0m\u001b[0;34m.\u001b[0m\u001b[0mitems\u001b[0m\u001b[0;34m(\u001b[0m\u001b[0;34m)\u001b[0m\u001b[0;34m}\u001b[0m\u001b[0;34m\u001b[0m\u001b[0;34m\u001b[0m\u001b[0m\n\u001b[0m",
      "\u001b[0;32m<ipython-input-85-a34fcf8dde1f>\u001b[0m in \u001b[0;36m<dictcomp>\u001b[0;34m(.0)\u001b[0m\n\u001b[1;32m      1\u001b[0m \u001b[0;32mdef\u001b[0m \u001b[0mcompute_policy_by_Q\u001b[0m\u001b[0;34m(\u001b[0m\u001b[0menv\u001b[0m\u001b[0;34m,\u001b[0m \u001b[0mQ\u001b[0m\u001b[0;34m,\u001b[0m \u001b[0mgamma\u001b[0m\u001b[0;34m=\u001b[0m\u001b[0;36m1.0\u001b[0m\u001b[0;34m)\u001b[0m\u001b[0;34m:\u001b[0m\u001b[0;34m\u001b[0m\u001b[0;34m\u001b[0m\u001b[0m\n\u001b[0;32m----> 2\u001b[0;31m     \u001b[0;32mreturn\u001b[0m \u001b[0;34m{\u001b[0m\u001b[0mkey\u001b[0m\u001b[0;34m:\u001b[0m \u001b[0mnp\u001b[0m\u001b[0;34m.\u001b[0m\u001b[0margmax\u001b[0m\u001b[0;34m(\u001b[0m\u001b[0mvalue\u001b[0m\u001b[0;34m)\u001b[0m \u001b[0;32mfor\u001b[0m \u001b[0mkey\u001b[0m\u001b[0;34m,\u001b[0m \u001b[0mvalue\u001b[0m \u001b[0;32min\u001b[0m \u001b[0mQ\u001b[0m\u001b[0;34m.\u001b[0m\u001b[0mitems\u001b[0m\u001b[0;34m(\u001b[0m\u001b[0;34m)\u001b[0m\u001b[0;34m}\u001b[0m\u001b[0;34m\u001b[0m\u001b[0;34m\u001b[0m\u001b[0m\n\u001b[0m",
      "\u001b[0;32m<__array_function__ internals>\u001b[0m in \u001b[0;36margmax\u001b[0;34m(*args, **kwargs)\u001b[0m\n",
      "\u001b[0;32m~/miniconda3/envs/2_ml/lib/python3.7/site-packages/numpy/core/fromnumeric.py\u001b[0m in \u001b[0;36margmax\u001b[0;34m(a, axis, out)\u001b[0m\n\u001b[1;32m   1184\u001b[0m \u001b[0;34m\u001b[0m\u001b[0m\n\u001b[1;32m   1185\u001b[0m     \"\"\"\n\u001b[0;32m-> 1186\u001b[0;31m     \u001b[0;32mreturn\u001b[0m \u001b[0m_wrapfunc\u001b[0m\u001b[0;34m(\u001b[0m\u001b[0ma\u001b[0m\u001b[0;34m,\u001b[0m \u001b[0;34m'argmax'\u001b[0m\u001b[0;34m,\u001b[0m \u001b[0maxis\u001b[0m\u001b[0;34m=\u001b[0m\u001b[0maxis\u001b[0m\u001b[0;34m,\u001b[0m \u001b[0mout\u001b[0m\u001b[0;34m=\u001b[0m\u001b[0mout\u001b[0m\u001b[0;34m)\u001b[0m\u001b[0;34m\u001b[0m\u001b[0;34m\u001b[0m\u001b[0m\n\u001b[0m\u001b[1;32m   1187\u001b[0m \u001b[0;34m\u001b[0m\u001b[0m\n\u001b[1;32m   1188\u001b[0m \u001b[0;34m\u001b[0m\u001b[0m\n",
      "\u001b[0;32m~/miniconda3/envs/2_ml/lib/python3.7/site-packages/numpy/core/fromnumeric.py\u001b[0m in \u001b[0;36m_wrapfunc\u001b[0;34m(obj, method, *args, **kwds)\u001b[0m\n\u001b[1;32m     59\u001b[0m \u001b[0;34m\u001b[0m\u001b[0m\n\u001b[1;32m     60\u001b[0m     \u001b[0;32mtry\u001b[0m\u001b[0;34m:\u001b[0m\u001b[0;34m\u001b[0m\u001b[0;34m\u001b[0m\u001b[0m\n\u001b[0;32m---> 61\u001b[0;31m         \u001b[0;32mreturn\u001b[0m \u001b[0mbound\u001b[0m\u001b[0;34m(\u001b[0m\u001b[0;34m*\u001b[0m\u001b[0margs\u001b[0m\u001b[0;34m,\u001b[0m \u001b[0;34m**\u001b[0m\u001b[0mkwds\u001b[0m\u001b[0;34m)\u001b[0m\u001b[0;34m\u001b[0m\u001b[0;34m\u001b[0m\u001b[0m\n\u001b[0m\u001b[1;32m     62\u001b[0m     \u001b[0;32mexcept\u001b[0m \u001b[0mTypeError\u001b[0m\u001b[0;34m:\u001b[0m\u001b[0;34m\u001b[0m\u001b[0;34m\u001b[0m\u001b[0m\n\u001b[1;32m     63\u001b[0m         \u001b[0;31m# A TypeError occurs if the object does have such a method in its\u001b[0m\u001b[0;34m\u001b[0m\u001b[0;34m\u001b[0m\u001b[0;34m\u001b[0m\u001b[0m\n",
      "\u001b[0;31mKeyboardInterrupt\u001b[0m: "
     ]
    }
   ],
   "source": [
    "env.close()\n",
    "env = gym.make('Blackjack-v0', natural=True)\n",
    "\n",
    "best_alpha, best_epsilon, best_gamma = tuning_params(\n",
    "    env=env,\n",
    "    alpha_values=np.arange(0.002, 0.010, 0.001),\n",
    "    epsilon_values=np.arange(0.05, 0.15, 0.05),\n",
    "    gamma_values=np.arange(0.05, 0.15, 0.05),\n",
    "    train_epochs=100000,\n",
    "    eval_epochs=100000\n",
    ")"
   ]
  },
  {
   "cell_type": "code",
   "execution_count": 283,
   "id": "floral-perception",
   "metadata": {},
   "outputs": [],
   "source": [
    "best_alpha = 0.0050\n",
    "best_epsilon = 0.0500\n",
    "best_gamma = 0.10"
   ]
  },
  {
   "cell_type": "code",
   "execution_count": 284,
   "id": "failing-benjamin",
   "metadata": {},
   "outputs": [
    {
     "name": "stderr",
     "output_type": "stream",
     "text": [
      "100%|██████████| 250001/250001 [00:24<00:00, 10080.97it/s]\n"
     ]
    }
   ],
   "source": [
    "pi, pi_hist = Q_learning(\n",
    "    env, \n",
    "    alpha=best_alpha,\n",
    "    epsilon=best_epsilon, \n",
    "    gamma=best_gamma, \n",
    "    epochs=250001,\n",
    "    track_history=True\n",
    ")"
   ]
  },
  {
   "cell_type": "code",
   "execution_count": 285,
   "id": "unable-selection",
   "metadata": {},
   "outputs": [
    {
     "name": "stderr",
     "output_type": "stream",
     "text": [
      "100%|██████████| 200000/200000 [00:12<00:00, 15883.08it/s]\n",
      "100%|██████████| 200000/200000 [00:14<00:00, 13770.67it/s]\n",
      "100%|██████████| 200000/200000 [00:14<00:00, 13975.18it/s]\n",
      "100%|██████████| 200000/200000 [00:14<00:00, 14167.91it/s]\n",
      "100%|██████████| 200000/200000 [00:13<00:00, 14306.95it/s]\n",
      "100%|██████████| 200000/200000 [00:14<00:00, 14172.58it/s]\n",
      "100%|██████████| 200000/200000 [00:14<00:00, 14214.82it/s]\n",
      "100%|██████████| 200000/200000 [00:14<00:00, 14225.64it/s]\n",
      "100%|██████████| 200000/200000 [00:14<00:00, 14204.45it/s]\n",
      "100%|██████████| 200000/200000 [00:14<00:00, 14174.83it/s]\n",
      "100%|██████████| 200000/200000 [00:14<00:00, 14026.29it/s]\n"
     ]
    },
    {
     "data": {
      "text/plain": [
       "[<matplotlib.lines.Line2D at 0x7feab40a8f10>]"
      ]
     },
     "execution_count": 285,
     "metadata": {},
     "output_type": "execute_result"
    },
    {
     "data": {
      "image/png": "[encoded data removed]",
      "text/plain": [
       "<Figure size 432x288 with 1 Axes>"
      ]
     },
     "metadata": {
      "needs_background": "light"
     },
     "output_type": "display_data"
    }
   ],
   "source": [
    "avg_reward_hist = [avg_reward(env, pi, epochs=200000) for pi in pi_hist]\n",
    "\n",
    "plt.plot(list(range(0, 250001, 25000)), avg_reward_hist)"
   ]
  },
  {
   "cell_type": "markdown",
   "id": "aboriginal-electric",
   "metadata": {},
   "source": [
    "## Часть вторая, удвоенная"
   ]
  },
  {
   "cell_type": "markdown",
   "id": "manufactured-recognition",
   "metadata": {},
   "source": [
    "В базовый блекджек, описанный в предыдущем разделе, обыграть казино вряд ли\n",
    "получится. Но, к счастью, на этом история не заканчивается. Описанные выше правила\n",
    "были упрощёнными, а на самом деле у игрока есть ещё и другие возможности.\n",
    "Реализовывать split может оказаться непросто, поэтому давайте ограничимся удвоением\n",
    "ставки. Итак, у игрока появляется дополнительное действие:\n",
    "* double — удвоить ставку; при этом больше действий делать нельзя, игроку выдаётся ровно одна дополнительная карта, а выигрыш или проигрыш удваивается."
   ]
  },
  {
   "cell_type": "markdown",
   "id": "unique-diesel",
   "metadata": {},
   "source": [
    "### 2.1 Реализуйте новый вариант блекджека на основе окружения Blackjack-v0 из OpenAI Gym, в котором разрешено удвоение ставки."
   ]
  },
  {
   "cell_type": "code",
   "execution_count": 286,
   "id": "least-folks",
   "metadata": {},
   "outputs": [],
   "source": [
    "from gym.envs.toy_text import BlackjackEnv"
   ]
  },
  {
   "cell_type": "code",
   "execution_count": 287,
   "id": "sustained-tunnel",
   "metadata": {},
   "outputs": [],
   "source": [
    "from gym import spaces\n",
    "from gym.utils import seeding\n",
    "\n",
    "\n",
    "def cmp(a, b):\n",
    "    return float(a > b) - float(a < b)\n",
    "\n",
    "\n",
    "# 1 = Ace, 2-10 = Number cards, Jack/Queen/King = 10\n",
    "deck = [1, 2, 3, 4, 5, 6, 7, 8, 9, 10, 10, 10, 10]\n",
    "\n",
    "\n",
    "class DoubleBlackjackEnv(BlackjackEnv):\n",
    "\n",
    "    def __init__(self, natural=False, sab=False):\n",
    "        self.action_space = spaces.Discrete(3)\n",
    "        self.observation_space = spaces.Tuple(\n",
    "            (spaces.Discrete(32), spaces.Discrete(11), spaces.Discrete(2))\n",
    "        )\n",
    "\n",
    "        self.seed()\n",
    "\n",
    "        # Flag to payout 1.5 on a \"natural\" blackjack win, like casino rules\n",
    "        # Ref: http://www.bicyclecards.com/how-to-play/blackjack/\n",
    "        self.natural = natural\n",
    "\n",
    "        # Flag for full agreement with the (Sutton and Barto, 2018) definition. Overrides self.natural\n",
    "        self.sab = sab\n",
    "\n",
    "    def draw_card(self, np_random):\n",
    "        return int(np_random.choice(deck))\n",
    "\n",
    "    def draw_hand(self, np_random):\n",
    "        return [self.draw_card(np_random), self.draw_card(np_random)]\n",
    "\n",
    "    def usable_ace(self, hand):  # Does this hand have a usable ace?\n",
    "        return 1 in hand and sum(hand) + 10 <= 21\n",
    "\n",
    "    def sum_hand(self, hand):  # Return current hand total\n",
    "        if self.usable_ace(hand):\n",
    "            return sum(hand) + 10\n",
    "        return sum(hand)\n",
    "\n",
    "    def is_bust(self, hand):  # Is this hand a bust?\n",
    "        return self.sum_hand(hand) > 21\n",
    "    \n",
    "    def score(self, hand):  # What is the score of this hand (0 if bust)\n",
    "        return 0 if self.is_bust(hand) else self.sum_hand(hand)\n",
    "\n",
    "    def is_natural(self, hand):  # Is this hand a natural blackjack?\n",
    "        return sorted(hand) == [1, 10]\n",
    "\n",
    "    def step(self, action):\n",
    "        assert self.action_space.contains(action)\n",
    "        if action == 2: # double: add a card to players hand and finish game, reward will be doubled\n",
    "            _, reward, done, _ = self.step(action=1) # hit\n",
    "            if not done:\n",
    "                _, reward, done, _ = self.step(action=0) # stick\n",
    "            reward *= 2\n",
    "\n",
    "        elif action == 1: # hit: add a card to players hand and return\n",
    "            self.player.append(self.draw_card(self.np_random))\n",
    "            if self.is_bust(self.player):\n",
    "                done = True\n",
    "                reward = -1.0\n",
    "            else:\n",
    "                done = False\n",
    "                reward = 0.0\n",
    "\n",
    "        else:  # stick: play out the dealers hand, and score\n",
    "            done = True\n",
    "            while self.sum_hand(self.dealer) < 17:\n",
    "                self.dealer.append(self.draw_card(self.np_random))\n",
    "            reward = cmp(self.score(self.player), self.score(self.dealer))\n",
    "            if self.sab and self.is_natural(self.player) and not self.is_natural(self.dealer):\n",
    "                # Player automatically wins. Rules consistent with S&B\n",
    "                reward = 1.0\n",
    "            elif (\n",
    "                not self.sab\n",
    "                and self.natural\n",
    "                and self.is_natural(self.player)\n",
    "                and reward == 1.0\n",
    "            ):\n",
    "                # Natural gives extra points, but doesn't autowin. Legacy implementation\n",
    "                reward = 1.5\n",
    "        return self._get_obs(), reward, done, {}"
   ]
  },
  {
   "cell_type": "markdown",
   "id": "amateur-amendment",
   "metadata": {},
   "source": [
    "### 2.2 Реализуйте метод обучения с подкреплением без модели для этого варианта, постройте графики, аналогичные п.2."
   ]
  },
  {
   "cell_type": "code",
   "execution_count": 288,
   "id": "institutional-guitar",
   "metadata": {},
   "outputs": [],
   "source": [
    "env = DoubleBlackjackEnv(natural=True)"
   ]
  },
  {
   "cell_type": "code",
   "execution_count": 289,
   "id": "medical-karaoke",
   "metadata": {},
   "outputs": [],
   "source": [
    "best_alpha = 0.0050\n",
    "best_epsilon = 0.0500\n",
    "best_gamma = 0.10"
   ]
  },
  {
   "cell_type": "code",
   "execution_count": 290,
   "id": "specified-reverse",
   "metadata": {},
   "outputs": [
    {
     "name": "stderr",
     "output_type": "stream",
     "text": [
      "100%|██████████| 250001/250001 [00:24<00:00, 10055.24it/s]\n"
     ]
    }
   ],
   "source": [
    "pi, pi_hist = Q_learning(\n",
    "    env, \n",
    "    alpha=best_alpha,\n",
    "    epsilon=best_epsilon, \n",
    "    gamma=best_gamma, \n",
    "    epochs=250001,\n",
    "    track_history=True\n",
    ")"
   ]
  },
  {
   "cell_type": "code",
   "execution_count": 291,
   "id": "needed-baking",
   "metadata": {},
   "outputs": [
    {
     "name": "stderr",
     "output_type": "stream",
     "text": [
      "100%|██████████| 200000/200000 [00:12<00:00, 15766.19it/s]\n",
      "100%|██████████| 200000/200000 [00:14<00:00, 13636.15it/s]\n",
      "100%|██████████| 200000/200000 [00:14<00:00, 13965.40it/s]\n",
      "100%|██████████| 200000/200000 [00:14<00:00, 13915.46it/s]\n",
      "100%|██████████| 200000/200000 [00:14<00:00, 13818.82it/s]\n",
      "100%|██████████| 200000/200000 [00:14<00:00, 13900.88it/s]\n",
      "100%|██████████| 200000/200000 [00:14<00:00, 13784.89it/s]\n",
      "100%|██████████| 200000/200000 [00:14<00:00, 13903.19it/s]\n",
      "100%|██████████| 200000/200000 [00:14<00:00, 13921.70it/s]\n",
      "100%|██████████| 200000/200000 [00:14<00:00, 14056.11it/s]\n",
      "100%|██████████| 200000/200000 [00:14<00:00, 13926.54it/s]\n"
     ]
    },
    {
     "data": {
      "text/plain": [
       "[<matplotlib.lines.Line2D at 0x7feab402bcd0>]"
      ]
     },
     "execution_count": 291,
     "metadata": {},
     "output_type": "execute_result"
    },
    {
     "data": {
      "image/png": "[encoded data removed]",
      "text/plain": [
       "<Figure size 432x288 with 1 Axes>"
      ]
     },
     "metadata": {
      "needs_background": "light"
     },
     "output_type": "display_data"
    }
   ],
   "source": [
    "avg_reward_hist = [avg_reward(env, pi, epochs=200000) for pi in pi_hist]\n",
    "\n",
    "plt.plot(list(range(0, 250001, 25000)), avg_reward_hist)"
   ]
  },
  {
   "cell_type": "code",
   "execution_count": null,
   "id": "understood-mining",
   "metadata": {},
   "outputs": [],
   "source": []
  },
  {
   "cell_type": "markdown",
   "id": "appropriate-agriculture",
   "metadata": {},
   "source": [
    "## Часть третья, в главной роли — Дастин Хоффман  \n",
    "А теперь давайте вспомним, как играют в блекджек настоящие профессионалы. Дело в том, что в оффлайн-казино обычно не перемешивают колоду после каждой раздачи — это слишком замедляло бы игру. После раздачи карты просто раздаются дальше с верха колоды до тех пор, пока карт не останется слишком мало, и только тогда колода перемешивается; давайте для определённости считать, что наше казино будет перемешивать колоду, в которой осталось меньше 15 карт.\n",
    "\n",
    "Действительно, если вы будете запоминать, какие карты уже вышли, у вас будет информация о том, какие карты ещё остались, а это позволяет лучше понять, когда нужно удваивать ставку или делать split, а когда лучше не стоит. В настоящем казино могут раздавать карты сразу из нескольких колод, и заслуга Rain Man’а была в том, что он смог считать карты в шести колодах одновременно. Но мы с вами вооружены компьютерами, так что подсчёт можно считать автоматическим."
   ]
  },
  {
   "cell_type": "markdown",
   "id": "unnecessary-underwear",
   "metadata": {},
   "source": [
    "### 3.1 Реализуйте вариант окружения Blackjack-v0 из предыдущей части (с удвоением), в котором игрок имеет возможность “считать карты” в колоде. \n",
    "\n",
    "Это можно сделать разными способами; возможно, вам поможет [статья википедии о блекджеке]( https://ru.wikipedia.org/wiki/%D0%91%D0%BB%D1%8D%D0%BA%D0%B4%D0%B6%D0%B5%D0%BA) (а возможно, и нет)."
   ]
  },
  {
   "cell_type": "code",
   "execution_count": 292,
   "id": "hidden-lighting",
   "metadata": {},
   "outputs": [],
   "source": [
    "# https://ru.wikipedia.org/wiki/Блэкджэк#Подсчёт_карт\n",
    "# \"Половинки\"\n",
    "counting_score = {\n",
    "    1: -2,\n",
    "    2: 1,\n",
    "    3: 2,\n",
    "    4: 2,\n",
    "    5: 3,\n",
    "    6: 2,\n",
    "    7: 1,\n",
    "    8: 0,\n",
    "    9: -1,\n",
    "    10: -2,\n",
    "}"
   ]
  },
  {
   "cell_type": "code",
   "execution_count": 293,
   "id": "indie-terrorist",
   "metadata": {},
   "outputs": [],
   "source": [
    "class CountingBlackjackEnv(DoubleBlackjackEnv):\n",
    "\n",
    "    def __init__(self, natural=False, sab=False, num_decks=4, reshuffle_limit=15):\n",
    "        \n",
    "        self.decks = deck * num_decks\n",
    "        self.counting_max = 11 * num_decks\n",
    "        self.action_space = spaces.Discrete(3)\n",
    "        self.observation_space = spaces.Tuple(\n",
    "            (\n",
    "                spaces.Discrete(32),\n",
    "                spaces.Discrete(11),\n",
    "                spaces.Discrete(2),\n",
    "                spaces.Box(\n",
    "                    -self.counting_max,\n",
    "                    self.counting_max, shape=(1, 1)\n",
    "                )\n",
    "            )\n",
    "        )\n",
    "\n",
    "        self.seed()\n",
    "\n",
    "        # Flag to payout 1.5 on a \"natural\" blackjack win, like casino rules\n",
    "        # Ref: http://www.bicyclecards.com/how-to-play/blackjack/\n",
    "        self.natural = natural\n",
    "\n",
    "        # Flag for full agreement with the (Sutton and Barto, 2018) definition. Overrides self.natural\n",
    "        self.sab = sab\n",
    "\n",
    "        # Active decks for card drawing\n",
    "        self.num_decks = num_decks\n",
    "\n",
    "        # Minimal cards in deck to start reshuffling\n",
    "        self.reshuffle_limit = reshuffle_limit\n",
    "\n",
    "        self.reshuffle_decks()\n",
    "\n",
    "    def draw_card(self, np_random):\n",
    "        card = int(self.decks.pop(np_random.choice(len(self.decks))))\n",
    "        self.count += counting_score[card]\n",
    "        return card\n",
    "\n",
    "    def reshuffle_decks(self):\n",
    "        # Stored decks\n",
    "        self.decks = deck * self.num_decks\n",
    "        # Stored count\n",
    "        self.count = 0\n",
    "\n",
    "    def _get_obs(self):\n",
    "        return (self.sum_hand(self.player), self.dealer[0],\n",
    "                self.usable_ace(self.player), self.count)\n",
    "\n",
    "    def reset(self):\n",
    "        if len(self.decks) < self.reshuffle_limit:\n",
    "            self.reshuffle_decks()\n",
    "        self.dealer = self.draw_hand(self.np_random)\n",
    "        self.player = self.draw_hand(self.np_random)\n",
    "        return self._get_obs()"
   ]
  },
  {
   "cell_type": "markdown",
   "id": "previous-prayer",
   "metadata": {},
   "source": [
    "### 3.2 Реализуйте метод обучения с подкреплением без модели для этого варианта, постройте графики, аналогичные п.2."
   ]
  },
  {
   "cell_type": "code",
   "execution_count": 294,
   "id": "soviet-polymer",
   "metadata": {},
   "outputs": [],
   "source": [
    "env = CountingBlackjackEnv(natural=True)"
   ]
  },
  {
   "cell_type": "code",
   "execution_count": 295,
   "id": "silent-compilation",
   "metadata": {},
   "outputs": [],
   "source": [
    "# в дискретном пространстве состояний можно записать стратегию \n",
    "# как словарь состоягие -> действие\n",
    "\n",
    "states_list = list(\n",
    "    itertools.product(\n",
    "        range(2, 33), # the players current sum, 32 для Q learning !!!!!!!!\n",
    "        range(1, 11), # the dealer's one showing card (1-10 where 1 is ace),\n",
    "        (True, False), # the player holds a usable ace\n",
    "        range(-env.counting_max, env.counting_max) # counting cards\n",
    "    )\n",
    ")\n",
    "\n",
    "states_to_idx = {state: i for i, state in enumerate(states_list)}"
   ]
  },
  {
   "cell_type": "code",
   "execution_count": 296,
   "id": "dominant-murray",
   "metadata": {},
   "outputs": [],
   "source": [
    "best_alpha = 0.0050\n",
    "best_epsilon = 0.0500\n",
    "best_gamma = 0.10"
   ]
  },
  {
   "cell_type": "code",
   "execution_count": 299,
   "id": "upset-cosmetic",
   "metadata": {},
   "outputs": [
    {
     "name": "stderr",
     "output_type": "stream",
     "text": [
      "100%|██████████| 1000001/1000001 [04:50<00:00, 3441.85it/s]\n"
     ]
    }
   ],
   "source": [
    "pi, pi_hist = Q_learning(\n",
    "    env, \n",
    "    alpha=best_alpha,\n",
    "    epsilon=best_epsilon, \n",
    "    gamma=best_gamma, \n",
    "    epochs=1000001,\n",
    "    track_history=True\n",
    ")"
   ]
  },
  {
   "cell_type": "code",
   "execution_count": 300,
   "id": "satellite-discovery",
   "metadata": {},
   "outputs": [
    {
     "name": "stderr",
     "output_type": "stream",
     "text": [
      "100%|██████████| 200000/200000 [00:10<00:00, 18334.35it/s]\n",
      "100%|██████████| 200000/200000 [00:12<00:00, 16176.01it/s]\n",
      "100%|██████████| 200000/200000 [00:12<00:00, 15988.55it/s]\n",
      "100%|██████████| 200000/200000 [00:12<00:00, 16284.35it/s]\n",
      "100%|██████████| 200000/200000 [00:12<00:00, 16206.04it/s]\n",
      "100%|██████████| 200000/200000 [00:12<00:00, 15616.64it/s]\n",
      "100%|██████████| 200000/200000 [00:13<00:00, 14660.56it/s]\n",
      "100%|██████████| 200000/200000 [00:12<00:00, 15582.56it/s]\n",
      "100%|██████████| 200000/200000 [00:13<00:00, 15132.28it/s]\n",
      "100%|██████████| 200000/200000 [00:13<00:00, 14736.80it/s]\n",
      "100%|██████████| 200000/200000 [00:13<00:00, 14909.01it/s]\n",
      "100%|██████████| 200000/200000 [00:13<00:00, 14416.43it/s]\n",
      "100%|██████████| 200000/200000 [00:12<00:00, 15622.24it/s]\n",
      "100%|██████████| 200000/200000 [00:12<00:00, 15880.25it/s]\n",
      "100%|██████████| 200000/200000 [00:12<00:00, 16039.70it/s]\n",
      "100%|██████████| 200000/200000 [00:12<00:00, 16145.14it/s]\n",
      "100%|██████████| 200000/200000 [00:12<00:00, 16170.37it/s]\n",
      "100%|██████████| 200000/200000 [00:12<00:00, 16014.69it/s]\n",
      "100%|██████████| 200000/200000 [00:12<00:00, 16016.56it/s]\n",
      "100%|██████████| 200000/200000 [00:12<00:00, 15862.60it/s]\n",
      "100%|██████████| 200000/200000 [00:12<00:00, 16045.81it/s]\n",
      "100%|██████████| 200000/200000 [00:12<00:00, 15832.75it/s]\n",
      "100%|██████████| 200000/200000 [00:12<00:00, 15936.00it/s]\n",
      "100%|██████████| 200000/200000 [00:12<00:00, 15920.39it/s]\n",
      "100%|██████████| 200000/200000 [00:12<00:00, 15944.41it/s]\n",
      "100%|██████████| 200000/200000 [00:12<00:00, 16014.28it/s]\n",
      "100%|██████████| 200000/200000 [00:12<00:00, 15795.73it/s]\n",
      "100%|██████████| 200000/200000 [00:12<00:00, 15833.32it/s]\n",
      "100%|██████████| 200000/200000 [00:12<00:00, 15734.15it/s]\n",
      "100%|██████████| 200000/200000 [00:12<00:00, 15809.45it/s]\n",
      "100%|██████████| 200000/200000 [00:12<00:00, 15913.82it/s]\n",
      "100%|██████████| 200000/200000 [00:12<00:00, 16066.34it/s]\n",
      "100%|██████████| 200000/200000 [00:12<00:00, 15776.81it/s]\n",
      "100%|██████████| 200000/200000 [00:12<00:00, 15928.13it/s]\n",
      "100%|██████████| 200000/200000 [00:12<00:00, 15822.89it/s]\n",
      "100%|██████████| 200000/200000 [00:12<00:00, 16059.20it/s]\n",
      "100%|██████████| 200000/200000 [00:12<00:00, 15598.26it/s]\n",
      "100%|██████████| 200000/200000 [00:12<00:00, 15913.34it/s]\n",
      "100%|██████████| 200000/200000 [00:12<00:00, 16316.47it/s]\n",
      "100%|██████████| 200000/200000 [00:12<00:00, 16293.77it/s]\n",
      "100%|██████████| 200000/200000 [00:12<00:00, 16001.07it/s]\n"
     ]
    },
    {
     "data": {
      "text/plain": [
       "[<matplotlib.lines.Line2D at 0x7feab388a8d0>]"
      ]
     },
     "execution_count": 300,
     "metadata": {},
     "output_type": "execute_result"
    },
    {
     "data": {
      "image/png": "[encoded data removed]",
      "text/plain": [
       "<Figure size 432x288 with 1 Axes>"
      ]
     },
     "metadata": {
      "needs_background": "light"
     },
     "output_type": "display_data"
    }
   ],
   "source": [
    "avg_reward_hist = [avg_reward(env, pi, epochs=200000) for pi in pi_hist]\n",
    "\n",
    "plt.plot(list(range(0, 1000001, 25000)), avg_reward_hist)"
   ]
  },
  {
   "cell_type": "code",
   "execution_count": null,
   "id": "southeast-ceramic",
   "metadata": {},
   "outputs": [],
   "source": []
  }
 ],
 "metadata": {
  "kernelspec": {
   "display_name": "Python 3",
   "language": "python",
   "name": "python3"
  },
  "language_info": {
   "codemirror_mode": {
    "name": "ipython",
    "version": 3
   },
   "file_extension": ".py",
   "mimetype": "text/x-python",
   "name": "python",
   "nbconvert_exporter": "python",
   "pygments_lexer": "ipython3",
   "version": "3.7.9"
  }
 },
 "nbformat": 4,
 "nbformat_minor": 5
}

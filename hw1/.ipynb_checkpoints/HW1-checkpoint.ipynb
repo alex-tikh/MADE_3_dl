{
 "cells": [
  {
   "cell_type": "code",
   "execution_count": 1,
   "id": "arranged-refrigerator",
   "metadata": {},
   "outputs": [],
   "source": [
    "import gym\n",
    "from collections import defaultdict"
   ]
  },
  {
   "cell_type": "code",
   "execution_count": 2,
   "id": "coastal-dispatch",
   "metadata": {},
   "outputs": [],
   "source": [
    "import numpy as np\n",
    "import itertools"
   ]
  },
  {
   "cell_type": "code",
   "execution_count": 3,
   "id": "naval-chorus",
   "metadata": {},
   "outputs": [],
   "source": [
    "env = gym.make('Blackjack-v0', natural=True)"
   ]
  },
  {
   "cell_type": "code",
   "execution_count": null,
   "id": "documentary-cowboy",
   "metadata": {},
   "outputs": [],
   "source": []
  },
  {
   "cell_type": "code",
   "execution_count": 4,
   "id": "fewer-fleet",
   "metadata": {},
   "outputs": [
    {
     "name": "stdout",
     "output_type": "stream",
     "text": [
      "observation: (15, 10, False)\n",
      "observation: (16, 10, False), reward: 0.0, done: False\n",
      "observation: (18, 10, False), reward: 0.0, done: False\n",
      "observation: (22, 10, False), reward: -1.0, done: True\n"
     ]
    }
   ],
   "source": [
    "observation = env.reset()\n",
    "print(f'observation: {observation}')\n",
    "done = False\n",
    "while not done:\n",
    "    if observation[0] < 19:\n",
    "        observation, reward, done, _ = env.step(1)\n",
    "        print(f\"observation: {observation}, reward: {reward}, done: {done}\")\n",
    "    else:\n",
    "        observation, reward, done, _ = env.step(0)\n",
    "        print(f\"observation: {observation}, reward: {reward}, done: {done}\")\n",
    "    "
   ]
  },
  {
   "cell_type": "code",
   "execution_count": 5,
   "id": "dietary-glasgow",
   "metadata": {},
   "outputs": [],
   "source": [
    "def run_episode(env, pi, eps=.01):\n",
    "    observation = env.reset()\n",
    "    states, rewards, actions = [], [], []\n",
    "    done = False\n",
    "    \n",
    "    while not done:\n",
    "        # epsilon policy\n",
    "        action = pi[observation] if np.random.rand() > eps else env.action_space.sample()\n",
    "        states.append(observation)\n",
    "        actions.append(action)\n",
    "        observation, reward, done, _ = env.step(action)\n",
    "        rewards.append(reward)\n",
    "\n",
    "    return states, rewards, actions"
   ]
  },
  {
   "cell_type": "code",
   "execution_count": 6,
   "id": "furnished-tiger",
   "metadata": {},
   "outputs": [],
   "source": [
    "# в дискретном пространстве состояний можно записать стратегию \n",
    "# как словарь состоягие -> действие\n",
    "\n",
    "states_list = list(\n",
    "    itertools.product(\n",
    "        range(2, 22), # the players current sum,\n",
    "        range(1, 11), # the dealer's one showing card (1-10 where 1 is ace),\n",
    "        (True, False) # the player holds a usable ace\n",
    "    )\n",
    ")"
   ]
  },
  {
   "cell_type": "code",
   "execution_count": 7,
   "id": "employed-guard",
   "metadata": {},
   "outputs": [],
   "source": [
    "# если сумма меньше 19, то hit\n",
    "pi = {\n",
    "    state: int(state[0] < 19)\n",
    "    for state in states_list\n",
    "}"
   ]
  },
  {
   "cell_type": "code",
   "execution_count": 8,
   "id": "practical-korea",
   "metadata": {},
   "outputs": [],
   "source": [
    "def avg_reward(env, pi, epochs=100000):\n",
    "    sum_reward = 0\n",
    "    cnt = 0\n",
    "    for _ in range(epochs):\n",
    "        cnt += 1\n",
    "        states, rewards, actions = run_episode(env, pi, eps=0.)\n",
    "        sum_reward += rewards[-1]\n",
    "    return sum_reward / cnt"
   ]
  },
  {
   "cell_type": "code",
   "execution_count": 9,
   "id": "related-experience",
   "metadata": {},
   "outputs": [
    {
     "data": {
      "text/plain": [
       "-0.17862"
      ]
     },
     "execution_count": 9,
     "metadata": {},
     "output_type": "execute_result"
    }
   ],
   "source": [
    "avg_reward(env, pi)"
   ]
  },
  {
   "cell_type": "code",
   "execution_count": 20,
   "id": "danish-hardwood",
   "metadata": {},
   "outputs": [],
   "source": [
    "def get_random_Q(env):\n",
    "    # инициализируем случайным образом\n",
    "    Q = {\n",
    "        state: np.zeros(env.action_space.n) #np.random.random(env.action_space.n)\n",
    "        for state in states_list\n",
    "    }\n",
    "    for state in states_list:\n",
    "        if state[0] == 21:\n",
    "            Q[state] = np.zeros(env.action_space.n)   \n",
    "    return Q"
   ]
  },
  {
   "cell_type": "code",
   "execution_count": 21,
   "id": "stopped-difference",
   "metadata": {
    "scrolled": false
   },
   "outputs": [],
   "source": [
    "def compute_policy_by_Q(env, Q, gamma=1.0):\n",
    "    return {key: np.argmax(value) for key, value in Q.items()}"
   ]
  },
  {
   "cell_type": "code",
   "execution_count": 22,
   "id": "defined-angel",
   "metadata": {},
   "outputs": [],
   "source": [
    "def Q_learning_episode(env, pi, Q, alpha=0.05, epsilon=0.0, gamma=0.9):\n",
    "    observation = env.reset()\n",
    "    done = False\n",
    "    while not done:\n",
    "        a = pi[observation] if np.random.rand() > epsilon else env.action_space.sample()\n",
    "        observation_prime, reward, done, _ = env.step(a)\n",
    "        # если на следующем ходу проигрыш, то выходим\n",
    "        if done:\n",
    "            break\n",
    "        Q[observation][a] = Q[observation][a] + alpha * (reward + gamma * np.max( Q[observation_prime] ) - Q[observation][a])\n",
    "        observation = observation_prime"
   ]
  },
  {
   "cell_type": "code",
   "execution_count": 23,
   "id": "wired-thread",
   "metadata": {},
   "outputs": [],
   "source": [
    "import copy"
   ]
  },
  {
   "cell_type": "code",
   "execution_count": 24,
   "id": "congressional-deviation",
   "metadata": {},
   "outputs": [],
   "source": [
    "total_episodes = 100000\n",
    "gamma = 0.9\n",
    "\n",
    "Q_hist_Qlearn = [ ]\n",
    "pi_hist = []\n",
    "\n",
    "Q = get_random_Q(env)\n",
    "pi = compute_policy_by_Q(env, Q)\n",
    "\n",
    "for n in range(total_episodes):\n",
    "    Q_learning_episode(env, pi, Q, alpha=0.01, epsilon= 0.9, gamma=gamma)\n",
    "    pi = compute_policy_by_Q(env, Q)\n",
    "    # Q_hist_Qlearn.append(copy.deepcopy(Q))\n",
    "    # pi_hist.append(copy.deepcopy(pi))"
   ]
  },
  {
   "cell_type": "code",
   "execution_count": 25,
   "id": "hundred-person",
   "metadata": {},
   "outputs": [
    {
     "data": {
      "text/plain": [
       "-0.167975"
      ]
     },
     "execution_count": 25,
     "metadata": {},
     "output_type": "execute_result"
    }
   ],
   "source": [
    "avg_reward(env, pi)"
   ]
  },
  {
   "cell_type": "code",
   "execution_count": null,
   "id": "durable-bottle",
   "metadata": {},
   "outputs": [],
   "source": [
    "avg_reward_hist = [avg_reward(env, pi) for pi in pi_hist]"
   ]
  },
  {
   "cell_type": "code",
   "execution_count": null,
   "id": "invisible-kenya",
   "metadata": {},
   "outputs": [],
   "source": []
  },
  {
   "cell_type": "code",
   "execution_count": null,
   "id": "universal-andrews",
   "metadata": {},
   "outputs": [],
   "source": []
  }
 ],
 "metadata": {
  "kernelspec": {
   "display_name": "Python 3",
   "language": "python",
   "name": "python3"
  },
  "language_info": {
   "codemirror_mode": {
    "name": "ipython",
    "version": 3
   },
   "file_extension": ".py",
   "mimetype": "text/x-python",
   "name": "python",
   "nbconvert_exporter": "python",
   "pygments_lexer": "ipython3",
   "version": "3.7.9"
  }
 },
 "nbformat": 4,
 "nbformat_minor": 5
}

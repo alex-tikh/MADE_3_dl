{
 "cells": [
  {
   "cell_type": "code",
   "execution_count": 50,
   "id": "3dc01b2c",
   "metadata": {},
   "outputs": [],
   "source": [
    "import numpy as np\n",
    "from collections import defaultdict\n",
    "from tic_tac_toe import TicTacToe, plot_test_game"
   ]
  },
  {
   "cell_type": "code",
   "execution_count": 47,
   "id": "def976df",
   "metadata": {
    "scrolled": false
   },
   "outputs": [],
   "source": [
    "env = TicTacToe(n_rows=4, n_cols=4, n_win=3)\n",
    "# plot_test_game(env, None, None, random_crosses=True, random_naughts=True, verbose=True, fontx=60)"
   ]
  },
  {
   "cell_type": "code",
   "execution_count": null,
   "id": "d55db0bb",
   "metadata": {},
   "outputs": [],
   "source": [
    "class RandomPolicy:\n",
    "    def __init__(self):\n",
    "        pass\n",
    "    \n",
    "    def get_action(self, state):\n",
    "        _, empty_spaces, _ = state\n",
    "        return np.random.randint(len(empty_spaces))"
   ]
  },
  {
   "cell_type": "code",
   "execution_count": 48,
   "id": "5166639e",
   "metadata": {},
   "outputs": [
    {
     "data": {
      "text/plain": [
       "'1111111111111111'"
      ]
     },
     "execution_count": 48,
     "metadata": {},
     "output_type": "execute_result"
    }
   ],
   "source": [
    "env.getHash()"
   ]
  },
  {
   "cell_type": "code",
   "execution_count": 51,
   "id": "1d529841",
   "metadata": {},
   "outputs": [],
   "source": [
    "Q = defaultdict(lambda: np.zeros(len(empty_spaces)))"
   ]
  },
  {
   "cell_type": "code",
   "execution_count": 53,
   "id": "b32706b0",
   "metadata": {},
   "outputs": [
    {
     "ename": "NameError",
     "evalue": "name 'empty_spaces' is not defined",
     "output_type": "error",
     "traceback": [
      "\u001b[0;31m---------------------------------------------------------------------------\u001b[0m",
      "\u001b[0;31mNameError\u001b[0m                                 Traceback (most recent call last)",
      "\u001b[0;32m/tmp/ipykernel_35653/726045478.py\u001b[0m in \u001b[0;36m<module>\u001b[0;34m\u001b[0m\n\u001b[0;32m----> 1\u001b[0;31m \u001b[0mQ\u001b[0m\u001b[0;34m[\u001b[0m\u001b[0;34m'1111111111111111'\u001b[0m\u001b[0;34m]\u001b[0m\u001b[0;34m\u001b[0m\u001b[0;34m\u001b[0m\u001b[0m\n\u001b[0m",
      "\u001b[0;32m/tmp/ipykernel_35653/3310912519.py\u001b[0m in \u001b[0;36m<lambda>\u001b[0;34m()\u001b[0m\n\u001b[0;32m----> 1\u001b[0;31m \u001b[0mQ\u001b[0m \u001b[0;34m=\u001b[0m \u001b[0mdefaultdict\u001b[0m\u001b[0;34m(\u001b[0m\u001b[0;32mlambda\u001b[0m\u001b[0;34m:\u001b[0m \u001b[0mnp\u001b[0m\u001b[0;34m.\u001b[0m\u001b[0mzeros\u001b[0m\u001b[0;34m(\u001b[0m\u001b[0mlen\u001b[0m\u001b[0;34m(\u001b[0m\u001b[0mempty_spaces\u001b[0m\u001b[0;34m)\u001b[0m\u001b[0;34m)\u001b[0m\u001b[0;34m)\u001b[0m\u001b[0;34m\u001b[0m\u001b[0;34m\u001b[0m\u001b[0m\n\u001b[0m",
      "\u001b[0;31mNameError\u001b[0m: name 'empty_spaces' is not defined"
     ]
    }
   ],
   "source": [
    "Q['1111111111111111']"
   ]
  },
  {
   "cell_type": "code",
   "execution_count": null,
   "id": "b44e0adf",
   "metadata": {},
   "outputs": [],
   "source": [
    "class EpsGreedyPolicy:\n",
    "    def __init__(self):\n",
    "        self.Q = {}\n",
    "\n",
    "    def select_action(self, state, player: int = None, eps: float = 0.0):\n",
    "        board_hash, empty_spaces, _ = state\n",
    "\n",
    "        if random.random() >= eps and board_hash in self.Q:\n",
    "            return np.argmax(self.Q[board_hash])\n",
    "\n",
    "        if board_hash not in self.Q:\n",
    "            self.Q[board_hash] = np.zeros(len(empty_spaces))\n",
    "\n",
    "        return np.random.randint(len(empty_spaces))"
   ]
  },
  {
   "cell_type": "code",
   "execution_count": 36,
   "id": "97be3d40",
   "metadata": {},
   "outputs": [
    {
     "name": "stdout",
     "output_type": "stream",
     "text": [
      "╭───┬───┬───┬───╮\n",
      "│ o │ x │ x │ x │ \n",
      "├───┼───┼───┼───┤\n",
      "│ o │   │ x │   │ \n",
      "├───┼───┼───┼───┤\n",
      "│   │   │   │   │ \n",
      "├───┼───┼───┼───┤\n",
      "│   │   │ o │   │ \n",
      "╰───┴───┴───┴───╯\n"
     ]
    }
   ],
   "source": [
    "env.printBoard()"
   ]
  },
  {
   "cell_type": "code",
   "execution_count": null,
   "id": "1bac750d",
   "metadata": {},
   "outputs": [],
   "source": []
  },
  {
   "cell_type": "code",
   "execution_count": null,
   "id": "71df046c",
   "metadata": {},
   "outputs": [],
   "source": []
  }
 ],
 "metadata": {
  "kernelspec": {
   "display_name": "Python 3 (ipykernel)",
   "language": "python",
   "name": "python3"
  },
  "language_info": {
   "codemirror_mode": {
    "name": "ipython",
    "version": 3
   },
   "file_extension": ".py",
   "mimetype": "text/x-python",
   "name": "python",
   "nbconvert_exporter": "python",
   "pygments_lexer": "ipython3",
   "version": "3.9.7"
  }
 },
 "nbformat": 4,
 "nbformat_minor": 5
}
